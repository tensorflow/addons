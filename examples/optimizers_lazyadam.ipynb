{
  "nbformat": 4,
  "nbformat_minor": 0,
  "metadata": {
    "colab": {
      "name": "optimizers_lazyadam.ipynb",
      "version": "0.3.2",
      "provenance": [],
      "collapsed_sections": []
    },
    "kernelspec": {
      "name": "python3",
      "language": "python",
      "display_name": "Python 3"
    },
    "accelerator": "GPU"
  },
  "cells": [
    {
      "metadata": {
        "colab_type": "text",
        "id": "Tce3stUlHN0L",
        "pycharm": {}
      },
      "cell_type": "markdown",
      "source": [
        "##### Copyright 2019 The TensorFlow Authors.\n",
        "\n"
      ]
    },
    {
      "metadata": {
        "colab_type": "code",
        "id": "tuOe1ymfHZPu",
        "cellView": "form",
        "colab": {},
        "pycharm": {}
      },
      "cell_type": "code",
      "source": [
        "#@title Licensed under the Apache License, Version 2.0\n",
        "# you may not use this file except in compliance with the License.\n",
        "# You may obtain a copy of the License at\n",
        "#\n",
        "# https://www.apache.org/licenses/LICENSE-2.0\n",
        "#\n",
        "# Unless required by applicable law or agreed to in writing, software\n",
        "# distributed under the License is distributed on an \"AS IS\" BASIS,\n",
        "# WITHOUT WARRANTIES OR CONDITIONS OF ANY KIND, either express or implied.\n",
        "# See the License for the specific language governing permissions and\n",
        "# limitations under the License."
      ],
      "execution_count": 0,
      "outputs": []
    },
    {
      "metadata": {
        "colab_type": "text",
        "id": "MfBg1C5NB3X0",
        "pycharm": {}
      },
      "cell_type": "markdown",
      "source": [
        "# TensorFlow Addons Optimizers: LazyAdam\n",
        "\n",
        "\u003ctable class\u003d\"tfo-notebook-buttons\" align\u003d\"left\"\u003e\n",
        "  \u003ctd\u003e\n",
        "    \u003ca target\u003d\"_blank\" href\u003d\"https://colab.research.google.com/github/tensorflow/addons/blob/master/examples/optimizers_lazyadam.ipynb\"\u003e\u003cimg src\u003d\"https://www.tensorflow.org/images/colab_logo_32px.png\" /\u003eRun in Google Colab\u003c/a\u003e\n",
        "  \u003c/td\u003e\n",
        "  \u003ctd\u003e\n",
        "    \u003ca target\u003d\"_blank\" href\u003d\"https://github.com/tensorflow/addons/blob/master/examples/optimizers_lazyadam.ipynb\"\u003e\u003cimg src\u003d\"https://www.tensorflow.org/images/GitHub-Mark-32px.png\" /\u003eView source on GitHub\u003c/a\u003e\n",
        "  \u003c/td\u003e\n",
        "\u003c/table\u003e"
      ]
    },
    {
      "metadata": {
        "colab_type": "text",
        "id": "xHxb-dlhMIzW",
        "pycharm": {}
      },
      "cell_type": "markdown",
      "source": [
        "# Overview\n",
        "\n",
        "This notebook will demonstrate how to use the lazy adam optimizer from the Addons package.\n"
      ]
    },
    {
      "metadata": {
        "id": "bQwBbFVAyHJ_",
        "colab_type": "text",
        "pycharm": {}
      },
      "cell_type": "markdown",
      "source": "# LazyAdam\n\n\u003e LazyAdam is a variant of the Adam optimizer that handles sparse updates more efficiently.\n    The original Adam algorithm maintains two moving-average accumulators for\n    each trainable variable; the accumulators are updated at every step.\n    This class provides lazier handling of gradient updates for sparse\n    variables.  It only updates moving-average accumulators for sparse variable\n    indices that appear in the current batch, rather than updating the\n    accumulators for all indices. Compared with the original Adam optimizer,\n    it can provide large improvements in model training throughput for some\n    applications. However, it provides slightly different semantics than the\n    original Adam algorithm, and may lead to different empirical results."
    },
    {
      "metadata": {
        "colab_type": "text",
        "id": "MUXex9ctTuDB",
        "pycharm": {}
      },
      "cell_type": "markdown",
      "source": [
        "## Setup"
      ]
    },
    {
      "metadata": {
        "colab_type": "code",
        "id": "IqR2PQG4ZaZ0",
        "colab": {},
        "pycharm": {}
      },
      "cell_type": "code",
      "source": "!pip install tensorflow-gpu\u003d\u003d2.0.0-beta1\n!pip install tensorflow-addons\nfrom __future__ import absolute_import, division, print_function, unicode_literals\n\nimport tensorflow as tf\nimport tensorflow_addons as tfa\nimport tensorflow_datasets as tfds\nimport numpy as np\nfrom matplotlib import pyplot as plt",
      "execution_count": 0,
      "outputs": []
    },
    {
      "metadata": {
        "id": "ys65MwOLKnXq",
        "colab_type": "code",
        "colab": {},
        "pycharm": {}
      },
      "cell_type": "code",
      "source": [
        "# Hyperparameters\n",
        "batch_size\u003d64\n",
        "epochs\u003d10"
      ],
      "execution_count": 0,
      "outputs": []
    },
    {
      "metadata": {
        "id": "KR01t9v_fxbT",
        "colab_type": "text",
        "pycharm": {}
      },
      "cell_type": "markdown",
      "source": [
        "# Build the Model"
      ]
    },
    {
      "metadata": {
        "id": "djpoAvfWNyL5",
        "colab_type": "code",
        "colab": {},
        "pycharm": {}
      },
      "cell_type": "code",
      "source": [
        "model \u003d tf.keras.Sequential([\n",
        "    tf.keras.layers.Dense(64, input_shape\u003d(784,), activation\u003d\u0027relu\u0027, name\u003d\u0027dense_1\u0027),\n",
        "    tf.keras.layers.Dense(64, activation\u003d\u0027relu\u0027, name\u003d\u0027dense_2\u0027),\n",
        "    tf.keras.layers.Dense(10, activation\u003d\u0027softmax\u0027, name\u003d\u0027predictions\u0027),\n",
        "])"
      ],
      "execution_count": 0,
      "outputs": []
    },
    {
      "metadata": {
        "id": "0_D7CZqkv_Hj",
        "colab_type": "text",
        "pycharm": {}
      },
      "cell_type": "markdown",
      "source": [
        "# Prep the Data"
      ]
    },
    {
      "metadata": {
        "id": "U0bS3SyowBoB",
        "colab_type": "code",
        "colab": {},
        "pycharm": {}
      },
      "cell_type": "code",
      "source": [
        "# Load MNIST dataset as NumPy arrays\n",
        "dataset \u003d {}\n",
        "num_validation \u003d 10000\n",
        "(x_train, y_train), (x_test, y_test) \u003d tf.keras.datasets.mnist.load_data()\n",
        "\n",
        "# Preprocess the data\n",
        "x_train \u003d x_train.reshape(-1, 784).astype(\u0027float32\u0027) / 255\n",
        "x_test \u003d x_test.reshape(-1, 784).astype(\u0027float32\u0027) / 255"
      ],
      "execution_count": 0,
      "outputs": []
    },
    {
      "metadata": {
        "id": "HYE-BxhOzFQp",
        "colab_type": "text",
        "pycharm": {}
      },
      "cell_type": "markdown",
      "source": [
        "# Train and Evaluate\n",
        "\n",
        "Simply replace typical keras optimizers with the new tfa optimizer "
      ]
    },
    {
      "metadata": {
        "id": "NxfYhtiSzHf-",
        "colab_type": "code",
        "colab": {},
        "pycharm": {}
      },
      "cell_type": "code",
      "source": [
        "# Compile the model\n",
        "model.compile(\n",
        "    optimizer\u003dtfa.optimizers.LazyAdam(0.001),  # Utilize TFA optimizer\n",
        "    loss\u003dtf.keras.losses.SparseCategoricalCrossentropy(),\n",
        "    metrics\u003d[\u0027accuracy\u0027])\n",
        "\n",
        "# Train the network\n",
        "history \u003d model.fit(\n",
        "    x_train,\n",
        "    y_train,\n",
        "    batch_size\u003dbatch_size,\n",
        "    epochs\u003depochs)\n"
      ],
      "execution_count": 0,
      "outputs": []
    },
    {
      "metadata": {
        "id": "1Y--0tK69SXf",
        "colab_type": "code",
        "outputId": "163a7751-e35b-4d9f-cc07-1f8580bdf6bf",
        "colab": {
          "base_uri": "https://localhost:8080/",
          "height": 68
        },
        "pycharm": {}
      },
      "cell_type": "code",
      "source": [
        "# Evaluate the network\n",
        "print(\u0027Evaluate on test data:\u0027)\n",
        "results \u003d model.evaluate(x_test, y_test, batch_size\u003d128)\n",
        "print(\u0027Test loss \u003d {0}, Test acc: {1}\u0027.format(results[0], results[1]))"
      ],
      "execution_count": 9,
      "outputs": [
        {
          "output_type": "stream",
          "text": [
            "Evaluate on test data:\n",
            "10000/10000 [\u003d\u003d\u003d\u003d\u003d\u003d\u003d\u003d\u003d\u003d\u003d\u003d\u003d\u003d\u003d\u003d\u003d\u003d\u003d\u003d\u003d\u003d\u003d\u003d\u003d\u003d\u003d\u003d\u003d\u003d] - 0s 21us/sample - loss: 0.0884 - accuracy: 0.9752\n",
            "Test loss \u003d 0.08840992146739736, Test acc: 0.9751999974250793\n"
          ],
          "name": "stdout"
        }
      ]
    }
  ]
}