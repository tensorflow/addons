{
  "nbformat": 4,
  "nbformat_minor": 0,
  "metadata": {
    "colab": {
      "name": "optimizers_conditionalgradient.ipynb",
      "provenance": [],
      "collapsed_sections": [],
      "include_colab_link": true
    },
    "kernelspec": {
      "name": "python3",
      "display_name": "Python 3"
    },
    "accelerator": "GPU"
  },
  "cells": [
    {
      "cell_type": "markdown",
      "metadata": {
        "id": "view-in-github",
        "colab_type": "text"
      },
      "source": [
        "<a href=\"https://colab.research.google.com/github/pkan2/addons/blob/master/tree/master/docs/tutorials/optimizers_conditionalgradient.ipynb\" target=\"_parent\"><img src=\"https://colab.research.google.com/assets/colab-badge.svg\" alt=\"Open In Colab\"/></a>"
      ]
    },
    {
      "cell_type": "markdown",
      "metadata": {
        "id": "pGUYKbJNWNgj",
        "colab_type": "text"
      },
      "source": [
        "##### Copyright 2019 The TensorFlow Authors."
      ]
    },
    {
      "cell_type": "code",
      "metadata": {
        "id": "1PzPJglSWgnW",
        "colab_type": "code",
        "colab": {}
      },
      "source": [
        "#@title Licensed under the Apache License, Version 2.0\n",
        "# you may not use this file except in compliance with the License.\n",
        "# You may obtain a copy of the License at\n",
        "#\n",
        "# https://www.apache.org/licenses/LICENSE-2.0\n",
        "#\n",
        "# Unless required by applicable law or agreed to in writing, software\n",
        "# distributed under the License is distributed on an \"AS IS\" BASIS,\n",
        "# WITHOUT WARRANTIES OR CONDITIONS OF ANY KIND, either express or implied.\n",
        "# See the License for the specific language governing permissions and\n",
        "# limitations under the License."
      ],
      "execution_count": 0,
      "outputs": []
    },
    {
      "cell_type": "markdown",
      "metadata": {
        "id": "b5P4BEg1XYd5",
        "colab_type": "text"
      },
      "source": [
        "# TensorFlow Addons Optimizers: ConditionalGradient\n",
        "\n",
        "### TBD!!!!!! to modify the ref link\n",
        "\n",
        "<table class=\"tfo-notebook-buttons\" align=\"left\">\n",
        "  <td>\n",
        "    <a target=\"_blank\" href=\"https://colab.research.google.com/drive/1UT4e-BZkpdsavgLXUpsCN5KEpAB3NY_b#scrollTo=b5P4BEg1XYd5\"><img src=\"https://www.tensorflow.org/images/colab_logo_32px.png\" />Run in Google Colab</a>\n",
        "  </td>\n",
        "  <td>\n",
        "    <a target=\"_blank\" href=\"https://github.com/pkan2/addons/blob/master/tree/master/docs/tutorials/optimizers_conditionalgradient.ipynb\"><img src=\"https://www.tensorflow.org/images/GitHub-Mark-32px.png\" />View source on GitHub</a>\n",
        "  </td>\n",
        "</table>"
      ]
    },
    {
      "cell_type": "markdown",
      "metadata": {
        "id": "Faj8luWnYNSG",
        "colab_type": "text"
      },
      "source": [
        "# Overview\n",
        "This notebook will demonstrate how to use the Conditional Graident Optimizer from the Addons package."
      ]
    },
    {
      "cell_type": "markdown",
      "metadata": {
        "id": "MrDjqjY6YRYM",
        "colab_type": "text"
      },
      "source": [
        "# ConditionalGradient\n",
        "\n",
        "> Condtitional Gradient Optimizer provides an alternative method for handling regularizer in the optimization process. The implementation of this optimizer is based on the following paper:\n",
        "https://arxiv.org/pdf/1803.06453.pdf. Current implementation enforces Frobenius norm constraints on a model. The variable update rule being implemented is:\n",
        "$variable -= (1 - learning\\_rate) \\times (variable + lambda\\_ \\times \\frac{gradient}{  frobenius\\_norm(gradient) + epsilon})$, \n",
        "where, 'learning_rate' and 'lambda\\_' are the parameters that are needed to input into the model when initializing the model. And 'epsilon' is a constant, which is relatively small as compared to the norm of gradient. The purpose of 'epsilon' here is to handle the case of undefined mathematic operation to divided by zero, when the norm of gradient equals zero.\n"
      ]
    },
    {
      "cell_type": "markdown",
      "metadata": {
        "id": "dooBaYGLYYnn",
        "colab_type": "text"
      },
      "source": [
        "## Setup"
      ]
    },
    {
      "cell_type": "code",
      "metadata": {
        "id": "oPbEvhbCih0t",
        "colab_type": "code",
        "colab": {}
      },
      "source": [
        "!pip install tensorflow-gpu==2.0.0rc0\n",
        "!pip install tfa-nightly\n",
        "from __future__ import absolute_import, division, print_function, unicode_literals\n",
        "\n",
        "import tensorflow as tf\n",
        "import tensorflow_addons as tfa\n",
        "import tensorflow_datasets as tfds\n",
        "import numpy as np\n",
        "from matplotlib import pyplot as plt"
      ],
      "execution_count": 0,
      "outputs": []
    },
    {
      "cell_type": "code",
      "metadata": {
        "id": "kR0PnjrIirpJ",
        "colab_type": "code",
        "colab": {}
      },
      "source": [
        "# Hyperparameters\n",
        "batch_size=64\n",
        "epochs=10"
      ],
      "execution_count": 0,
      "outputs": []
    },
    {
      "cell_type": "markdown",
      "metadata": {
        "id": "-x0WBp-IYz7x",
        "colab_type": "text"
      },
      "source": [
        "# Build the Model"
      ]
    },
    {
      "cell_type": "code",
      "metadata": {
        "id": "4KzMDUT0i1QE",
        "colab_type": "code",
        "colab": {}
      },
      "source": [
        "model_1 = tf.keras.Sequential([\n",
        "    tf.keras.layers.Dense(64, input_shape=(784,), activation='relu', name='dense_1'),\n",
        "    tf.keras.layers.Dense(64, activation='relu', name='dense_2'),\n",
        "    tf.keras.layers.Dense(10, activation='softmax', name='predictions'),\n",
        "])"
      ],
      "execution_count": 0,
      "outputs": []
    },
    {
      "cell_type": "markdown",
      "metadata": {
        "id": "XGADNG3-Y7aa",
        "colab_type": "text"
      },
      "source": [
        "# Prep the Data"
      ]
    },
    {
      "cell_type": "code",
      "metadata": {
        "id": "d6a-kbM_i1b2",
        "colab_type": "code",
        "colab": {}
      },
      "source": [
        "# Load MNIST dataset as NumPy arrays\n",
        "dataset = {}\n",
        "num_validation = 10000\n",
        "(x_train, y_train), (x_test, y_test) = tf.keras.datasets.mnist.load_data()\n",
        "\n",
        "# Preprocess the data\n",
        "x_train = x_train.reshape(-1, 784).astype('float32') / 255\n",
        "x_test = x_test.reshape(-1, 784).astype('float32') / 255"
      ],
      "execution_count": 0,
      "outputs": []
    },
    {
      "cell_type": "markdown",
      "metadata": {
        "id": "sOlB-WqjZp1Y",
        "colab_type": "text"
      },
      "source": [
        "# Define a Custom Callback Function"
      ]
    },
    {
      "cell_type": "code",
      "metadata": {
        "id": "8LCmRXUgZqyV",
        "colab_type": "code",
        "colab": {}
      },
      "source": [
        "# This function is to calculate the frobenius norm of the matrix of all\n",
        "# layer's weight.\n",
        "# args:\n",
        "#      m: is a list of weights param for each layers\n",
        "def frobenius_norm(m):\n",
        "    total_reduce_sum = 0\n",
        "    for i in range(len(m)):\n",
        "        total_reduce_sum = total_reduce_sum + tf.math.reduce_sum(m[i]**2)\n",
        "    norm = total_reduce_sum**0.5\n",
        "    return norm"
      ],
      "execution_count": 0,
      "outputs": []
    },
    {
      "cell_type": "code",
      "metadata": {
        "id": "udSvzKm4Z5Zr",
        "colab_type": "code",
        "colab": {}
      },
      "source": [
        "CG_frobenius_norm_of_weight = []\n",
        "CG_get_weight_norm = tf.keras.callbacks.LambdaCallback(\n",
        "    on_epoch_end=lambda batch, logs: CG_frobenius_norm_of_weight.append(\n",
        "        frobenius_norm(model_1.trainable_weights).numpy()))"
      ],
      "execution_count": 0,
      "outputs": []
    },
    {
      "cell_type": "markdown",
      "metadata": {
        "id": "qfhE1DfwZC1i",
        "colab_type": "text"
      },
      "source": [
        "# Train and Evaluate\n",
        "\n",
        "Simply replace typical keras optimizers with the new tfa optimizer "
      ]
    },
    {
      "cell_type": "code",
      "metadata": {
        "id": "6-AMaOYEi1kK",
        "colab_type": "code",
        "outputId": "b32c2848-0428-4c50-b5f9-218f311534fb",
        "colab": {
          "base_uri": "https://localhost:8080/",
          "height": 394
        }
      },
      "source": [
        "# Compile the model\n",
        "model_1.compile(\n",
        "    optimizer=tfa.optimizers.ConditionalGradient(\n",
        "        learning_rate=0.99949, lambda_=203),  # Utilize TFA optimizer\n",
        "    loss=tf.keras.losses.SparseCategoricalCrossentropy(),\n",
        "    metrics=['accuracy'])\n",
        "\n",
        "history_1 = model_1.fit(\n",
        "    x_train,\n",
        "    y_train,\n",
        "    batch_size=batch_size,\n",
        "    validation_data=(x_test, y_test),\n",
        "    epochs=epochs,\n",
        "    callbacks=[CG_get_weight_norm])"
      ],
      "execution_count": 0,
      "outputs": [
        {
          "output_type": "stream",
          "text": [
            "Train on 60000 samples, validate on 10000 samples\n",
            "Epoch 1/10\n",
            "60000/60000 [==============================] - 4s 73us/sample - loss: 0.3704 - accuracy: 0.8886 - val_loss: 0.2121 - val_accuracy: 0.9360\n",
            "Epoch 2/10\n",
            "60000/60000 [==============================] - 4s 66us/sample - loss: 0.1878 - accuracy: 0.9438 - val_loss: 0.1657 - val_accuracy: 0.9504\n",
            "Epoch 3/10\n",
            "60000/60000 [==============================] - 4s 66us/sample - loss: 0.1490 - accuracy: 0.9556 - val_loss: 0.1415 - val_accuracy: 0.9572\n",
            "Epoch 4/10\n",
            "60000/60000 [==============================] - 4s 66us/sample - loss: 0.1325 - accuracy: 0.9596 - val_loss: 0.1455 - val_accuracy: 0.9534\n",
            "Epoch 5/10\n",
            "60000/60000 [==============================] - 4s 66us/sample - loss: 0.1213 - accuracy: 0.9634 - val_loss: 0.1557 - val_accuracy: 0.9499\n",
            "Epoch 6/10\n",
            "60000/60000 [==============================] - 4s 67us/sample - loss: 0.1166 - accuracy: 0.9643 - val_loss: 0.1219 - val_accuracy: 0.9618\n",
            "Epoch 7/10\n",
            "60000/60000 [==============================] - 4s 67us/sample - loss: 0.1113 - accuracy: 0.9663 - val_loss: 0.1252 - val_accuracy: 0.9601\n",
            "Epoch 8/10\n",
            "60000/60000 [==============================] - 4s 66us/sample - loss: 0.1089 - accuracy: 0.9673 - val_loss: 0.1061 - val_accuracy: 0.9675\n",
            "Epoch 9/10\n",
            "60000/60000 [==============================] - 4s 68us/sample - loss: 0.1061 - accuracy: 0.9678 - val_loss: 0.1113 - val_accuracy: 0.9676\n",
            "Epoch 10/10\n",
            "60000/60000 [==============================] - 4s 66us/sample - loss: 0.1039 - accuracy: 0.9689 - val_loss: 0.1017 - val_accuracy: 0.9697\n"
          ],
          "name": "stdout"
        }
      ]
    },
    {
      "cell_type": "code",
      "metadata": {
        "id": "xjGLznhYi1sA",
        "colab_type": "code",
        "colab": {}
      },
      "source": [
        "\n",
        "# TBD: shall we delete this block? It seems like this block does not mean much \n",
        "#      for our demo here?\n",
        "\n",
        "\n",
        "# Evaluate the network\n",
        "print('Evaluate on test data:')\n",
        "results = model_1.evaluate(x_test, y_test, batch_size=128)\n",
        "print('Test loss = {0}, Test acc: {1}'.format(results[0], results[1]))"
      ],
      "execution_count": 0,
      "outputs": []
    },
    {
      "cell_type": "markdown",
      "metadata": {
        "id": "8OJp4So9bYYR",
        "colab_type": "text"
      },
      "source": [
        "# Comparision with the Performance of SGD"
      ]
    },
    {
      "cell_type": "code",
      "metadata": {
        "id": "ug0ug4A240T5",
        "colab_type": "code",
        "colab": {}
      },
      "source": [
        "model_2 = tf.keras.Sequential([\n",
        "    tf.keras.layers.Dense(\n",
        "        64, input_shape=(784, ), activation='relu', name='dense_1'),\n",
        "    tf.keras.layers.Dense(64, activation='relu', name='dense_2'),\n",
        "    tf.keras.layers.Dense(10, activation='softmax', name='predictions'),\n",
        "])"
      ],
      "execution_count": 0,
      "outputs": []
    },
    {
      "cell_type": "code",
      "metadata": {
        "id": "V8QC3xCwbfNl",
        "colab_type": "code",
        "colab": {}
      },
      "source": [
        "SGD_frobenius_norm_of_weight = []\n",
        "SGD_get_weight_norm = tf.keras.callbacks.LambdaCallback(\n",
        "    on_epoch_end=lambda batch, logs: SGD_frobenius_norm_of_weight.append(\n",
        "        frobenius_norm(model_2.trainable_weights).numpy()))"
      ],
      "execution_count": 0,
      "outputs": []
    },
    {
      "cell_type": "code",
      "metadata": {
        "id": "9BNi4yXGcDlg",
        "colab_type": "code",
        "outputId": "ee47c20e-7fbc-4cdb-e1de-b852cd7b84b4",
        "colab": {
          "base_uri": "https://localhost:8080/",
          "height": 394
        }
      },
      "source": [
        "# Compile the model\n",
        "\n",
        "model_2.compile(\n",
        "    optimizer=tf.keras.optimizers.SGD(0.1),  # Utilize TFA optimizer\n",
        "    loss=tf.keras.losses.SparseCategoricalCrossentropy(),\n",
        "    metrics=['accuracy'])\n",
        "\n",
        "history_2 = model_2.fit(\n",
        "    x_train,\n",
        "    y_train,\n",
        "    batch_size=batch_size,\n",
        "    validation_data=(x_test, y_test),\n",
        "    epochs=epochs,\n",
        "    callbacks=[SGD_get_weight_norm])"
      ],
      "execution_count": 0,
      "outputs": [
        {
          "output_type": "stream",
          "text": [
            "Train on 60000 samples, validate on 10000 samples\n",
            "Epoch 1/10\n",
            "60000/60000 [==============================] - 4s 62us/sample - loss: 0.3736 - accuracy: 0.8889 - val_loss: 0.2004 - val_accuracy: 0.9391\n",
            "Epoch 2/10\n",
            "60000/60000 [==============================] - 3s 58us/sample - loss: 0.1726 - accuracy: 0.9490 - val_loss: 0.1667 - val_accuracy: 0.9478\n",
            "Epoch 3/10\n",
            "60000/60000 [==============================] - 4s 59us/sample - loss: 0.1264 - accuracy: 0.9627 - val_loss: 0.1151 - val_accuracy: 0.9647\n",
            "Epoch 4/10\n",
            "60000/60000 [==============================] - 3s 57us/sample - loss: 0.0995 - accuracy: 0.9699 - val_loss: 0.1066 - val_accuracy: 0.9669\n",
            "Epoch 5/10\n",
            "60000/60000 [==============================] - 3s 57us/sample - loss: 0.0838 - accuracy: 0.9740 - val_loss: 0.0927 - val_accuracy: 0.9694\n",
            "Epoch 6/10\n",
            "60000/60000 [==============================] - 3s 57us/sample - loss: 0.0724 - accuracy: 0.9776 - val_loss: 0.0924 - val_accuracy: 0.9714\n",
            "Epoch 7/10\n",
            "60000/60000 [==============================] - 3s 57us/sample - loss: 0.0632 - accuracy: 0.9809 - val_loss: 0.0965 - val_accuracy: 0.9686\n",
            "Epoch 8/10\n",
            "60000/60000 [==============================] - 3s 57us/sample - loss: 0.0560 - accuracy: 0.9824 - val_loss: 0.0816 - val_accuracy: 0.9749\n",
            "Epoch 9/10\n",
            "60000/60000 [==============================] - 3s 58us/sample - loss: 0.0505 - accuracy: 0.9841 - val_loss: 0.0932 - val_accuracy: 0.9712\n",
            "Epoch 10/10\n",
            "60000/60000 [==============================] - 3s 58us/sample - loss: 0.0440 - accuracy: 0.9865 - val_loss: 0.0907 - val_accuracy: 0.9728\n"
          ],
          "name": "stdout"
        }
      ]
    },
    {
      "cell_type": "code",
      "metadata": {
        "id": "_JVE2tSKcIiD",
        "colab_type": "code",
        "colab": {}
      },
      "source": [
        "# TBD: shall we delete this block? It seems like this block does not mean much \n",
        "#      for our demo here?\n",
        "\n",
        "\n",
        "\n",
        "\n",
        "# Evaluate the network\n",
        "print('Evaluate on test data:')\n",
        "results = model_2.evaluate(x_test, y_test, batch_size=128)\n",
        "print('Test loss = {0}, Test acc: {1}'.format(results[0], results[1]))"
      ],
      "execution_count": 0,
      "outputs": []
    },
    {
      "cell_type": "markdown",
      "metadata": {
        "id": "1Myw0FVcd_Z9",
        "colab_type": "text"
      },
      "source": [
        "# Plot the Comparison Graph"
      ]
    },
    {
      "cell_type": "code",
      "metadata": {
        "id": "Ewf17MW1cJVI",
        "colab_type": "code",
        "outputId": "fc955418-a896-402b-e194-98e8dddf5a2d",
        "colab": {
          "base_uri": "https://localhost:8080/",
          "height": 300
        }
      },
      "source": [
        "plt.plot(\n",
        "    CG_frobenius_norm_of_weight,\n",
        "    color='r',\n",
        "    label='CG_frobenius_norm_of_weights')\n",
        "plt.plot(\n",
        "    SGD_frobenius_norm_of_weight,\n",
        "    color='b',\n",
        "    label='SGD_frobenius_norm_of_weights')\n",
        "plt.xlabel('Epoch')\n",
        "plt.ylabel('Frobenius norm of weights')\n",
        "plt.legend(loc=1)"
      ],
      "execution_count": 0,
      "outputs": [
        {
          "output_type": "execute_result",
          "data": {
            "text/plain": [
              "<matplotlib.legend.Legend at 0x7f54910f1d30>"
            ]
          },
          "metadata": {
            "tags": []
          },
          "execution_count": 35
        },
        {
          "output_type": "display_data",
          "data": {
            "image/png": "[encoded data removed]",
            "text/plain": [
              "<Figure size 432x288 with 1 Axes>"
            ]
          },
          "metadata": {
            "tags": []
          }
        }
      ]
    }
  ]
}