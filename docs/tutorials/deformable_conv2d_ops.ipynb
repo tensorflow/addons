{
 "cells": [
  {
   "cell_type": "markdown",
   "source": [
    "Setup\n"
   ],
   "metadata": {
    "collapsed": false,
    "pycharm": {
     "name": "#%% md\n"
    }
   }
  },
  {
   "cell_type": "code",
   "execution_count": null,
   "metadata": {
    "collapsed": true
   },
   "outputs": [],
   "source": [
    "try:\n",
    "  %tensorflow_version 2.x\n",
    "except:\n",
    "  pass\n",
    "\n",
    "import tensorflow as tf\n"
   ]
  },
  {
   "cell_type": "code",
   "execution_count": null,
   "outputs": [],
   "source": [
    "!pip install -q --no-deps tensorflow-addons~=0.9"
   ],
   "metadata": {
    "collapsed": false,
    "pycharm": {
     "name": "#%%\n"
    }
   }
  },
  {
   "cell_type": "code",
   "execution_count": null,
   "outputs": [],
   "source": [
    "import numpy as np\n",
    "import tensorflow_addons as tfa\n",
    "import matplotlib.pyplot as plt\n"
   ],
   "metadata": {
    "collapsed": false,
    "pycharm": {
     "name": "#%%\n"
    }
   }
  },
  {
   "cell_type": "markdown",
   "source": [
    "Usage example\n",
    "\n",
    "(DeformableConv2D is just like normal tf.keras.layers.Conv2D)\n",
    "\n",
    "(DeformablePSROIAlign is something like tf.image.crop_to_bounding_box)"
   ],
   "metadata": {
    "collapsed": false
   }
  },
  {
   "cell_type": "code",
   "execution_count": null,
   "outputs": [],
   "source": [
    "filters = 64\n",
    "batch_size = 4\n",
    "channels = 3\n",
    "kernel_size = (3, 3)\n",
    "padding = \"same\"\n",
    "featuremap = tf.random.uniform(shape=[batch_size, 20, 20, channels], dtype=tf.float32)\n",
    "\n",
    "deformable_layer = tfa.layers.DeformableConv2D(filters, kernel_size, padding=padding)\n",
    "result = deformable_layer(featuremap)\n",
    "\n",
    "image_featuremap = tf.random.normal(shape=[2, 64, 100, 100])\n",
    "rois = tf.convert_to_tensor([[0, 1, 1, 800, 800], [1, 2, 2, 400, 400]], dtype=tf.float32)\n",
    "out_dim = 64\n",
    "spatial_scale = 1 / 16\n",
    "group_size = 1\n",
    "pooled_size = 7\n",
    "sample_per_part = 4\n",
    "part_size = 7\n",
    "trans_std = 1\n",
    "data_format = \"channels_first\"\n",
    "psroi_align_layer = tfa.layers.DeformablePSROIAlign(out_dim, spatial_scale, group_size,\n",
    "                                                    pooled_size, sample_per_part, part_size,\n",
    "                                                    trans_std, data_format)\n",
    "features = psroi_align_layer([image_featuremap, rois])"
   ],
   "metadata": {
    "collapsed": false,
    "pycharm": {
     "name": "#%%\n"
    }
   }
  }
 ],
 "metadata": {
  "kernelspec": {
   "display_name": "Python 3",
   "language": "python",
   "name": "python3"
  },
  "language_info": {
   "codemirror_mode": {
    "name": "ipython",
    "version": 2
   },
   "file_extension": ".py",
   "mimetype": "text/x-python",
   "name": "python",
   "nbconvert_exporter": "python",
   "pygments_lexer": "ipython2",
   "version": "2.7.6"
  },
  "pycharm": {
   "stem_cell": {
    "cell_type": "raw",
    "source": [],
    "metadata": {
     "collapsed": false
    }
   }
  }
 },
 "nbformat": 4,
 "nbformat_minor": 0
}