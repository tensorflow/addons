{
  "nbformat": 4,
  "nbformat_minor": 0,
  "metadata": {
    "colab": {
      "name": "average_optimizers_callback.ipynb",
      "provenance": [],
      "collapsed_sections": [
        "Tce3stUlHN0L"
      ],
      "toc_visible": true
    },
    "kernelspec": {
      "name": "python3",
      "display_name": "Python 3"
    },
    "language_info": {
      "codemirror_mode": {
        "name": "ipython",
        "version": 3
      },
      "file_extension": ".py",
      "mimetype": "text/x-python",
      "name": "python",
      "nbconvert_exporter": "python",
      "pygments_lexer": "ipython3",
      "version": "3.6.3"
    }
  },
  "cells": [
    {
      "cell_type": "markdown",
      "metadata": {
        "colab_type": "text",
        "id": "Tce3stUlHN0L"
      },
      "source": [
        "##### Copyright 2019 The TensorFlow Authors."
      ]
    },
    {
      "cell_type": "code",
      "metadata": {
        "cellView": "both",
        "colab_type": "code",
        "id": "tuOe1ymfHZPu",
        "colab": {}
      },
      "source": [
        "#@title Licensed under the Apache License, Version 2.0 (the \"License\");\n",
        "# you may not use this file except in compliance with the License.\n",
        "# You may obtain a copy of the License at\n",
        "#\n",
        "# https://www.apache.org/licenses/LICENSE-2.0\n",
        "#\n",
        "# Unless required by applicable law or agreed to in writing, software\n",
        "# distributed under the License is distributed on an \"AS IS\" BASIS,\n",
        "# WITHOUT WARRANTIES OR CONDITIONS OF ANY KIND, either express or implied.\n",
        "# See the License for the specific language governing permissions and\n",
        "# limitations under the License."
      ],
      "execution_count": 0,
      "outputs": []
    },
    {
      "cell_type": "markdown",
      "metadata": {
        "colab_type": "text",
        "id": "qFdPvlXBOdUN"
      },
      "source": [
        "# Title"
      ]
    },
    {
      "cell_type": "markdown",
      "metadata": {
        "colab_type": "text",
        "id": "MfBg1C5NB3X0"
      },
      "source": [
        "<table class=\"tfo-notebook-buttons\" align=\"left\">\n",
        "  <td>\n",
        "    <a target=\"_blank\" href=\"https://colab.research.google.com/github/abhichou4/addons/blob/tutorialAvg/docs/tutorials/average_optimizers_callback.ipynb\"><img src=\"https://www.tensorflow.org/images/colab_logo_32px.png\"/>Run in Google Colab</a>\n",
        "  </td>\n",
        "  <td>\n",
        "    <a target=\"_blank\" href=\"https://github.com/abhichou4/addons/blob/tutorialAvg/docs/tutorials/average_optimizers_callback.ipynb\"><img src=\"https://www.tensorflow.org/images/GitHub-Mark-32px.png\" />View source on GitHub</a>\n",
        "  </td>\n",
        "</table>"
      ]
    },
    {
      "cell_type": "markdown",
      "metadata": {
        "colab_type": "text",
        "id": "xHxb-dlhMIzW"
      },
      "source": [
        "## Overview\n",
        "\n",
        "This notebook demonstrates how to use Moving Average Optimizer along with the Model Average Checkpoint from tensorflow addons pagkage.\n",
        "\n",
        "\n"
      ]
    },
    {
      "cell_type": "markdown",
      "metadata": {
        "id": "o2UNySlpXkbl",
        "colab_type": "text"
      },
      "source": [
        "## Moving Averaging \n",
        "\n",
        "> The advantage of Moving Averaging is that they are less prone to rampant loss shifts or irregular data representation in the latest batch. It gives a smooothened and a more genral idea of the model training until some point.\n",
        "\n",
        "## Stocastic Averaging\n",
        "\n",
        "> Stocastic Weight Averaging converges to wider optimas. By doing so, it resembles geometric ensembeling. SWA is a simple method to improve model performance when used as a wrapper around other optimizers and averaging results from different points of trajectory of the inner optimizer.\n",
        "\n",
        "## Model Average Checkpoint \n",
        "\n",
        "> ```callbacks.ModelCheckpoint``` doesn't give you the option to save moving average weights in the middle of traning, which is why Model Average Optimizers required a custom callback. Using the ```update_weights``` parameter, ```ModelAverageCheckpoint``` allows you to:\n",
        "1.   Assign the moving average weights to the model, and save them.\n",
        "2.   Keep the old non-averaged weights, but the saved model uses the average weights."
      ]
    },
    {
      "cell_type": "markdown",
      "metadata": {
        "colab_type": "text",
        "id": "MUXex9ctTuDB"
      },
      "source": [
        "## Setup"
      ]
    },
    {
      "cell_type": "code",
      "metadata": {
        "colab_type": "code",
        "id": "IqR2PQG4ZaZ0",
        "outputId": "49c5f5be-4b1a-4298-e218-5c6c0126b4ff",
        "colab": {
          "base_uri": "https://localhost:8080/",
          "height": 35
        }
      },
      "source": [
        "try:\n",
        "    %tensorflow_version 2.x\n",
        "except:\n",
        "    pass\n",
        "\n",
        "import tensorflow as tf\n",
        "import tensorflow_addons as tfa"
      ],
      "execution_count": 2,
      "outputs": [
        {
          "output_type": "stream",
          "text": [
            "TensorFlow 2.x selected.\n"
          ],
          "name": "stdout"
        }
      ]
    },
    {
      "cell_type": "code",
      "metadata": {
        "id": "4hnJ2rDpI38-",
        "colab_type": "code",
        "colab": {}
      },
      "source": [
        "import numpy as np\n",
        "import os"
      ],
      "execution_count": 0,
      "outputs": []
    },
    {
      "cell_type": "markdown",
      "metadata": {
        "id": "Iox_HZNNYLEB",
        "colab_type": "text"
      },
      "source": [
        "## Build Model "
      ]
    },
    {
      "cell_type": "code",
      "metadata": {
        "colab_type": "code",
        "id": "KtylpxOmceaC",
        "colab": {}
      },
      "source": [
        "def create_model(opt):\n",
        "    model = tf.keras.models.Sequential([\n",
        "        tf.keras.layers.Flatten(),                         \n",
        "        tf.keras.layers.Dense(64, activation='relu', name='dense_1'),\n",
        "        tf.keras.layers.Dense(64, activation='relu', name='dense_2'),\n",
        "        tf.keras.layers.Dense(10, activation='softmax')\n",
        "    ])\n",
        "\n",
        "    model.compile(optimizer=opt,\n",
        "                    loss='sparse_categorical_crossentropy',\n",
        "                    metrics=['accuracy'])\n",
        "\n",
        "    return model"
      ],
      "execution_count": 0,
      "outputs": []
    },
    {
      "cell_type": "markdown",
      "metadata": {
        "colab_type": "text",
        "id": "pwdM2pl3RSPb"
      },
      "source": [
        "## Prepare Dataset"
      ]
    },
    {
      "cell_type": "code",
      "metadata": {
        "colab_type": "code",
        "id": "mMOeXVmbdilM",
        "colab": {}
      },
      "source": [
        "#Load Fashion MNIST dataset\n",
        "train, test = tf.keras.datasets.fashion_mnist.load_data()\n",
        "\n",
        "images, labels = train\n",
        "images = images/255.0\n",
        "labels = labels.astype(np.int32)\n",
        "\n",
        "fmnist_train_ds = tf.data.Dataset.from_tensor_slices((images, labels))\n",
        "fmnist_train_ds = fmnist_train_ds.shuffle(5000).batch(32)\n",
        "\n",
        "test_images, test_labels = test"
      ],
      "execution_count": 0,
      "outputs": []
    },
    {
      "cell_type": "markdown",
      "metadata": {
        "id": "iEbhI_eajpJe",
        "colab_type": "text"
      },
      "source": [
        "We will be comparing three optimizers here:\n",
        "\n",
        "*   Unwrapped SGD\n",
        "*   SGD with Moving Average\n",
        "*   SGD with Stochastic Weight Averaging\n",
        "\n",
        "And see how they perform with the same model."
      ]
    },
    {
      "cell_type": "code",
      "metadata": {
        "id": "_Q76K1fNk7Va",
        "colab_type": "code",
        "colab": {}
      },
      "source": [
        "#Optimizers \n",
        "sgd = tf.keras.optimizers.SGD(0.01)\n",
        "moving_avg_sgd = tfa.optimizers.MovingAverage(sgd)\n",
        "stocastic_avg_sgd = tfa.optimizers.SWA(sgd)"
      ],
      "execution_count": 0,
      "outputs": []
    },
    {
      "cell_type": "markdown",
      "metadata": {
        "id": "nXlMX4p9qHwg",
        "colab_type": "text"
      },
      "source": [
        "Both ```MovingAverage``` and ```StocasticAverage``` optimers use ```ModelAverageCheckpoint```."
      ]
    },
    {
      "cell_type": "code",
      "metadata": {
        "id": "SnvZjt34qEHY",
        "colab_type": "code",
        "colab": {}
      },
      "source": [
        "#Callback \n",
        "checkpoint_path = \"./training/cp-{epoch:04d}.ckpt\"\n",
        "checkpoint_dir = os.path.dirname(checkpoint_path)\n",
        "\n",
        "cp_callback = tf.keras.callbacks.ModelCheckpoint(filepath=checkpoint_dir,\n",
        "                                                 save_weights_only=True,\n",
        "                                                 verbose=1)\n",
        "avg_callback = tfa.callbacks.AverageModelCheckpoint(filepath=checkpoint_dir, \n",
        "                                                    update_weights=True)"
      ],
      "execution_count": 0,
      "outputs": []
    },
    {
      "cell_type": "markdown",
      "metadata": {
        "colab_type": "text",
        "id": "uabQmjMtRtzs"
      },
      "source": [
        "## Train Model\n"
      ]
    },
    {
      "cell_type": "markdown",
      "metadata": {
        "id": "SPmifETHmPix",
        "colab_type": "text"
      },
      "source": [
        "### Vanilla SGD Optimizer "
      ]
    },
    {
      "cell_type": "code",
      "metadata": {
        "id": "Xy8W4LYppadJ",
        "colab_type": "code",
        "outputId": "97bfbf95-d9e7-4c69-99e2-d233e8f54d5a",
        "colab": {
          "base_uri": "https://localhost:8080/",
          "height": 421
        }
      },
      "source": [
        "#Build Model\n",
        "model = create_model(sgd)\n",
        "\n",
        "#Train the network\n",
        "model.fit(fmnist_train_ds, epochs=5, callbacks=[cp_callback])"
      ],
      "execution_count": 8,
      "outputs": [
        {
          "output_type": "stream",
          "text": [
            "Train for 1875 steps\n",
            "Epoch 1/5\n",
            "1852/1875 [============================>.] - ETA: 0s - loss: 0.7862 - accuracy: 0.7415\n",
            "Epoch 00001: saving model to ./training\n",
            "1875/1875 [==============================] - 4s 2ms/step - loss: 0.7834 - accuracy: 0.7423\n",
            "Epoch 2/5\n",
            "1846/1875 [============================>.] - ETA: 0s - loss: 0.5004 - accuracy: 0.8253\n",
            "Epoch 00002: saving model to ./training\n",
            "1875/1875 [==============================] - 4s 2ms/step - loss: 0.4993 - accuracy: 0.8257\n",
            "Epoch 3/5\n",
            "1854/1875 [============================>.] - ETA: 0s - loss: 0.4543 - accuracy: 0.8409\n",
            "Epoch 00003: saving model to ./training\n",
            "1875/1875 [==============================] - 3s 2ms/step - loss: 0.4548 - accuracy: 0.8407\n",
            "Epoch 4/5\n",
            "1848/1875 [============================>.] - ETA: 0s - loss: 0.4275 - accuracy: 0.8487\n",
            "Epoch 00004: saving model to ./training\n",
            "1875/1875 [==============================] - 4s 2ms/step - loss: 0.4277 - accuracy: 0.8488\n",
            "Epoch 5/5\n",
            "1860/1875 [============================>.] - ETA: 0s - loss: 0.4100 - accuracy: 0.8558\n",
            "Epoch 00005: saving model to ./training\n",
            "1875/1875 [==============================] - 4s 2ms/step - loss: 0.4098 - accuracy: 0.8558\n"
          ],
          "name": "stdout"
        },
        {
          "output_type": "execute_result",
          "data": {
            "text/plain": [
              "<tensorflow.python.keras.callbacks.History at 0x7f41077eedd8>"
            ]
          },
          "metadata": {
            "tags": []
          },
          "execution_count": 8
        }
      ]
    },
    {
      "cell_type": "code",
      "metadata": {
        "id": "uU2iQ6HAZ6-E",
        "colab_type": "code",
        "outputId": "ec4ae0ad-dd99-4966-d448-270fae1fd0d3",
        "colab": {
          "base_uri": "https://localhost:8080/",
          "height": 72
        }
      },
      "source": [
        "#Evalute results\n",
        "model.load_weights(checkpoint_dir)\n",
        "loss, accuracy = model.evaluate(test_images, test_labels, batch_size=32, verbose=2)\n",
        "print(\"Loss :\", loss)\n",
        "print(\"Accuracy :\", accuracy)"
      ],
      "execution_count": 9,
      "outputs": [
        {
          "output_type": "stream",
          "text": [
            "10000/10000 - 0s - loss: 87.3869 - accuracy: 0.7872\n",
            "Loss : 87.38689237976074\n",
            "Accuracy : 0.7872\n"
          ],
          "name": "stdout"
        }
      ]
    },
    {
      "cell_type": "markdown",
      "metadata": {
        "id": "lAvhD4unmc6W",
        "colab_type": "text"
      },
      "source": [
        "### Moving Average SGD"
      ]
    },
    {
      "cell_type": "code",
      "metadata": {
        "id": "--NIjBp-mhVb",
        "colab_type": "code",
        "outputId": "51510f00-c0cc-4443-cef3-0b1c263e1600",
        "colab": {
          "base_uri": "https://localhost:8080/",
          "height": 404
        }
      },
      "source": [
        "#Build Model\n",
        "model = create_model(moving_avg_sgd)\n",
        "\n",
        "#Train the network\n",
        "model.fit(fmnist_train_ds, epochs=5, callbacks=[avg_callback])"
      ],
      "execution_count": 10,
      "outputs": [
        {
          "output_type": "stream",
          "text": [
            "Train for 1875 steps\n",
            "Epoch 1/5\n",
            "WARNING:tensorflow:From /tensorflow-2.1.0/python3.6/tensorflow_core/python/ops/resource_variable_ops.py:1786: calling BaseResourceVariable.__init__ (from tensorflow.python.ops.resource_variable_ops) with constraint is deprecated and will be removed in a future version.\n",
            "Instructions for updating:\n",
            "If using Keras pass *_constraint arguments to layers.\n",
            "1855/1875 [============================>.] - ETA: 0s - loss: 0.7940 - accuracy: 0.7307INFO:tensorflow:Assets written to: ./training/assets\n",
            "1875/1875 [==============================] - 5s 3ms/step - loss: 0.7924 - accuracy: 0.7312\n",
            "Epoch 2/5\n",
            "1859/1875 [============================>.] - ETA: 0s - loss: 0.5076 - accuracy: 0.8237INFO:tensorflow:Assets written to: ./training/assets\n",
            "1875/1875 [==============================] - 4s 2ms/step - loss: 0.5073 - accuracy: 0.8237\n",
            "Epoch 3/5\n",
            "1874/1875 [============================>.] - ETA: 0s - loss: 0.4585 - accuracy: 0.8390INFO:tensorflow:Assets written to: ./training/assets\n",
            "1875/1875 [==============================] - 4s 2ms/step - loss: 0.4585 - accuracy: 0.8390\n",
            "Epoch 4/5\n",
            "1848/1875 [============================>.] - ETA: 0s - loss: 0.4292 - accuracy: 0.8484INFO:tensorflow:Assets written to: ./training/assets\n",
            "1875/1875 [==============================] - 4s 2ms/step - loss: 0.4301 - accuracy: 0.8480\n",
            "Epoch 5/5\n",
            "1869/1875 [============================>.] - ETA: 0s - loss: 0.4108 - accuracy: 0.8555INFO:tensorflow:Assets written to: ./training/assets\n",
            "1875/1875 [==============================] - 4s 2ms/step - loss: 0.4109 - accuracy: 0.8555\n"
          ],
          "name": "stdout"
        },
        {
          "output_type": "execute_result",
          "data": {
            "text/plain": [
              "<tensorflow.python.keras.callbacks.History at 0x7f410517ed30>"
            ]
          },
          "metadata": {
            "tags": []
          },
          "execution_count": 10
        }
      ]
    },
    {
      "cell_type": "code",
      "metadata": {
        "id": "zRAym9EBmnW9",
        "colab_type": "code",
        "outputId": "ac7dc6d6-c5c6-456f-af8e-a11a211ef357",
        "colab": {
          "base_uri": "https://localhost:8080/",
          "height": 72
        }
      },
      "source": [
        "#Evalute results\n",
        "model.load_weights(checkpoint_dir)\n",
        "loss, accuracy = model.evaluate(test_images, test_labels, batch_size=32, verbose=2)\n",
        "print(\"Loss :\", loss)\n",
        "print(\"Accuracy :\", accuracy)"
      ],
      "execution_count": 11,
      "outputs": [
        {
          "output_type": "stream",
          "text": [
            "10000/10000 - 0s - loss: 87.3869 - accuracy: 0.7872\n",
            "Loss : 87.38689237976074\n",
            "Accuracy : 0.7872\n"
          ],
          "name": "stdout"
        }
      ]
    },
    {
      "cell_type": "markdown",
      "metadata": {
        "id": "K98lbU07m_Bk",
        "colab_type": "text"
      },
      "source": [
        "### Stocastic Weight Average SGD "
      ]
    },
    {
      "cell_type": "code",
      "metadata": {
        "id": "Ia7ALKefnXWQ",
        "colab_type": "code",
        "outputId": "ecf67a66-baf3-43df-ff9c-da14bc6148fa",
        "colab": {
          "base_uri": "https://localhost:8080/",
          "height": 329
        }
      },
      "source": [
        "#Build Model\n",
        "model = create_model(stocastic_avg_sgd)\n",
        "\n",
        "#Train the network\n",
        "model.fit(fmnist_train_ds, epochs=5, callbacks=[avg_callback])"
      ],
      "execution_count": 12,
      "outputs": [
        {
          "output_type": "stream",
          "text": [
            "Train for 1875 steps\n",
            "Epoch 1/5\n",
            "1871/1875 [============================>.] - ETA: 0s - loss: 0.7849 - accuracy: 0.7398INFO:tensorflow:Assets written to: ./training/assets\n",
            "1875/1875 [==============================] - 6s 3ms/step - loss: 0.7844 - accuracy: 0.7400\n",
            "Epoch 2/5\n",
            "1857/1875 [============================>.] - ETA: 0s - loss: 0.5601 - accuracy: 0.8083INFO:tensorflow:Assets written to: ./training/assets\n",
            "1875/1875 [==============================] - 5s 3ms/step - loss: 0.5601 - accuracy: 0.8083\n",
            "Epoch 3/5\n",
            "1873/1875 [============================>.] - ETA: 0s - loss: 0.5321 - accuracy: 0.8178INFO:tensorflow:Assets written to: ./training/assets\n",
            "1875/1875 [==============================] - 5s 3ms/step - loss: 0.5320 - accuracy: 0.8179\n",
            "Epoch 4/5\n",
            "1873/1875 [============================>.] - ETA: 0s - loss: 0.5168 - accuracy: 0.8209INFO:tensorflow:Assets written to: ./training/assets\n",
            "1875/1875 [==============================] - 5s 3ms/step - loss: 0.5168 - accuracy: 0.8210\n",
            "Epoch 5/5\n",
            "1860/1875 [============================>.] - ETA: 0s - loss: 0.5083 - accuracy: 0.8228INFO:tensorflow:Assets written to: ./training/assets\n",
            "1875/1875 [==============================] - 5s 3ms/step - loss: 0.5081 - accuracy: 0.8227\n"
          ],
          "name": "stdout"
        },
        {
          "output_type": "execute_result",
          "data": {
            "text/plain": [
              "<tensorflow.python.keras.callbacks.History at 0x7f410ec275c0>"
            ]
          },
          "metadata": {
            "tags": []
          },
          "execution_count": 12
        }
      ]
    },
    {
      "cell_type": "code",
      "metadata": {
        "id": "EOT2E9NBoeHI",
        "colab_type": "code",
        "outputId": "4117451c-1886-4980-b40e-68591912559e",
        "colab": {
          "base_uri": "https://localhost:8080/",
          "height": 72
        }
      },
      "source": [
        "#Evalute results\n",
        "model.load_weights(checkpoint_dir)\n",
        "loss, accuracy = model.evaluate(test_images, test_labels, batch_size=32, verbose=2)\n",
        "print(\"Loss :\", loss)\n",
        "print(\"Accuracy :\", accuracy)"
      ],
      "execution_count": 13,
      "outputs": [
        {
          "output_type": "stream",
          "text": [
            "10000/10000 - 0s - loss: 87.3869 - accuracy: 0.7872\n",
            "Loss : 87.38689237976074\n",
            "Accuracy : 0.7872\n"
          ],
          "name": "stdout"
        }
      ]
    }
  ]
}