{
 "cells": [
  {
   "cell_type": "markdown",
   "metadata": {
    "colab_type": "text",
    "id": "Tce3stUlHN0L"
   },
   "source": [
    "##### Copyright 2019 The TensorFlow Authors.\n",
    "\n"
   ]
  },
  {
   "cell_type": "code",
   "execution_count": 1,
   "metadata": {
    "cellView": "form",
    "colab": {},
    "colab_type": "code",
    "id": "tuOe1ymfHZPu"
   },
   "outputs": [],
   "source": [
    "#@title Licensed under the Apache License, Version 2.0\n",
    "# you may not use this file except in compliance with the License.\n",
    "# You may obtain a copy of the License at\n",
    "#\n",
    "# https://www.apache.org/licenses/LICENSE-2.0\n",
    "#\n",
    "# Unless required by applicable law or agreed to in writing, software\n",
    "# distributed under the License is distributed on an \"AS IS\" BASIS,\n",
    "# WITHOUT WARRANTIES OR CONDITIONS OF ANY KIND, either express or implied.\n",
    "# See the License for the specific language governing permissions and\n",
    "# limitations under the License."
   ]
  },
  {
   "cell_type": "markdown",
   "metadata": {
    "colab_type": "text",
    "id": "MfBg1C5NB3X0"
   },
   "source": [
    "# TensorFlow Addons Optimizers: LazyAdam\n",
    "\n",
    "<table class=\"tfo-notebook-buttons\" align=\"left\">\n",
    "  <td>\n",
    "    <a target=\"_blank\" href=\"https://www.tensorflow.org/addons/tutorials/optimizers_lazyadam\"><img src=\"https://www.tensorflow.org/images/tf_logo_32px.png\" />View on TensorFlow.org</a>\n",
    "  </td>\n",
    "  <td>\n",
    "    <a target=\"_blank\" href=\"https://colab.research.google.com/github/tensorflow/addons/blob/master/docs/tutorials/optimizers_lazyadam.ipynb\"><img src=\"https://www.tensorflow.org/images/colab_logo_32px.png\" />Run in Google Colab</a>\n",
    "  </td>\n",
    "  <td>\n",
    "    <a target=\"_blank\" href=\"https://github.com/tensorflow/addons/blob/master/docs/tutorials/optimizers_lazyadam.ipynb\"><img src=\"https://www.tensorflow.org/images/GitHub-Mark-32px.png\" />View source on GitHub</a>\n",
    "  </td>\n",
    "</table>"
   ]
  },
  {
   "cell_type": "markdown",
   "metadata": {
    "colab_type": "text",
    "id": "xHxb-dlhMIzW"
   },
   "source": [
    "# Overview\n",
    "\n",
    "This notebook will demonstrate how to use the lazy adam optimizer from the Addons package.\n"
   ]
  },
  {
   "cell_type": "markdown",
   "metadata": {
    "colab_type": "text",
    "id": "bQwBbFVAyHJ_"
   },
   "source": [
    "# LazyAdam\n",
    "\n",
    "> LazyAdam is a variant of the Adam optimizer that handles sparse updates more efficiently.\n",
    "    The original Adam algorithm maintains two moving-average accumulators for\n",
    "    each trainable variable; the accumulators are updated at every step.\n",
    "    This class provides lazier handling of gradient updates for sparse\n",
    "    variables.  It only updates moving-average accumulators for sparse variable\n",
    "    indices that appear in the current batch, rather than updating the\n",
    "    accumulators for all indices. Compared with the original Adam optimizer,\n",
    "    it can provide large improvements in model training throughput for some\n",
    "    applications. However, it provides slightly different semantics than the\n",
    "    original Adam algorithm, and may lead to different empirical results."
   ]
  },
  {
   "cell_type": "markdown",
   "metadata": {
    "colab_type": "text",
    "id": "MUXex9ctTuDB"
   },
   "source": [
    "## Setup"
   ]
  },
  {
   "cell_type": "code",
   "execution_count": 6,
   "metadata": {},
   "outputs": [],
   "source": [
    "from __future__ import absolute_import, division, print_function, unicode_literals"
   ]
  },
  {
   "cell_type": "code",
   "execution_count": null,
   "metadata": {},
   "outputs": [],
   "source": [
    "try:\n",
    "  %tensorflow_version 2.x\n",
    "except:\n",
    "  pass\n",
    "\n",
    "import tensorflow as tf"
   ]
  },
  {
   "cell_type": "code",
   "execution_count": null,
   "metadata": {},
   "outputs": [],
   "source": [
    "!pip install tensorflow-addons~=0.6"
   ]
  },
  {
   "cell_type": "code",
   "execution_count": 3,
   "metadata": {
    "colab": {},
    "colab_type": "code",
    "id": "IqR2PQG4ZaZ0"
   },
   "outputs": [
    {
     "name": "stdout",
     "output_type": "stream",
     "text": [
      "Collecting tensorflow-gpu==2.0.0\n",
      "\u001b[?25l  Downloading https://files.pythonhosted.org/packages/25/44/47f0722aea081697143fbcf5d2aa60d1aee4aaacb5869aee2b568974777b/tensorflow_gpu-2.0.0-cp36-cp36m-manylinux2010_x86_64.whl (380.8MB)\n",
      "\u001b[K     |████████████████████████████████| 380.8MB 196kB/s  eta 0:00:01    |█████▍                          | 64.7MB 59.5MB/s eta 0:00:06     |██████████                      | 120.3MB 59.5MB/s eta 0:00:05     |███████████████████████████████ | 367.9MB 77.0MB/s eta 0:00:01\n",
      "\u001b[?25hRequirement already satisfied: six>=1.10.0 in /usr/local/google/home/markdaoust/venv3/lib/python3.6/site-packages (from tensorflow-gpu==2.0.0) (1.11.0)\n",
      "Requirement already satisfied: absl-py>=0.7.0 in /usr/local/google/home/markdaoust/venv3/lib/python3.6/site-packages (from tensorflow-gpu==2.0.0) (0.7.0)\n",
      "Requirement already satisfied: tensorboard<2.1.0,>=2.0.0 in /usr/local/google/home/markdaoust/venv3/lib/python3.6/site-packages (from tensorflow-gpu==2.0.0) (2.0.0)\n",
      "Requirement already satisfied: termcolor>=1.1.0 in /usr/local/google/home/markdaoust/venv3/lib/python3.6/site-packages (from tensorflow-gpu==2.0.0) (1.1.0)\n",
      "Requirement already satisfied: grpcio>=1.8.6 in /usr/local/google/home/markdaoust/venv3/lib/python3.6/site-packages (from tensorflow-gpu==2.0.0) (1.18.0)\n",
      "Requirement already satisfied: numpy<2.0,>=1.16.0 in /usr/local/google/home/markdaoust/venv3/lib/python3.6/site-packages (from tensorflow-gpu==2.0.0) (1.16.4)\n",
      "Requirement already satisfied: opt-einsum>=2.3.2 in /usr/local/google/home/markdaoust/venv3/lib/python3.6/site-packages (from tensorflow-gpu==2.0.0) (2.3.2)\n",
      "Requirement already satisfied: keras-applications>=1.0.8 in /usr/local/google/home/markdaoust/venv3/lib/python3.6/site-packages (from tensorflow-gpu==2.0.0) (1.0.8)\n",
      "Requirement already satisfied: google-pasta>=0.1.6 in /usr/local/google/home/markdaoust/venv3/lib/python3.6/site-packages (from tensorflow-gpu==2.0.0) (0.1.6)\n",
      "Requirement already satisfied: protobuf>=3.6.1 in /usr/local/google/home/markdaoust/venv3/lib/python3.6/site-packages (from tensorflow-gpu==2.0.0) (3.7.0)\n",
      "Requirement already satisfied: wrapt>=1.11.1 in /usr/local/google/home/markdaoust/venv3/lib/python3.6/site-packages (from tensorflow-gpu==2.0.0) (1.11.1)\n",
      "Requirement already satisfied: wheel>=0.26 in /usr/local/google/home/markdaoust/venv3/lib/python3.6/site-packages (from tensorflow-gpu==2.0.0) (0.32.3)\n",
      "Requirement already satisfied: gast==0.2.2 in /usr/local/google/home/markdaoust/venv3/lib/python3.6/site-packages (from tensorflow-gpu==2.0.0) (0.2.2)\n",
      "Requirement already satisfied: astor>=0.6.0 in /usr/local/google/home/markdaoust/venv3/lib/python3.6/site-packages (from tensorflow-gpu==2.0.0) (0.7.1)\n",
      "Requirement already satisfied: tensorflow-estimator<2.1.0,>=2.0.0 in /usr/local/google/home/markdaoust/venv3/lib/python3.6/site-packages (from tensorflow-gpu==2.0.0) (2.0.0)\n",
      "Requirement already satisfied: keras-preprocessing>=1.0.5 in /usr/local/google/home/markdaoust/venv3/lib/python3.6/site-packages (from tensorflow-gpu==2.0.0) (1.0.8)\n",
      "Requirement already satisfied: werkzeug>=0.11.15 in /usr/local/google/home/markdaoust/venv3/lib/python3.6/site-packages (from tensorboard<2.1.0,>=2.0.0->tensorflow-gpu==2.0.0) (0.14.1)\n",
      "Requirement already satisfied: setuptools>=41.0.0 in /usr/local/google/home/markdaoust/venv3/lib/python3.6/site-packages (from tensorboard<2.1.0,>=2.0.0->tensorflow-gpu==2.0.0) (41.0.1)\n",
      "Requirement already satisfied: markdown>=2.6.8 in /usr/local/google/home/markdaoust/venv3/lib/python3.6/site-packages (from tensorboard<2.1.0,>=2.0.0->tensorflow-gpu==2.0.0) (3.0.1)\n",
      "Requirement already satisfied: h5py in /usr/local/google/home/markdaoust/venv3/lib/python3.6/site-packages (from keras-applications>=1.0.8->tensorflow-gpu==2.0.0) (2.8.0)\n",
      "\u001b[31mERROR: Error checking for conflicts.\n",
      "Traceback (most recent call last):\n",
      "  File \"/usr/local/google/home/markdaoust/venv3/lib/python3.6/site-packages/pip/_vendor/pkg_resources/__init__.py\", line 3012, in _dep_map\n",
      "    return self.__dep_map\n",
      "  File \"/usr/local/google/home/markdaoust/venv3/lib/python3.6/site-packages/pip/_vendor/pkg_resources/__init__.py\", line 2806, in __getattr__\n",
      "    raise AttributeError(attr)\n",
      "AttributeError: _DistInfoDistribution__dep_map\n",
      "\n",
      "During handling of the above exception, another exception occurred:\n",
      "\n",
      "Traceback (most recent call last):\n",
      "  File \"/usr/local/google/home/markdaoust/venv3/lib/python3.6/site-packages/pip/_vendor/pkg_resources/__init__.py\", line 3003, in _parsed_pkg_info\n",
      "    return self._pkg_info\n",
      "  File \"/usr/local/google/home/markdaoust/venv3/lib/python3.6/site-packages/pip/_vendor/pkg_resources/__init__.py\", line 2806, in __getattr__\n",
      "    raise AttributeError(attr)\n",
      "AttributeError: _pkg_info\n",
      "\n",
      "During handling of the above exception, another exception occurred:\n",
      "\n",
      "Traceback (most recent call last):\n",
      "  File \"/usr/local/google/home/markdaoust/venv3/lib/python3.6/site-packages/pip/_internal/commands/install.py\", line 517, in _warn_about_conflicts\n",
      "    package_set, _dep_info = check_install_conflicts(to_install)\n",
      "  File \"/usr/local/google/home/markdaoust/venv3/lib/python3.6/site-packages/pip/_internal/operations/check.py\", line 110, in check_install_conflicts\n",
      "    package_set, _ = create_package_set_from_installed()\n",
      "  File \"/usr/local/google/home/markdaoust/venv3/lib/python3.6/site-packages/pip/_internal/operations/check.py\", line 49, in create_package_set_from_installed\n",
      "    package_set[name] = PackageDetails(dist.version, dist.requires())\n",
      "  File \"/usr/local/google/home/markdaoust/venv3/lib/python3.6/site-packages/pip/_vendor/pkg_resources/__init__.py\", line 2727, in requires\n",
      "    dm = self._dep_map\n",
      "  File \"/usr/local/google/home/markdaoust/venv3/lib/python3.6/site-packages/pip/_vendor/pkg_resources/__init__.py\", line 3014, in _dep_map\n",
      "    self.__dep_map = self._compute_dependencies()\n",
      "  File \"/usr/local/google/home/markdaoust/venv3/lib/python3.6/site-packages/pip/_vendor/pkg_resources/__init__.py\", line 3023, in _compute_dependencies\n",
      "    for req in self._parsed_pkg_info.get_all('Requires-Dist') or []:\n",
      "  File \"/usr/local/google/home/markdaoust/venv3/lib/python3.6/site-packages/pip/_vendor/pkg_resources/__init__.py\", line 3005, in _parsed_pkg_info\n",
      "    metadata = self.get_metadata(self.PKG_INFO)\n",
      "  File \"/usr/local/google/home/markdaoust/venv3/lib/python3.6/site-packages/pip/_vendor/pkg_resources/__init__.py\", line 1419, in get_metadata\n",
      "    value = self._get(self._fn(self.egg_info, name))\n",
      "  File \"/usr/local/google/home/markdaoust/venv3/lib/python3.6/site-packages/pip/_vendor/pkg_resources/__init__.py\", line 1607, in _get\n",
      "    with open(path, 'rb') as stream:\n",
      "FileNotFoundError: [Errno 2] No such file or directory: '/usr/local/google/home/markdaoust/venv3/lib/python3.6/site-packages/tf_nightly-2.1.0.dev20191003.dist-info/METADATA'\u001b[0m\n",
      "Installing collected packages: tensorflow-gpu\n",
      "  Found existing installation: tensorflow-gpu 2.0.0rc2\n",
      "    Uninstalling tensorflow-gpu-2.0.0rc2:\n",
      "      Successfully uninstalled tensorflow-gpu-2.0.0rc2\n",
      "Successfully installed tensorflow-gpu-2.0.0\n",
      "Collecting tensorflow-addons~=0.6\n",
      "\u001b[?25l  Downloading https://files.pythonhosted.org/packages/43/b0/6a1dacc2f4fab422926bfcbab6fa8f08f2a0309d872f3b059340a409b194/tensorflow_addons-0.6.0-cp36-cp36m-manylinux2010_x86_64.whl (1.8MB)\n",
      "\u001b[K     |████████████████████████████████| 1.8MB 16.3MB/s eta 0:00:01\n",
      "\u001b[?25hRequirement already satisfied: six>=1.10.0 in /usr/local/google/home/markdaoust/venv3/lib/python3.6/site-packages (from tensorflow-addons~=0.6) (1.11.0)\n",
      "Requirement already satisfied: tensorflow-gpu==2.0.0 in /usr/local/google/home/markdaoust/venv3/lib/python3.6/site-packages (from tensorflow-addons~=0.6) (2.0.0)\n",
      "Requirement already satisfied: absl-py>=0.7.0 in /usr/local/google/home/markdaoust/venv3/lib/python3.6/site-packages (from tensorflow-gpu==2.0.0->tensorflow-addons~=0.6) (0.7.0)\n",
      "Requirement already satisfied: wrapt>=1.11.1 in /usr/local/google/home/markdaoust/venv3/lib/python3.6/site-packages (from tensorflow-gpu==2.0.0->tensorflow-addons~=0.6) (1.11.1)\n",
      "Requirement already satisfied: wheel>=0.26 in /usr/local/google/home/markdaoust/venv3/lib/python3.6/site-packages (from tensorflow-gpu==2.0.0->tensorflow-addons~=0.6) (0.32.3)\n",
      "Requirement already satisfied: astor>=0.6.0 in /usr/local/google/home/markdaoust/venv3/lib/python3.6/site-packages (from tensorflow-gpu==2.0.0->tensorflow-addons~=0.6) (0.7.1)\n",
      "Requirement already satisfied: keras-preprocessing>=1.0.5 in /usr/local/google/home/markdaoust/venv3/lib/python3.6/site-packages (from tensorflow-gpu==2.0.0->tensorflow-addons~=0.6) (1.0.8)\n",
      "Requirement already satisfied: gast==0.2.2 in /usr/local/google/home/markdaoust/venv3/lib/python3.6/site-packages (from tensorflow-gpu==2.0.0->tensorflow-addons~=0.6) (0.2.2)\n",
      "Requirement already satisfied: google-pasta>=0.1.6 in /usr/local/google/home/markdaoust/venv3/lib/python3.6/site-packages (from tensorflow-gpu==2.0.0->tensorflow-addons~=0.6) (0.1.6)\n",
      "Requirement already satisfied: numpy<2.0,>=1.16.0 in /usr/local/google/home/markdaoust/venv3/lib/python3.6/site-packages (from tensorflow-gpu==2.0.0->tensorflow-addons~=0.6) (1.16.4)\n",
      "Requirement already satisfied: tensorboard<2.1.0,>=2.0.0 in /usr/local/google/home/markdaoust/venv3/lib/python3.6/site-packages (from tensorflow-gpu==2.0.0->tensorflow-addons~=0.6) (2.0.0)\n"
     ]
    },
    {
     "name": "stdout",
     "output_type": "stream",
     "text": [
      "Requirement already satisfied: opt-einsum>=2.3.2 in /usr/local/google/home/markdaoust/venv3/lib/python3.6/site-packages (from tensorflow-gpu==2.0.0->tensorflow-addons~=0.6) (2.3.2)\n",
      "Requirement already satisfied: termcolor>=1.1.0 in /usr/local/google/home/markdaoust/venv3/lib/python3.6/site-packages (from tensorflow-gpu==2.0.0->tensorflow-addons~=0.6) (1.1.0)\n",
      "Requirement already satisfied: grpcio>=1.8.6 in /usr/local/google/home/markdaoust/venv3/lib/python3.6/site-packages (from tensorflow-gpu==2.0.0->tensorflow-addons~=0.6) (1.18.0)\n",
      "Requirement already satisfied: protobuf>=3.6.1 in /usr/local/google/home/markdaoust/venv3/lib/python3.6/site-packages (from tensorflow-gpu==2.0.0->tensorflow-addons~=0.6) (3.7.0)\n",
      "Requirement already satisfied: keras-applications>=1.0.8 in /usr/local/google/home/markdaoust/venv3/lib/python3.6/site-packages (from tensorflow-gpu==2.0.0->tensorflow-addons~=0.6) (1.0.8)\n",
      "Requirement already satisfied: tensorflow-estimator<2.1.0,>=2.0.0 in /usr/local/google/home/markdaoust/venv3/lib/python3.6/site-packages (from tensorflow-gpu==2.0.0->tensorflow-addons~=0.6) (2.0.0)\n",
      "Requirement already satisfied: werkzeug>=0.11.15 in /usr/local/google/home/markdaoust/venv3/lib/python3.6/site-packages (from tensorboard<2.1.0,>=2.0.0->tensorflow-gpu==2.0.0->tensorflow-addons~=0.6) (0.14.1)\n",
      "Requirement already satisfied: markdown>=2.6.8 in /usr/local/google/home/markdaoust/venv3/lib/python3.6/site-packages (from tensorboard<2.1.0,>=2.0.0->tensorflow-gpu==2.0.0->tensorflow-addons~=0.6) (3.0.1)\n",
      "Requirement already satisfied: setuptools>=41.0.0 in /usr/local/google/home/markdaoust/venv3/lib/python3.6/site-packages (from tensorboard<2.1.0,>=2.0.0->tensorflow-gpu==2.0.0->tensorflow-addons~=0.6) (41.0.1)\n",
      "Requirement already satisfied: h5py in /usr/local/google/home/markdaoust/venv3/lib/python3.6/site-packages (from keras-applications>=1.0.8->tensorflow-gpu==2.0.0->tensorflow-addons~=0.6) (2.8.0)\n",
      "\u001b[31mERROR: Error checking for conflicts.\n",
      "Traceback (most recent call last):\n",
      "  File \"/usr/local/google/home/markdaoust/venv3/lib/python3.6/site-packages/pip/_vendor/pkg_resources/__init__.py\", line 3012, in _dep_map\n",
      "    return self.__dep_map\n",
      "  File \"/usr/local/google/home/markdaoust/venv3/lib/python3.6/site-packages/pip/_vendor/pkg_resources/__init__.py\", line 2806, in __getattr__\n",
      "    raise AttributeError(attr)\n",
      "AttributeError: _DistInfoDistribution__dep_map\n",
      "\n",
      "During handling of the above exception, another exception occurred:\n",
      "\n",
      "Traceback (most recent call last):\n",
      "  File \"/usr/local/google/home/markdaoust/venv3/lib/python3.6/site-packages/pip/_vendor/pkg_resources/__init__.py\", line 3003, in _parsed_pkg_info\n",
      "    return self._pkg_info\n",
      "  File \"/usr/local/google/home/markdaoust/venv3/lib/python3.6/site-packages/pip/_vendor/pkg_resources/__init__.py\", line 2806, in __getattr__\n",
      "    raise AttributeError(attr)\n",
      "AttributeError: _pkg_info\n",
      "\n",
      "During handling of the above exception, another exception occurred:\n",
      "\n",
      "Traceback (most recent call last):\n",
      "  File \"/usr/local/google/home/markdaoust/venv3/lib/python3.6/site-packages/pip/_internal/commands/install.py\", line 517, in _warn_about_conflicts\n",
      "    package_set, _dep_info = check_install_conflicts(to_install)\n",
      "  File \"/usr/local/google/home/markdaoust/venv3/lib/python3.6/site-packages/pip/_internal/operations/check.py\", line 110, in check_install_conflicts\n",
      "    package_set, _ = create_package_set_from_installed()\n",
      "  File \"/usr/local/google/home/markdaoust/venv3/lib/python3.6/site-packages/pip/_internal/operations/check.py\", line 49, in create_package_set_from_installed\n",
      "    package_set[name] = PackageDetails(dist.version, dist.requires())\n",
      "  File \"/usr/local/google/home/markdaoust/venv3/lib/python3.6/site-packages/pip/_vendor/pkg_resources/__init__.py\", line 2727, in requires\n",
      "    dm = self._dep_map\n",
      "  File \"/usr/local/google/home/markdaoust/venv3/lib/python3.6/site-packages/pip/_vendor/pkg_resources/__init__.py\", line 3014, in _dep_map\n",
      "    self.__dep_map = self._compute_dependencies()\n",
      "  File \"/usr/local/google/home/markdaoust/venv3/lib/python3.6/site-packages/pip/_vendor/pkg_resources/__init__.py\", line 3023, in _compute_dependencies\n",
      "    for req in self._parsed_pkg_info.get_all('Requires-Dist') or []:\n",
      "  File \"/usr/local/google/home/markdaoust/venv3/lib/python3.6/site-packages/pip/_vendor/pkg_resources/__init__.py\", line 3005, in _parsed_pkg_info\n",
      "    metadata = self.get_metadata(self.PKG_INFO)\n",
      "  File \"/usr/local/google/home/markdaoust/venv3/lib/python3.6/site-packages/pip/_vendor/pkg_resources/__init__.py\", line 1419, in get_metadata\n",
      "    value = self._get(self._fn(self.egg_info, name))\n",
      "  File \"/usr/local/google/home/markdaoust/venv3/lib/python3.6/site-packages/pip/_vendor/pkg_resources/__init__.py\", line 1607, in _get\n",
      "    with open(path, 'rb') as stream:\n",
      "FileNotFoundError: [Errno 2] No such file or directory: '/usr/local/google/home/markdaoust/venv3/lib/python3.6/site-packages/tf_nightly-2.1.0.dev20191003.dist-info/METADATA'\u001b[0m\n",
      "Installing collected packages: tensorflow-addons\n",
      "  Found existing installation: tensorflow-addons 0.5.1\n",
      "    Uninstalling tensorflow-addons-0.5.1:\n",
      "      Successfully uninstalled tensorflow-addons-0.5.1\n",
      "Successfully installed tensorflow-addons-0.6.0\n"
     ]
    }
   ],
   "source": [
    "import tensorflow_addons as tfa\n",
    "import tensorflow_datasets as tfds\n",
    "import numpy as np\n",
    "from matplotlib import pyplot as plt"
   ]
  },
  {
   "cell_type": "code",
   "execution_count": 4,
   "metadata": {
    "colab": {},
    "colab_type": "code",
    "id": "ys65MwOLKnXq"
   },
   "outputs": [],
   "source": [
    "# Hyperparameters\n",
    "batch_size=64\n",
    "epochs=10"
   ]
  },
  {
   "cell_type": "markdown",
   "metadata": {
    "colab_type": "text",
    "id": "KR01t9v_fxbT"
   },
   "source": [
    "# Build the Model"
   ]
  },
  {
   "cell_type": "code",
   "execution_count": null,
   "metadata": {
    "colab": {},
    "colab_type": "code",
    "id": "djpoAvfWNyL5"
   },
   "outputs": [],
   "source": [
    "model = tf.keras.Sequential([\n",
    "    tf.keras.layers.Dense(64, input_shape=(784,), activation='relu', name='dense_1'),\n",
    "    tf.keras.layers.Dense(64, activation='relu', name='dense_2'),\n",
    "    tf.keras.layers.Dense(10, activation='softmax', name='predictions'),\n",
    "])"
   ]
  },
  {
   "cell_type": "markdown",
   "metadata": {
    "colab_type": "text",
    "id": "0_D7CZqkv_Hj"
   },
   "source": [
    "# Prep the Data"
   ]
  },
  {
   "cell_type": "code",
   "execution_count": null,
   "metadata": {
    "colab": {},
    "colab_type": "code",
    "id": "U0bS3SyowBoB"
   },
   "outputs": [],
   "source": [
    "# Load MNIST dataset as NumPy arrays\n",
    "dataset = {}\n",
    "num_validation = 10000\n",
    "(x_train, y_train), (x_test, y_test) = tf.keras.datasets.mnist.load_data()\n",
    "\n",
    "# Preprocess the data\n",
    "x_train = x_train.reshape(-1, 784).astype('float32') / 255\n",
    "x_test = x_test.reshape(-1, 784).astype('float32') / 255"
   ]
  },
  {
   "cell_type": "markdown",
   "metadata": {
    "colab_type": "text",
    "id": "HYE-BxhOzFQp"
   },
   "source": [
    "# Train and Evaluate\n",
    "\n",
    "Simply replace typical keras optimizers with the new tfa optimizer "
   ]
  },
  {
   "cell_type": "code",
   "execution_count": null,
   "metadata": {
    "colab": {},
    "colab_type": "code",
    "id": "NxfYhtiSzHf-"
   },
   "outputs": [],
   "source": [
    "# Compile the model\n",
    "model.compile(\n",
    "    optimizer=tfa.optimizers.LazyAdam(0.001),  # Utilize TFA optimizer\n",
    "    loss=tf.keras.losses.SparseCategoricalCrossentropy(),\n",
    "    metrics=['accuracy'])\n",
    "\n",
    "# Train the network\n",
    "history = model.fit(\n",
    "    x_train,\n",
    "    y_train,\n",
    "    batch_size=batch_size,\n",
    "    epochs=epochs)\n"
   ]
  },
  {
   "cell_type": "code",
   "execution_count": null,
   "metadata": {
    "colab": {
     "base_uri": "https://localhost:8080/",
     "height": 68
    },
    "colab_type": "code",
    "id": "1Y--0tK69SXf",
    "outputId": "163a7751-e35b-4d9f-cc07-1f8580bdf6bf"
   },
   "outputs": [],
   "source": [
    "# Evaluate the network\n",
    "print('Evaluate on test data:')\n",
    "results = model.evaluate(x_test, y_test, batch_size=128)\n",
    "print('Test loss = {0}, Test acc: {1}'.format(results[0], results[1]))"
   ]
  }
 ],
 "metadata": {
  "accelerator": "GPU",
  "colab": {
   "collapsed_sections": [],
   "name": "optimizers_lazyadam.ipynb",
   "provenance": [],
   "version": "0.3.2"
  },
  "kernelspec": {
   "display_name": "Python 3",
   "language": "python",
   "name": "python3"
  },
  "language_info": {
   "codemirror_mode": {
    "name": "ipython",
    "version": 3
   },
   "file_extension": ".py",
   "mimetype": "text/x-python",
   "name": "python",
   "nbconvert_exporter": "python",
   "pygments_lexer": "ipython3",
   "version": "3.6.3"
  }
 },
 "nbformat": 4,
 "nbformat_minor": 1
}
