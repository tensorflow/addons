{
 "cells": [
  {
   "cell_type": "markdown",
   "metadata": {
    "colab_type": "text",
    "id": "GWEKvPCCxJke"
   },
   "source": [
    "##### Copyright 2019 The TensorFlow Authors."
   ]
  },
  {
   "cell_type": "code",
   "execution_count": 1,
   "metadata": {
    "colab": {},
    "colab_type": "code",
    "id": "l-m8KQ-nxK5l"
   },
   "outputs": [],
   "source": [
    "#@title Licensed under the Apache License, Version 2.0 (the \"License\");\n",
    "# you may not use this file except in compliance with the License.\n",
    "# You may obtain a copy of the License at\n",
    "#\n",
    "# https://www.apache.org/licenses/LICENSE-2.0\n",
    "#\n",
    "# Unless required by applicable law or agreed to in writing, software\n",
    "# distributed under the License is distributed on an \"AS IS\" BASIS,\n",
    "# WITHOUT WARRANTIES OR CONDITIONS OF ANY KIND, either express or implied.\n",
    "# See the License for the specific language governing permissions and\n",
    "# limitations under the License."
   ]
  },
  {
   "cell_type": "markdown",
   "metadata": {
    "colab_type": "text",
    "id": "O8FuVCLYxi_l"
   },
   "source": [
    "# TensorFlow Addons Image: Operations\n",
    "\n",
    "<table class=\"tfo-notebook-buttons\" align=\"left\">\n",
    "  <td>\n",
    "    <a target=\"_blank\" href=\"https://www.tensorflow.org/addons/tutorials/image_ops\"><img src=\"https://www.tensorflow.org/images/tf_logo_32px.png\" />View on TensorFlow.org</a>\n",
    "  </td>\n",
    "  <td>\n",
    "    <a target=\"_blank\" href=\"https://colab.research.google.com/github/tensorflow/addons/blob/master/docs/tutorials/image_ops.ipynb\"><img src=\"https://www.tensorflow.org/images/colab_logo_32px.png\" />Run in Google Colab</a>\n",
    "  </td>\n",
    "  <td>\n",
    "    <a target=\"_blank\" href=\"https://github.com/tensorflow/addons/blob/master/docs/tutorials/image_ops.ipynb\"><img src=\"https://www.tensorflow.org/images/GitHub-Mark-32px.png\" />View source on GitHub</a>\n",
    "  </td>\n",
    "</table>"
   ]
  },
  {
   "cell_type": "markdown",
   "metadata": {
    "colab_type": "text",
    "id": "2a5ksOt-xsOl"
   },
   "source": [
    "# Overview\n",
    "This notebook will demonstrate how to use the some image operations in TensorFlow Addons.\n",
    "\n",
    "Here is the list of image operations we'll be covering in this example:\n",
    "\n",
    "- tfa.image.mean_filter2d\n",
    "\n",
    "- tfa.image.rotate\n",
    "\n",
    "- tfa.image.transform\n",
    "\n",
    "- tfa.image.random_hsv_in_yiq\n",
    "\n",
    "- tfa.image.adjust_hsv_in_yiq\n",
    "\n",
    "- tfa.image.dense_image_warp\n",
    "\n",
    "- tfa.image.euclidean_dist_transform"
   ]
  },
  {
   "cell_type": "markdown",
   "metadata": {
    "colab_type": "text",
    "id": "DMbjxr4PyMPF"
   },
   "source": [
    "# Setup"
   ]
  },
  {
   "cell_type": "code",
   "execution_count": 2,
   "metadata": {},
   "outputs": [],
   "source": [
    "from __future__ import absolute_import, division, print_function, unicode_literals"
   ]
  },
  {
   "cell_type": "code",
   "execution_count": 3,
   "metadata": {},
   "outputs": [],
   "source": [
    "try:\n",
    "  %tensorflow_version 2.x\n",
    "except:\n",
    "  pass\n",
    "\n",
    "import tensorflow as tf"
   ]
  },
  {
   "cell_type": "code",
   "execution_count": 4,
   "metadata": {},
   "outputs": [
    {
     "name": "stdout",
     "output_type": "stream",
     "text": [
      "\u001b[31mERROR: Error checking for conflicts.\r\n",
      "Traceback (most recent call last):\r\n",
      "  File \"/usr/local/google/home/markdaoust/venv3/lib/python3.6/site-packages/pip/_vendor/pkg_resources/__init__.py\", line 3012, in _dep_map\r\n",
      "    return self.__dep_map\r\n",
      "  File \"/usr/local/google/home/markdaoust/venv3/lib/python3.6/site-packages/pip/_vendor/pkg_resources/__init__.py\", line 2806, in __getattr__\r\n",
      "    raise AttributeError(attr)\r\n",
      "AttributeError: _DistInfoDistribution__dep_map\r\n",
      "\r\n",
      "During handling of the above exception, another exception occurred:\r\n",
      "\r\n",
      "Traceback (most recent call last):\r\n",
      "  File \"/usr/local/google/home/markdaoust/venv3/lib/python3.6/site-packages/pip/_vendor/pkg_resources/__init__.py\", line 3003, in _parsed_pkg_info\r\n",
      "    return self._pkg_info\r\n",
      "  File \"/usr/local/google/home/markdaoust/venv3/lib/python3.6/site-packages/pip/_vendor/pkg_resources/__init__.py\", line 2806, in __getattr__\r\n",
      "    raise AttributeError(attr)\r\n",
      "AttributeError: _pkg_info\r\n",
      "\r\n",
      "During handling of the above exception, another exception occurred:\r\n",
      "\r\n",
      "Traceback (most recent call last):\r\n",
      "  File \"/usr/local/google/home/markdaoust/venv3/lib/python3.6/site-packages/pip/_internal/commands/install.py\", line 517, in _warn_about_conflicts\r\n",
      "    package_set, _dep_info = check_install_conflicts(to_install)\r\n",
      "  File \"/usr/local/google/home/markdaoust/venv3/lib/python3.6/site-packages/pip/_internal/operations/check.py\", line 110, in check_install_conflicts\r\n",
      "    package_set, _ = create_package_set_from_installed()\r\n",
      "  File \"/usr/local/google/home/markdaoust/venv3/lib/python3.6/site-packages/pip/_internal/operations/check.py\", line 49, in create_package_set_from_installed\r\n",
      "    package_set[name] = PackageDetails(dist.version, dist.requires())\r\n",
      "  File \"/usr/local/google/home/markdaoust/venv3/lib/python3.6/site-packages/pip/_vendor/pkg_resources/__init__.py\", line 2727, in requires\r\n",
      "    dm = self._dep_map\r\n",
      "  File \"/usr/local/google/home/markdaoust/venv3/lib/python3.6/site-packages/pip/_vendor/pkg_resources/__init__.py\", line 3014, in _dep_map\r\n",
      "    self.__dep_map = self._compute_dependencies()\r\n",
      "  File \"/usr/local/google/home/markdaoust/venv3/lib/python3.6/site-packages/pip/_vendor/pkg_resources/__init__.py\", line 3023, in _compute_dependencies\r\n",
      "    for req in self._parsed_pkg_info.get_all('Requires-Dist') or []:\r\n",
      "  File \"/usr/local/google/home/markdaoust/venv3/lib/python3.6/site-packages/pip/_vendor/pkg_resources/__init__.py\", line 3005, in _parsed_pkg_info\r\n",
      "    metadata = self.get_metadata(self.PKG_INFO)\r\n",
      "  File \"/usr/local/google/home/markdaoust/venv3/lib/python3.6/site-packages/pip/_vendor/pkg_resources/__init__.py\", line 1419, in get_metadata\r\n",
      "    value = self._get(self._fn(self.egg_info, name))\r\n",
      "  File \"/usr/local/google/home/markdaoust/venv3/lib/python3.6/site-packages/pip/_vendor/pkg_resources/__init__.py\", line 1607, in _get\r\n",
      "    with open(path, 'rb') as stream:\r\n",
      "FileNotFoundError: [Errno 2] No such file or directory: '/usr/local/google/home/markdaoust/venv3/lib/python3.6/site-packages/tf_nightly-2.1.0.dev20191003.dist-info/METADATA'\u001b[0m\r\n"
     ]
    }
   ],
   "source": [
    "!pip install -q tensorflow-addons~=0.6"
   ]
  },
  {
   "cell_type": "code",
   "execution_count": 5,
   "metadata": {
    "colab": {
     "base_uri": "https://localhost:8080/",
     "height": 85
    },
    "colab_type": "code",
    "id": "2ZdFry6yAp-c",
    "outputId": "0be2c0d6-ea06-48bc-97ef-06ccffabbf0a"
   },
   "outputs": [],
   "source": [
    "import numpy as np\n",
    "import tensorflow_addons as tfa\n",
    "import matplotlib.pyplot as plt"
   ]
  },
  {
   "cell_type": "markdown",
   "metadata": {
    "colab_type": "text",
    "id": "Q6Z2rsP8yp2v"
   },
   "source": [
    "# Prepare and Inspect Images"
   ]
  },
  {
   "cell_type": "markdown",
   "metadata": {
    "colab_type": "text",
    "id": "9gbgJP10z9WO"
   },
   "source": [
    "## Download the images"
   ]
  },
  {
   "cell_type": "code",
   "execution_count": 6,
   "metadata": {
    "colab": {},
    "colab_type": "code",
    "id": "IgUsVhBQ6dSg"
   },
   "outputs": [],
   "source": [
    "!wget -q https://tensorflow.org/images/tf_logo.png -O tensorflow.png"
   ]
  },
  {
   "cell_type": "markdown",
   "metadata": {
    "colab_type": "text",
    "id": "uheQOL-y0Fj3"
   },
   "source": [
    "## Inspect the images"
   ]
  },
  {
   "cell_type": "markdown",
   "metadata": {
    "colab_type": "text",
    "id": "MFGirRRZ0Y9k"
   },
   "source": [
    "### TensorFlow Icon"
   ]
  },
  {
   "cell_type": "code",
   "execution_count": 7,
   "metadata": {
    "colab": {
     "base_uri": "https://localhost:8080/",
     "height": 281
    },
    "colab_type": "code",
    "id": "NRlvNQdm1YI8",
    "outputId": "3997165d-46b0-4ac6-adaf-22bfd94efeb8"
   },
   "outputs": [
    {
     "data": {
      "image/png": "[encoded data removed]",
      "text/plain": [
       "<Figure size 432x288 with 1 Axes>"
      ]
     },
     "metadata": {
      "needs_background": "light"
     },
     "output_type": "display_data"
    }
   ],
   "source": [
    "img_raw = tf.io.read_file(\"tensorflow.png\")\n",
    "img = tf.io.decode_image(img_raw)\n",
    "img = tf.image.convert_image_dtype(img, tf.float32)\n",
    "img = tf.image.resize(img, [500,500])\n",
    "\n",
    "plt.title(\"TensorFlow Logo with shape {}\".format(img.shape))\n",
    "_ = plt.imshow(img)"
   ]
  },
  {
   "cell_type": "markdown",
   "metadata": {
    "colab_type": "text",
    "id": "clXQrFVa2nN7"
   },
   "source": [
    "### Make a black and white version"
   ]
  },
  {
   "cell_type": "code",
   "execution_count": 8,
   "metadata": {
    "colab": {
     "base_uri": "https://localhost:8080/",
     "height": 253
    },
    "colab_type": "code",
    "id": "tbaIkUCS2eNv",
    "outputId": "e6b11596-71f5-4a45-aea2-657c4ecdfef7",
    "scrolled": true
   },
   "outputs": [
    {
     "data": {
      "image/png": "[encoded data removed]",
      "text/plain": [
       "<Figure size 432x288 with 1 Axes>"
      ]
     },
     "metadata": {
      "needs_background": "light"
     },
     "output_type": "display_data"
    }
   ],
   "source": [
    "bw_img = 1.0 - tf.image.rgb_to_grayscale(img)\n",
    "\n",
    "plt.title(\"Mask image with shape {}\".format(bw_img.shape))\n",
    "_ = plt.imshow(bw_img[...,0], cmap='gray')"
   ]
  },
  {
   "cell_type": "markdown",
   "metadata": {
    "colab_type": "text",
    "id": "UwqfpOm--vV2"
   },
   "source": [
    "# Play with tfa.image"
   ]
  },
  {
   "cell_type": "markdown",
   "metadata": {
    "colab_type": "text",
    "id": "jIa5HnomPds3"
   },
   "source": [
    "## Mean filtering\n",
    "Mean filtering is a filtering technique, which is often used to remove noise from an image or signal. The idea is to run through the image pixel by pixel and replacing it with the average values of neighboring pixels."
   ]
  },
  {
   "cell_type": "code",
   "execution_count": 9,
   "metadata": {
    "colab": {
     "base_uri": "https://localhost:8080/",
     "height": 269
    },
    "colab_type": "code",
    "id": "SutWnbRoHl6i",
    "outputId": "4755c425-b3f6-4309-e53e-e46e72acdaac"
   },
   "outputs": [
    {
     "data": {
      "image/png": "[encoded data removed]",
      "text/plain": [
       "<Figure size 432x288 with 1 Axes>"
      ]
     },
     "metadata": {
      "needs_background": "light"
     },
     "output_type": "display_data"
    }
   ],
   "source": [
    "mean = tfa.image.mean_filter2d(img, filter_shape=11)\n",
    "_ = plt.imshow(mean)"
   ]
  },
  {
   "cell_type": "markdown",
   "metadata": {
    "colab_type": "text",
    "id": "Mp6cU7I0-r2h"
   },
   "source": [
    "## Rotate\n",
    "This operation rotates the given image by the angle (in radians) input by the user.  "
   ]
  },
  {
   "cell_type": "code",
   "execution_count": 10,
   "metadata": {
    "colab": {
     "base_uri": "https://localhost:8080/",
     "height": 269
    },
    "colab_type": "code",
    "id": "9kxUES9sM8Jl",
    "outputId": "f79b075f-a204-45f3-c5fe-e80cd6ae20ee"
   },
   "outputs": [
    {
     "data": {
      "image/png": "[encoded data removed]",
      "text/plain": [
       "<Figure size 432x288 with 1 Axes>"
      ]
     },
     "metadata": {
      "needs_background": "light"
     },
     "output_type": "display_data"
    }
   ],
   "source": [
    "rotate = tfa.image.rotate(img, tf.constant(np.pi/8))\n",
    "_ = plt.imshow(rotate)"
   ]
  },
  {
   "cell_type": "markdown",
   "metadata": {
    "colab_type": "text",
    "id": "WjMdSDKlBcPh"
   },
   "source": [
    "## Transform\n",
    "This operation transforms the given image on the basis of the transform vector given by the user. "
   ]
  },
  {
   "cell_type": "code",
   "execution_count": 11,
   "metadata": {
    "colab": {
     "base_uri": "https://localhost:8080/",
     "height": 269
    },
    "colab_type": "code",
    "id": "HTh1Qpps8Rg5",
    "outputId": "3badc7c5-ae57-44a8-b619-14ed7196663d"
   },
   "outputs": [
    {
     "data": {
      "image/png": "[encoded data removed]",
      "text/plain": [
       "<Figure size 432x288 with 1 Axes>"
      ]
     },
     "metadata": {
      "needs_background": "light"
     },
     "output_type": "display_data"
    }
   ],
   "source": [
    "transform = tfa.image.transform(img, [1.0, 1.0, -250, 0.0, 1.0, 0.0, 0.0, 0.0])\n",
    "_ = plt.imshow(transform)"
   ]
  },
  {
   "cell_type": "markdown",
   "metadata": {
    "colab_type": "text",
    "id": "O79BrK-bC8oh"
   },
   "source": [
    "## Random HSV in YIQ\n",
    "This operation changes color scale of a given RGB image to YIQ but here delta hue and saturation values are picked randomly from the given range."
   ]
  },
  {
   "cell_type": "code",
   "execution_count": 12,
   "metadata": {
    "colab": {
     "base_uri": "https://localhost:8080/",
     "height": 269
    },
    "colab_type": "code",
    "id": "zZBI-9XvBSuh",
    "outputId": "acbec9e8-b217-4d8c-f6ec-d8c272fd71fa"
   },
   "outputs": [
    {
     "data": {
      "image/png": "[encoded data removed]",
      "text/plain": [
       "<Figure size 432x288 with 1 Axes>"
      ]
     },
     "metadata": {
      "needs_background": "light"
     },
     "output_type": "display_data"
    }
   ],
   "source": [
    "delta = 0.5\n",
    "lower_saturation = 0.1\n",
    "upper_saturation = 0.9\n",
    "lower_value = 0.2\n",
    "upper_value = 0.8\n",
    "rand_hsvinyiq = tfa.image.random_hsv_in_yiq(img, delta, lower_saturation, upper_saturation, lower_value, upper_value)\n",
    "_ = plt.imshow(rand_hsvinyiq)"
   ]
  },
  {
   "cell_type": "markdown",
   "metadata": {
    "colab_type": "text",
    "id": "ruyvVnmCDBgj"
   },
   "source": [
    "## Adjust HSV in YIQ\n",
    "This operation changes color scale of a given RGB image to YIQ but here instead of choosing randomly, delta hue and saturation values are inputs form the user."
   ]
  },
  {
   "cell_type": "code",
   "execution_count": 13,
   "metadata": {
    "colab": {
     "base_uri": "https://localhost:8080/",
     "height": 269
    },
    "colab_type": "code",
    "id": "vbCdwGtYChnQ",
    "outputId": "9aa7cada-ffe4-4404-8a31-21427e9c18c4"
   },
   "outputs": [
    {
     "data": {
      "image/png": "[encoded data removed]",
      "text/plain": [
       "<Figure size 432x288 with 1 Axes>"
      ]
     },
     "metadata": {
      "needs_background": "light"
     },
     "output_type": "display_data"
    }
   ],
   "source": [
    "delta = 0.5\n",
    "saturation = 0.3\n",
    "value = 0.6\n",
    "adj_hsvinyiq = tfa.image.adjust_hsv_in_yiq(img, delta, saturation, value)\n",
    "_ = plt.imshow(adj_hsvinyiq)"
   ]
  },
  {
   "cell_type": "markdown",
   "metadata": {
    "colab_type": "text",
    "id": "fdbCDYJkG8Gv"
   },
   "source": [
    "## Dense Image Warp\n",
    "This operation is for non-linear warp of any image specified by the flow field of the offset vector (here used random values for example). "
   ]
  },
  {
   "cell_type": "code",
   "execution_count": 14,
   "metadata": {
    "colab": {
     "base_uri": "https://localhost:8080/",
     "height": 269
    },
    "colab_type": "code",
    "id": "dG557eQDDtSK",
    "outputId": "9a5fa541-d465-435a-9b47-edded4a2811a"
   },
   "outputs": [
    {
     "data": {
      "image/png": "[encoded data removed]",
      "text/plain": [
       "<Figure size 432x288 with 1 Axes>"
      ]
     },
     "metadata": {
      "needs_background": "light"
     },
     "output_type": "display_data"
    }
   ],
   "source": [
    "input_img = tf.image.convert_image_dtype(tf.expand_dims(img, 0), tf.dtypes.float32)\n",
    "\n",
    "flow_shape = [1, input_img.shape[1], input_img.shape[2], 2]\n",
    "init_flows = np.float32(np.random.normal(size=flow_shape) * 2.0)\n",
    "dense_img_warp = tfa.image.dense_image_warp(input_img, init_flows)\n",
    "dense_img_warp = tf.squeeze(dense_img_warp, 0)\n",
    "_ = plt.imshow(dense_img_warp)"
   ]
  },
  {
   "cell_type": "markdown",
   "metadata": {
    "colab_type": "text",
    "id": "FcLMnSKYPcjA"
   },
   "source": [
    "## Euclidian Distance Transform\n",
    "This operation updates the pixel value with the euclidian distance from the foreground pixel to the background one.\n",
    "* Note : It takes only binary image and results in transformed image. If a different image is given it results in a image with single value"
   ]
  },
  {
   "cell_type": "code",
   "execution_count": 18,
   "metadata": {
    "colab": {
     "base_uri": "https://localhost:8080/",
     "height": 240
    },
    "colab_type": "code",
    "id": "-OMh6oeRQaYQ",
    "outputId": "bba9e240-3427-41b8-f1ec-38f5afdc0356"
   },
   "outputs": [
    {
     "data": {
      "image/png": "[encoded data removed]",
      "text/plain": [
       "<Figure size 432x288 with 1 Axes>"
      ]
     },
     "metadata": {
      "needs_background": "light"
     },
     "output_type": "display_data"
    }
   ],
   "source": [
    "gray = tf.image.convert_image_dtype(bw_img,tf.uint8)\n",
    "# The op expects a batch of images, so add a batch dimension\n",
    "gray = tf.expand_dims(gray, 0)\n",
    "eucid = tfa.image.euclidean_dist_transform(gray)\n",
    "eucid = tf.squeeze(eucid, (0, -1))\n",
    "_ = plt.imshow(eucid, cmap='gray')"
   ]
  },
  {
   "cell_type": "code",
   "execution_count": null,
   "metadata": {},
   "outputs": [],
   "source": []
  }
 ],
 "metadata": {
  "accelerator": "GPU",
  "colab": {
   "collapsed_sections": [],
   "name": "image_ops.ipynb",
   "provenance": [],
   "version": "0.3.2"
  },
  "kernelspec": {
   "display_name": "Python 3",
   "language": "python",
   "name": "python3"
  },
  "language_info": {
   "codemirror_mode": {
    "name": "ipython",
    "version": 3
   },
   "file_extension": ".py",
   "mimetype": "text/x-python",
   "name": "python",
   "nbconvert_exporter": "python",
   "pygments_lexer": "ipython3",
   "version": "3.6.3"
  }
 },
 "nbformat": 4,
 "nbformat_minor": 1
}
