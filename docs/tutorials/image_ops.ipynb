{
 "cells": [
  {
   "cell_type": "markdown",
   "metadata": {
    "colab_type": "text",
    "id": "GWEKvPCCxJke"
   },
   "source": [
    "##### Copyright 2019 The TensorFlow Authors."
   ]
  },
  {
   "cell_type": "code",
   "execution_count": null,
   "metadata": {
    "colab": {},
    "colab_type": "code",
    "id": "l-m8KQ-nxK5l"
   },
   "outputs": [],
   "source": [
    "#@title Licensed under the Apache License, Version 2.0 (the \"License\");\n",
    "# you may not use this file except in compliance with the License.\n",
    "# You may obtain a copy of the License at\n",
    "#\n",
    "# https://www.apache.org/licenses/LICENSE-2.0\n",
    "#\n",
    "# Unless required by applicable law or agreed to in writing, software\n",
    "# distributed under the License is distributed on an \"AS IS\" BASIS,\n",
    "# WITHOUT WARRANTIES OR CONDITIONS OF ANY KIND, either express or implied.\n",
    "# See the License for the specific language governing permissions and\n",
    "# limitations under the License."
   ]
  },
  {
   "cell_type": "markdown",
   "metadata": {
    "colab_type": "text",
    "id": "O8FuVCLYxi_l"
   },
   "source": [
    "# TensorFlow Addons Image: Operations\n",
    "\n",
    "<table class=\"tfo-notebook-buttons\" align=\"left\">\n",
    "  <td>\n",
    "    <a target=\"_blank\" href=\"https://www.tensorflow.org/addons/tutorials/image_ops\"><img src=\"https://www.tensorflow.org/images/tf_logo_32px.png\" />View on TensorFlow.org</a>\n",
    "  </td>\n",
    "  <td>\n",
    "    <a target=\"_blank\" href=\"https://colab.research.google.com/github/tensorflow/addons/blob/master/docs/tutorials/image_ops.ipynb\"><img src=\"https://www.tensorflow.org/images/colab_logo_32px.png\" />Run in Google Colab</a>\n",
    "  </td>\n",
    "  <td>\n",
    "    <a target=\"_blank\" href=\"https://github.com/tensorflow/addons/blob/master/docs/tutorials/image_ops.ipynb\"><img src=\"https://www.tensorflow.org/images/GitHub-Mark-32px.png\" />View source on GitHub</a>\n",
    "  </td>\n",
    "      <td>\n",
    "    <a href=\"https://storage.googleapis.com/tensorflow_docs/addons/docs/tutorials/image_ops.ipynb\"><img src=\"https://www.tensorflow.org/images/download_logo_32px.png\" />Download notebook</a>\n",
    "  </td>\n",
    "</table>"
   ]
  },
  {
   "cell_type": "markdown",
   "metadata": {
    "colab_type": "text",
    "id": "2a5ksOt-xsOl"
   },
   "source": [
    "# Overview\n",
    "This notebook will demonstrate how to use the some image operations in TensorFlow Addons.\n",
    "\n",
    "Here is the list of image operations we'll be covering in this example:\n",
    "\n",
    "- tfa.image.mean_filter2d\n",
    "\n",
    "- tfa.image.rotate\n",
    "\n",
    "- tfa.image.transform\n",
    "\n",
    "- tfa.image.random_hsv_in_yiq\n",
    "\n",
    "- tfa.image.adjust_hsv_in_yiq\n",
    "\n",
    "- tfa.image.dense_image_warp\n",
    "\n",
    "- tfa.image.euclidean_dist_transform"
   ]
  },
  {
   "cell_type": "markdown",
   "metadata": {
    "colab_type": "text",
    "id": "DMbjxr4PyMPF"
   },
   "source": [
    "# Setup"
   ]
  },
  {
   "cell_type": "code",
   "execution_count": null,
   "metadata": {
    "colab": {},
    "colab_type": "code",
    "id": "ou0vRZKPWh4X"
   },
   "outputs": [],
   "source": [
    "from __future__ import absolute_import, division, print_function, unicode_literals"
   ]
  },
  {
   "cell_type": "code",
   "execution_count": null,
   "metadata": {
    "colab": {},
    "colab_type": "code",
    "id": "5hVIKCrhWh4a"
   },
   "outputs": [],
   "source": [
    "try:\n",
    "  %tensorflow_version 2.x\n",
    "except:\n",
    "  pass\n",
    "\n",
    "import tensorflow as tf"
   ]
  },
  {
   "cell_type": "code",
   "execution_count": null,
   "metadata": {
    "colab": {},
    "colab_type": "code",
    "id": "y2AeXB13Wh4e"
   },
   "outputs": [],
   "source": [
    "!pip install -q --no-deps tensorflow-addons~=0.6"
   ]
  },
  {
   "cell_type": "code",
   "execution_count": null,
   "metadata": {
    "colab": {},
    "colab_type": "code",
    "id": "2ZdFry6yAp-c"
   },
   "outputs": [],
   "source": [
    "import numpy as np\n",
    "import tensorflow_addons as tfa\n",
    "import matplotlib.pyplot as plt"
   ]
  },
  {
   "cell_type": "markdown",
   "metadata": {
    "colab_type": "text",
    "id": "Q6Z2rsP8yp2v"
   },
   "source": [
    "# Prepare and Inspect Images"
   ]
  },
  {
   "cell_type": "markdown",
   "metadata": {
    "colab_type": "text",
    "id": "9gbgJP10z9WO"
   },
   "source": [
    "## Download the images"
   ]
  },
  {
   "cell_type": "code",
   "execution_count": null,
   "metadata": {
    "colab": {},
    "colab_type": "code",
    "id": "IgUsVhBQ6dSg"
   },
   "outputs": [],
   "source": [
    "!wget -q https://tensorflow.org/images/tf_logo.png -O tensorflow.png"
   ]
  },
  {
   "cell_type": "markdown",
   "metadata": {
    "colab_type": "text",
    "id": "uheQOL-y0Fj3"
   },
   "source": [
    "## Inspect the images"
   ]
  },
  {
   "cell_type": "markdown",
   "metadata": {
    "colab_type": "text",
    "id": "MFGirRRZ0Y9k"
   },
   "source": [
    "### TensorFlow Icon"
   ]
  },
  {
   "cell_type": "code",
   "execution_count": null,
   "metadata": {
    "colab": {
     "base_uri": "https://localhost:8080/",
     "height": 281
    },
    "colab_type": "code",
    "id": "NRlvNQdm1YI8",
    "outputId": "c69ff5b2-b484-42fd-d531-a88c991c021b"
   },
   "outputs": [],
   "source": [
    "img_raw = tf.io.read_file(\"tensorflow.png\")\n",
    "img = tf.io.decode_image(img_raw)\n",
    "img = tf.image.convert_image_dtype(img, tf.float32)\n",
    "img = tf.image.resize(img, [500,500])\n",
    "\n",
    "plt.title(\"TensorFlow Logo with shape {}\".format(img.shape))\n",
    "_ = plt.imshow(img)"
   ]
  },
  {
   "cell_type": "markdown",
   "metadata": {
    "colab_type": "text",
    "id": "clXQrFVa2nN7"
   },
   "source": [
    "### Make a black and white version"
   ]
  },
  {
   "cell_type": "code",
   "execution_count": null,
   "metadata": {
    "colab": {
     "base_uri": "https://localhost:8080/",
     "height": 281
    },
    "colab_type": "code",
    "id": "tbaIkUCS2eNv",
    "outputId": "270c68ed-7c6c-42f5-b072-92fac9c3a7de"
   },
   "outputs": [],
   "source": [
    "bw_img = 1.0 - tf.image.rgb_to_grayscale(img)\n",
    "\n",
    "plt.title(\"Mask image with shape {}\".format(bw_img.shape))\n",
    "_ = plt.imshow(bw_img[...,0], cmap='gray')"
   ]
  },
  {
   "cell_type": "markdown",
   "metadata": {
    "colab_type": "text",
    "id": "UwqfpOm--vV2"
   },
   "source": [
    "# Play with tfa.image"
   ]
  },
  {
   "cell_type": "markdown",
   "metadata": {
    "colab_type": "text",
    "id": "jIa5HnomPds3"
   },
   "source": [
    "## Mean filtering\n",
    "Mean filtering is a filtering technique, which is often used to remove noise from an image or signal. The idea is to run through the image pixel by pixel and replacing it with the average values of neighboring pixels."
   ]
  },
  {
   "cell_type": "code",
   "execution_count": null,
   "metadata": {
    "colab": {
     "base_uri": "https://localhost:8080/",
     "height": 269
    },
    "colab_type": "code",
    "id": "SutWnbRoHl6i",
    "outputId": "38e66f48-2062-4a25-faec-5661e9a2047c"
   },
   "outputs": [],
   "source": [
    "mean = tfa.image.mean_filter2d(img, filter_shape=11)\n",
    "_ = plt.imshow(mean)"
   ]
  },
  {
   "cell_type": "markdown",
   "metadata": {
    "colab_type": "text",
    "id": "Mp6cU7I0-r2h"
   },
   "source": [
    "## Rotate\n",
    "This operation rotates the given image by the angle (in radians) input by the user.  "
   ]
  },
  {
   "cell_type": "code",
   "execution_count": null,
   "metadata": {
    "colab": {
     "base_uri": "https://localhost:8080/",
     "height": 269
    },
    "colab_type": "code",
    "id": "9kxUES9sM8Jl",
    "outputId": "7bbfb8ad-25f3-4c76-9880-ab423412a034"
   },
   "outputs": [],
   "source": [
    "rotate = tfa.image.rotate(img, tf.constant(np.pi/8))\n",
    "_ = plt.imshow(rotate)"
   ]
  },
  {
   "cell_type": "markdown",
   "metadata": {
    "colab_type": "text",
    "id": "WjMdSDKlBcPh"
   },
   "source": [
    "## Transform\n",
    "This operation transforms the given image on the basis of the transform vector given by the user. "
   ]
  },
  {
   "cell_type": "code",
   "execution_count": null,
   "metadata": {
    "colab": {
     "base_uri": "https://localhost:8080/",
     "height": 269
    },
    "colab_type": "code",
    "id": "HTh1Qpps8Rg5",
    "outputId": "b9449f81-ee94-4e5b-ac63-12e63ebb8dea"
   },
   "outputs": [],
   "source": [
    "transform = tfa.image.transform(img, [1.0, 1.0, -250, 0.0, 1.0, 0.0, 0.0, 0.0])\n",
    "_ = plt.imshow(transform)"
   ]
  },
  {
   "cell_type": "markdown",
   "metadata": {
    "colab_type": "text",
    "id": "O79BrK-bC8oh"
   },
   "source": [
    "## Random HSV in YIQ\n",
    "This operation changes color scale of a given RGB image to YIQ but here delta hue and saturation values are picked randomly from the given range."
   ]
  },
  {
   "cell_type": "code",
   "execution_count": null,
   "metadata": {
    "colab": {
     "base_uri": "https://localhost:8080/",
     "height": 269
    },
    "colab_type": "code",
    "id": "zZBI-9XvBSuh",
    "outputId": "80c69ebd-8b6b-42f2-cd98-82b858888b88"
   },
   "outputs": [],
   "source": [
    "delta = 0.5\n",
    "lower_saturation = 0.1\n",
    "upper_saturation = 0.9\n",
    "lower_value = 0.2\n",
    "upper_value = 0.8\n",
    "rand_hsvinyiq = tfa.image.random_hsv_in_yiq(img, delta, lower_saturation, upper_saturation, lower_value, upper_value)\n",
    "_ = plt.imshow(rand_hsvinyiq)"
   ]
  },
  {
   "cell_type": "markdown",
   "metadata": {
    "colab_type": "text",
    "id": "ruyvVnmCDBgj"
   },
   "source": [
    "## Adjust HSV in YIQ\n",
    "This operation changes color scale of a given RGB image to YIQ but here instead of choosing randomly, delta hue and saturation values are inputs form the user."
   ]
  },
  {
   "cell_type": "code",
   "execution_count": null,
   "metadata": {
    "colab": {
     "base_uri": "https://localhost:8080/",
     "height": 269
    },
    "colab_type": "code",
    "id": "vbCdwGtYChnQ",
    "outputId": "a0775206-c7e8-4651-f794-000f386798e6"
   },
   "outputs": [],
   "source": [
    "delta = 0.5\n",
    "saturation = 0.3\n",
    "value = 0.6\n",
    "adj_hsvinyiq = tfa.image.adjust_hsv_in_yiq(img, delta, saturation, value)\n",
    "_ = plt.imshow(adj_hsvinyiq)"
   ]
  },
  {
   "cell_type": "markdown",
   "metadata": {
    "colab_type": "text",
    "id": "fdbCDYJkG8Gv"
   },
   "source": [
    "## Dense Image Warp\n",
    "This operation is for non-linear warp of any image specified by the flow field of the offset vector (here used random values for example). "
   ]
  },
  {
   "cell_type": "code",
   "execution_count": null,
   "metadata": {
    "colab": {
     "base_uri": "https://localhost:8080/",
     "height": 269
    },
    "colab_type": "code",
    "id": "dG557eQDDtSK",
    "outputId": "dc1e5ed7-f129-47a9-d5b9-7f69b62494e7"
   },
   "outputs": [],
   "source": [
    "input_img = tf.image.convert_image_dtype(tf.expand_dims(img, 0), tf.dtypes.float32)\n",
    "\n",
    "flow_shape = [1, input_img.shape[1], input_img.shape[2], 2]\n",
    "init_flows = np.float32(np.random.normal(size=flow_shape) * 2.0)\n",
    "dense_img_warp = tfa.image.dense_image_warp(input_img, init_flows)\n",
    "dense_img_warp = tf.squeeze(dense_img_warp, 0)\n",
    "_ = plt.imshow(dense_img_warp)"
   ]
  },
  {
   "cell_type": "markdown",
   "metadata": {
    "colab_type": "text",
    "id": "FcLMnSKYPcjA"
   },
   "source": [
    "## Euclidian Distance Transform\n",
    "This operation updates the pixel value with the euclidian distance from the foreground pixel to the background one.\n",
    "* Note : It takes only binary image and results in transformed image. If a different image is given it results in a image with single value"
   ]
  },
  {
   "cell_type": "code",
   "execution_count": null,
   "metadata": {
    "colab": {
     "base_uri": "https://localhost:8080/",
     "height": 269
    },
    "colab_type": "code",
    "id": "-OMh6oeRQaYQ",
    "outputId": "06cc859d-3b16-46c6-b23b-a2cdfd7f2fe3"
   },
   "outputs": [],
   "source": [
    "gray = tf.image.convert_image_dtype(bw_img,tf.uint8)\n",
    "# The op expects a batch of images, so add a batch dimension\n",
    "gray = tf.expand_dims(gray, 0)\n",
    "eucid = tfa.image.euclidean_dist_transform(gray)\n",
    "eucid = tf.squeeze(eucid, (0, -1))\n",
    "_ = plt.imshow(eucid, cmap='gray')"
   ]
  },
  {
   "cell_type": "code",
   "execution_count": null,
   "metadata": {
    "colab": {},
    "colab_type": "code",
    "id": "Vy722u9qWh5S"
   },
   "outputs": [],
   "source": []
  }
 ],
 "metadata": {
  "accelerator": "GPU",
  "colab": {
   "collapsed_sections": [],
   "name": "image_ops.ipynb",
   "private_outputs": true,
   "provenance": [],
   "toc_visible": true
  },
  "kernelspec": {
   "display_name": "Python 3",
   "language": "python",
   "name": "python3"
  },
  "language_info": {
   "codemirror_mode": {
    "name": "ipython",
    "version": 3
   },
   "file_extension": ".py",
   "mimetype": "text/x-python",
   "name": "python",
   "nbconvert_exporter": "python",
   "pygments_lexer": "ipython3",
   "version": "3.6.3"
  }
 },
 "nbformat": 4,
 "nbformat_minor": 1
}
