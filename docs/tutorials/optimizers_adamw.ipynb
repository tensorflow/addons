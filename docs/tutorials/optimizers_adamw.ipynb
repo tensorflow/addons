{
  "nbformat": 4,
  "nbformat_minor": 0,
  "metadata": {
    "accelerator": "GPU",
    "colab": {
      "name": "optimizers_adamw.ipynb",
      "provenance": [],
      "collapsed_sections": [],
      "toc_visible": true,
      "include_colab_link": true
    },
    "kernelspec": {
      "name": "python3",
      "display_name": "Python 3"
    }
  },
  "cells": [
    {
      "cell_type": "markdown",
      "metadata": {
        "id": "view-in-github",
        "colab_type": "text"
      },
      "source": [
        "<a href=\"https://colab.research.google.com/github/us/addons/blob/add-adamw-tutorial/docs/tutorials/optimizers_adamw.ipynb\" target=\"_parent\"><img src=\"https://colab.research.google.com/assets/colab-badge.svg\" alt=\"Open In Colab\"/></a>"
      ]
    },
    {
      "cell_type": "markdown",
      "metadata": {
        "colab_type": "text",
        "id": "x4HI2mpwlrcn"
      },
      "source": [
        "##### Copyright 2020 The TensorFlow Authors."
      ]
    },
    {
      "cell_type": "code",
      "metadata": {
        "cellView": "both",
        "colab_type": "code",
        "id": "679Lmwt3l1Bk",
        "colab": {}
      },
      "source": [
        "#@title Licensed under the Apache License, Version 2.0 (the \"License\");\n",
        "# you may not use this file except in compliance with the License.\n",
        "# You may obtain a copy of the License at\n",
        "#\n",
        "# https://www.apache.org/licenses/LICENSE-2.0\n",
        "#\n",
        "# Unless required by applicable law or agreed to in writing, software\n",
        "# distributed under the License is distributed on an \"AS IS\" BASIS,\n",
        "# WITHOUT WARRANTIES OR CONDITIONS OF ANY KIND, either express or implied.\n",
        "# See the License for the specific language governing permissions and\n",
        "# limitations under the License."
      ],
      "execution_count": 0,
      "outputs": []
    },
    {
      "cell_type": "markdown",
      "metadata": {
        "colab_type": "text",
        "id": "DSPCom-KmApV"
      },
      "source": [
        "# TensorFlow Addons Optimizers: AdamW\n",
        "<table class=\"tfo-notebook-buttons\" align=\"left\">\n",
        "  <td>\n",
        "    <a target=\"_blank\" href=\"https://www.tensorflow.org/addons/tutorials/optimizers_adamw\"><img src=\"https://www.tensorflow.org/images/tf_logo_32px.png\" />View on TensorFlow.org</a>\n",
        "  </td>\n",
        "  <td>\n",
        "    <a target=\"_blank\" href=\"https://colab.research.google.com/github/tensorflow/addons/blob/master/docs/tutorials/optimizers_adamw.ipynb\"><img src=\"https://www.tensorflow.org/images/colab_logo_32px.png\" />Run in Google Colab</a>\n",
        "  </td>\n",
        "  <td>\n",
        "    <a target=\"_blank\" href=\"https://github.com/tensorflow/addons/blob/master/docs/tutorials/optimizers_adamw.ipynb\"><img src=\"https://www.tensorflow.org/images/GitHub-Mark-32px.png\" />View source on GitHub</a>\n",
        "  </td>\n",
        "  <td>\n",
        "    <a href=\"https://storage.googleapis.com/tensorflow_docs/addons/docs/tutorials/optimizers_adamw.ipynb\"><img src=\"https://www.tensorflow.org/images/download_logo_32px.png\" />Download notebook</a>\n",
        "  </td>\n",
        "</table>"
      ]
    },
    {
      "cell_type": "markdown",
      "metadata": {
        "colab_type": "text",
        "id": "qLGkt5qiyz4E"
      },
      "source": [
        "## Overview\n",
        "This notebook will demonstrate how to use the AdamW function in TensorFlow Addons and compares with Adam optimizer on **CIFAR10 dataset**.\n",
        "\n",
        "**Resources**:\n",
        "\n",
        "- [Decoupled Weight Decay Regularization (AdamW Paper)](https://arxiv.org/abs/1711.05101)\n",
        "\n",
        "- [AdamW and Super-convergence is now the fastest way to train neural nets\n",
        "](https://www.fast.ai/2018/07/02/adam-weight-decay/#implementing-adamw)\n",
        "\n",
        "- [What’s up with Deep Learning optimizers since Adam?](https://medium.com/vitalify-asia/whats-up-with-deep-learning-optimizers-since-adam-5c1d862b9db0)\n"
      ]
    },
    {
      "cell_type": "markdown",
      "metadata": {
        "id": "Yk3MXzegxIbu",
        "colab_type": "text"
      },
      "source": [
        ""
      ]
    },
    {
      "cell_type": "markdown",
      "metadata": {
        "id": "69iz6NUSuH2L",
        "colab_type": "text"
      },
      "source": [
        "## AdamW\n",
        "AdamW is a optimizer that implements the Adam algorithm with weight decay and it's described in [\"Decoupled\n",
        "Weight Decay Regularization\"](https://arxiv.org/abs/1711.05101) by Loshchilov & Hutter.\n",
        "\n",
        "This paper points out that all the popular Deep Learning frameworks (Tensorflow, Pytorch) have implemented Adam with weight decay wrong. They made the following observations:\n",
        "- L2 regularization and weight decay is not the same.\n",
        "- L2 regularization is not effective in Adam.\n",
        "- Weight decay is equally effective in both Adam and SGD.\n",
        "\n",
        "- In SGD, L2 regularization and weight decay can be made equivalent by reparameterization trick.\n",
        "- Popular libraries implement weight decay as L2 regularization for both SGD and Adam.\n",
        "- They propose AdamW and SGDW that decouple weight decay and L2 regularization steps."
      ]
    },
    {
      "cell_type": "markdown",
      "metadata": {
        "id": "G7k3NCV0wk42",
        "colab_type": "text"
      },
      "source": [
        "# ![Adam vs AdamW](https://i.imgur.com/VkJtUyNl.png)"
      ]
    },
    {
      "cell_type": "markdown",
      "metadata": {
        "colab_type": "text",
        "id": "m7KBpffWzlxH"
      },
      "source": [
        "### Import TensorFlow"
      ]
    },
    {
      "cell_type": "code",
      "metadata": {
        "colab_type": "code",
        "id": "iAve6DCL4JH4",
        "colab": {
          "base_uri": "https://localhost:8080/",
          "height": 34
        },
        "outputId": "bb31e6f0-277d-4a4e-874a-4a9aca94c30e"
      },
      "source": [
        "from __future__ import absolute_import, division, print_function, unicode_literals\n",
        "\n",
        "try:\n",
        "  # %tensorflow_version only exists in Colab.\n",
        "  %tensorflow_version 2.x\n",
        "except Exception:\n",
        "  pass\n",
        "import tensorflow as tf\n",
        "\n",
        "from tensorflow.keras import datasets, layers, models\n",
        "import matplotlib.pyplot as plt"
      ],
      "execution_count": 2,
      "outputs": [
        {
          "output_type": "stream",
          "text": [
            "TensorFlow 2.x selected.\n"
          ],
          "name": "stdout"
        }
      ]
    },
    {
      "cell_type": "code",
      "metadata": {
        "colab_type": "code",
        "id": "IqR2PQG4ZaZ0",
        "colab": {}
      },
      "source": [
        "import tensorflow_addons as tfa"
      ],
      "execution_count": 0,
      "outputs": []
    },
    {
      "cell_type": "markdown",
      "metadata": {
        "id": "LxC57IRQs0WQ",
        "colab_type": "text"
      },
      "source": [
        "## Load CIFAR10 Data"
      ]
    },
    {
      "cell_type": "code",
      "metadata": {
        "colab_type": "code",
        "id": "JWoEqyMuXFF4",
        "colab": {
          "base_uri": "https://localhost:8080/",
          "height": 51
        },
        "outputId": "0b7156f4-9691-4afc-ed25-37a487493eb1"
      },
      "source": [
        "(train_images, train_labels), (test_images, test_labels) = datasets.cifar10.load_data()\n",
        "\n",
        "# Normalize pixel values to be between 0 and 1\n",
        "train_images, test_images = train_images / 255.0, test_images / 255.0"
      ],
      "execution_count": 4,
      "outputs": [
        {
          "output_type": "stream",
          "text": [
            "Downloading data from https://www.cs.toronto.edu/~kriz/cifar-10-python.tar.gz\n",
            "170500096/170498071 [==============================] - 6s 0us/step\n"
          ],
          "name": "stdout"
        }
      ]
    },
    {
      "cell_type": "markdown",
      "metadata": {
        "colab_type": "text",
        "id": "P3odqfHP4M67"
      },
      "source": [
        "## Compile and train the model with Adam"
      ]
    },
    {
      "cell_type": "code",
      "metadata": {
        "colab_type": "code",
        "id": "L9YmGQBQPrdn",
        "colab": {
          "base_uri": "https://localhost:8080/",
          "height": 1000
        },
        "outputId": "6dd1e71d-298c-4bb2-f560-c6ffbb3685d2"
      },
      "source": [
        "model = models.Sequential()\n",
        "model.add(layers.Conv2D(32, (3, 3), activation='relu', input_shape=(32, 32, 3)))\n",
        "model.add(layers.MaxPooling2D((2, 2)))\n",
        "model.add(layers.Conv2D(64, (3, 3), activation='relu'))\n",
        "model.add(layers.MaxPooling2D((2, 2)))\n",
        "model.add(layers.Conv2D(64, (3, 3), activation='relu'))\n",
        "model.add(layers.Flatten())\n",
        "model.add(layers.Dense(64, activation='relu'))\n",
        "model.add(layers.Dense(10))\n",
        "\n",
        "model.compile(optimizer='adam',\n",
        "              loss=tf.keras.losses.SparseCategoricalCrossentropy(from_logits=True),\n",
        "              metrics=['accuracy'])\n",
        "\n",
        "history = model.fit(train_images, train_labels, epochs=50, \n",
        "                    validation_data=(test_images, test_labels))"
      ],
      "execution_count": 5,
      "outputs": [
        {
          "output_type": "stream",
          "text": [
            "Train on 50000 samples, validate on 10000 samples\n",
            "Epoch 1/50\n",
            "50000/50000 [==============================] - 15s 291us/sample - loss: 1.5536 - accuracy: 0.4298 - val_loss: 1.2978 - val_accuracy: 0.5322\n",
            "Epoch 2/50\n",
            "50000/50000 [==============================] - 7s 143us/sample - loss: 1.1948 - accuracy: 0.5719 - val_loss: 1.1137 - val_accuracy: 0.6086\n",
            "Epoch 3/50\n",
            "50000/50000 [==============================] - 7s 143us/sample - loss: 1.0456 - accuracy: 0.6306 - val_loss: 1.0134 - val_accuracy: 0.6434\n",
            "Epoch 4/50\n",
            "50000/50000 [==============================] - 7s 143us/sample - loss: 0.9507 - accuracy: 0.6659 - val_loss: 1.1058 - val_accuracy: 0.6217\n",
            "Epoch 5/50\n",
            "50000/50000 [==============================] - 7s 144us/sample - loss: 0.8722 - accuracy: 0.6959 - val_loss: 0.9119 - val_accuracy: 0.6830\n",
            "Epoch 6/50\n",
            "50000/50000 [==============================] - 7s 139us/sample - loss: 0.8190 - accuracy: 0.7120 - val_loss: 0.8824 - val_accuracy: 0.6960\n",
            "Epoch 7/50\n",
            "50000/50000 [==============================] - 7s 145us/sample - loss: 0.7693 - accuracy: 0.7290 - val_loss: 0.9106 - val_accuracy: 0.6864\n",
            "Epoch 8/50\n",
            "50000/50000 [==============================] - 7s 144us/sample - loss: 0.7300 - accuracy: 0.7439 - val_loss: 0.8663 - val_accuracy: 0.7082\n",
            "Epoch 9/50\n",
            "50000/50000 [==============================] - 7s 140us/sample - loss: 0.6906 - accuracy: 0.7568 - val_loss: 0.8701 - val_accuracy: 0.7103\n",
            "Epoch 10/50\n",
            "50000/50000 [==============================] - 7s 147us/sample - loss: 0.6566 - accuracy: 0.7661 - val_loss: 0.8809 - val_accuracy: 0.7036\n",
            "Epoch 11/50\n",
            "50000/50000 [==============================] - 7s 139us/sample - loss: 0.6250 - accuracy: 0.7792 - val_loss: 0.9110 - val_accuracy: 0.6960\n",
            "Epoch 12/50\n",
            "50000/50000 [==============================] - 7s 141us/sample - loss: 0.5954 - accuracy: 0.7891 - val_loss: 0.8598 - val_accuracy: 0.7202\n",
            "Epoch 13/50\n",
            "50000/50000 [==============================] - 7s 142us/sample - loss: 0.5659 - accuracy: 0.8001 - val_loss: 0.9254 - val_accuracy: 0.7058\n",
            "Epoch 14/50\n",
            "50000/50000 [==============================] - 7s 144us/sample - loss: 0.5403 - accuracy: 0.8071 - val_loss: 0.9494 - val_accuracy: 0.7033\n",
            "Epoch 15/50\n",
            "50000/50000 [==============================] - 7s 143us/sample - loss: 0.5135 - accuracy: 0.8179 - val_loss: 0.9127 - val_accuracy: 0.7120\n",
            "Epoch 16/50\n",
            "50000/50000 [==============================] - 7s 146us/sample - loss: 0.4971 - accuracy: 0.8235 - val_loss: 0.9573 - val_accuracy: 0.7002\n",
            "Epoch 17/50\n",
            "50000/50000 [==============================] - 7s 139us/sample - loss: 0.4705 - accuracy: 0.8326 - val_loss: 1.0289 - val_accuracy: 0.6966\n",
            "Epoch 18/50\n",
            "50000/50000 [==============================] - 7s 144us/sample - loss: 0.4497 - accuracy: 0.8404 - val_loss: 0.9618 - val_accuracy: 0.7139\n",
            "Epoch 19/50\n",
            "50000/50000 [==============================] - 7s 138us/sample - loss: 0.4275 - accuracy: 0.8487 - val_loss: 1.0165 - val_accuracy: 0.7124\n",
            "Epoch 20/50\n",
            "50000/50000 [==============================] - 7s 138us/sample - loss: 0.4102 - accuracy: 0.8544 - val_loss: 1.0220 - val_accuracy: 0.7089\n",
            "Epoch 21/50\n",
            "50000/50000 [==============================] - 7s 142us/sample - loss: 0.3919 - accuracy: 0.8609 - val_loss: 1.0536 - val_accuracy: 0.7027\n",
            "Epoch 22/50\n",
            "50000/50000 [==============================] - 7s 147us/sample - loss: 0.3719 - accuracy: 0.8670 - val_loss: 1.1290 - val_accuracy: 0.6978\n",
            "Epoch 23/50\n",
            "50000/50000 [==============================] - 7s 141us/sample - loss: 0.3553 - accuracy: 0.8717 - val_loss: 1.1470 - val_accuracy: 0.7024\n",
            "Epoch 24/50\n",
            "50000/50000 [==============================] - 7s 144us/sample - loss: 0.3397 - accuracy: 0.8775 - val_loss: 1.1561 - val_accuracy: 0.7041\n",
            "Epoch 25/50\n",
            "50000/50000 [==============================] - 7s 144us/sample - loss: 0.3246 - accuracy: 0.8843 - val_loss: 1.1751 - val_accuracy: 0.7026\n",
            "Epoch 26/50\n",
            "50000/50000 [==============================] - 7s 139us/sample - loss: 0.3094 - accuracy: 0.8886 - val_loss: 1.2277 - val_accuracy: 0.7057\n",
            "Epoch 27/50\n",
            "50000/50000 [==============================] - 7s 144us/sample - loss: 0.2968 - accuracy: 0.8935 - val_loss: 1.2815 - val_accuracy: 0.7062\n",
            "Epoch 28/50\n",
            "50000/50000 [==============================] - 7s 143us/sample - loss: 0.2789 - accuracy: 0.8994 - val_loss: 1.3567 - val_accuracy: 0.6960\n",
            "Epoch 29/50\n",
            "50000/50000 [==============================] - 7s 138us/sample - loss: 0.2724 - accuracy: 0.9013 - val_loss: 1.3299 - val_accuracy: 0.6995\n",
            "Epoch 30/50\n",
            "50000/50000 [==============================] - 7s 142us/sample - loss: 0.2524 - accuracy: 0.9090 - val_loss: 1.4242 - val_accuracy: 0.7001\n",
            "Epoch 31/50\n",
            "50000/50000 [==============================] - 7s 145us/sample - loss: 0.2447 - accuracy: 0.9123 - val_loss: 1.4857 - val_accuracy: 0.6913\n",
            "Epoch 32/50\n",
            "50000/50000 [==============================] - 7s 141us/sample - loss: 0.2354 - accuracy: 0.9160 - val_loss: 1.4766 - val_accuracy: 0.6919\n",
            "Epoch 33/50\n",
            "50000/50000 [==============================] - 7s 149us/sample - loss: 0.2225 - accuracy: 0.9202 - val_loss: 1.5591 - val_accuracy: 0.7022\n",
            "Epoch 34/50\n",
            "50000/50000 [==============================] - 7s 142us/sample - loss: 0.2161 - accuracy: 0.9222 - val_loss: 1.6149 - val_accuracy: 0.6933\n",
            "Epoch 35/50\n",
            "50000/50000 [==============================] - 7s 146us/sample - loss: 0.2027 - accuracy: 0.9273 - val_loss: 1.7149 - val_accuracy: 0.6938\n",
            "Epoch 36/50\n",
            "50000/50000 [==============================] - 7s 143us/sample - loss: 0.2003 - accuracy: 0.9290 - val_loss: 1.7389 - val_accuracy: 0.6939\n",
            "Epoch 37/50\n",
            "50000/50000 [==============================] - 7s 141us/sample - loss: 0.1929 - accuracy: 0.9315 - val_loss: 1.7526 - val_accuracy: 0.6898\n",
            "Epoch 38/50\n",
            "50000/50000 [==============================] - 7s 144us/sample - loss: 0.1839 - accuracy: 0.9334 - val_loss: 1.7587 - val_accuracy: 0.6963\n",
            "Epoch 39/50\n",
            "50000/50000 [==============================] - 8s 152us/sample - loss: 0.1841 - accuracy: 0.9333 - val_loss: 1.8392 - val_accuracy: 0.6937\n",
            "Epoch 40/50\n",
            "50000/50000 [==============================] - 7s 148us/sample - loss: 0.1630 - accuracy: 0.9406 - val_loss: 1.9568 - val_accuracy: 0.6780\n",
            "Epoch 41/50\n",
            "50000/50000 [==============================] - 7s 146us/sample - loss: 0.1783 - accuracy: 0.9354 - val_loss: 1.9534 - val_accuracy: 0.6858\n",
            "Epoch 42/50\n",
            "50000/50000 [==============================] - 7s 142us/sample - loss: 0.1641 - accuracy: 0.9411 - val_loss: 2.0160 - val_accuracy: 0.6883\n",
            "Epoch 43/50\n",
            "50000/50000 [==============================] - 7s 146us/sample - loss: 0.1608 - accuracy: 0.9433 - val_loss: 2.0910 - val_accuracy: 0.6888\n",
            "Epoch 44/50\n",
            "50000/50000 [==============================] - 7s 146us/sample - loss: 0.1574 - accuracy: 0.9444 - val_loss: 2.0424 - val_accuracy: 0.6896\n",
            "Epoch 45/50\n",
            "50000/50000 [==============================] - 7s 143us/sample - loss: 0.1411 - accuracy: 0.9503 - val_loss: 2.1669 - val_accuracy: 0.6796\n",
            "Epoch 46/50\n",
            "50000/50000 [==============================] - 7s 145us/sample - loss: 0.1572 - accuracy: 0.9447 - val_loss: 2.2224 - val_accuracy: 0.6813\n",
            "Epoch 47/50\n",
            "50000/50000 [==============================] - 7s 148us/sample - loss: 0.1387 - accuracy: 0.9495 - val_loss: 2.3039 - val_accuracy: 0.6802\n",
            "Epoch 48/50\n",
            "50000/50000 [==============================] - 7s 142us/sample - loss: 0.1405 - accuracy: 0.9498 - val_loss: 2.3511 - val_accuracy: 0.6882\n",
            "Epoch 49/50\n",
            "50000/50000 [==============================] - 7s 146us/sample - loss: 0.1464 - accuracy: 0.9487 - val_loss: 2.3158 - val_accuracy: 0.6836\n",
            "Epoch 50/50\n",
            "50000/50000 [==============================] - 7s 145us/sample - loss: 0.1318 - accuracy: 0.9534 - val_loss: 2.3032 - val_accuracy: 0.6868\n"
          ],
          "name": "stdout"
        }
      ]
    },
    {
      "cell_type": "markdown",
      "metadata": {
        "colab_type": "text",
        "id": "jKgyC5K_4O0d"
      },
      "source": [
        "## Compile and train the model with AdamW"
      ]
    },
    {
      "cell_type": "code",
      "metadata": {
        "id": "M9RAGnf_n6O2",
        "colab_type": "code",
        "colab": {
          "base_uri": "https://localhost:8080/",
          "height": 1000
        },
        "outputId": "6db41b4c-4def-4971-ed6c-8b406d2c708b"
      },
      "source": [
        "model_w = models.Sequential()\n",
        "model_w.add(layers.Conv2D(32, (3, 3), activation='relu', input_shape=(32, 32, 3)))\n",
        "model_w.add(layers.MaxPooling2D((2, 2)))\n",
        "model_w.add(layers.Conv2D(64, (3, 3), activation='relu'))\n",
        "model_w.add(layers.MaxPooling2D((2, 2)))\n",
        "model_w.add(layers.Conv2D(64, (3, 3), activation='relu'))\n",
        "model_w.add(layers.Flatten())\n",
        "model_w.add(layers.Dense(64, activation='relu'))\n",
        "model_w.add(layers.Dense(10))\n",
        "\n",
        "model_w.compile(optimizer=tfa.optimizers.AdamW(weight_decay=1e-5),\n",
        "              loss=tf.keras.losses.SparseCategoricalCrossentropy(from_logits=True),\n",
        "              metrics=['accuracy'])\n",
        "\n",
        "history_w = model_w.fit(train_images, train_labels, epochs=50, \n",
        "                    validation_data=(test_images, test_labels))"
      ],
      "execution_count": 6,
      "outputs": [
        {
          "output_type": "stream",
          "text": [
            "Train on 50000 samples, validate on 10000 samples\n",
            "Epoch 1/50\n",
            "50000/50000 [==============================] - 9s 185us/sample - loss: 1.5027 - accuracy: 0.4539 - val_loss: 1.3171 - val_accuracy: 0.5231\n",
            "Epoch 2/50\n",
            "50000/50000 [==============================] - 8s 165us/sample - loss: 1.1371 - accuracy: 0.5948 - val_loss: 1.0722 - val_accuracy: 0.6222\n",
            "Epoch 3/50\n",
            "50000/50000 [==============================] - 8s 167us/sample - loss: 0.9931 - accuracy: 0.6496 - val_loss: 1.0198 - val_accuracy: 0.6411\n",
            "Epoch 4/50\n",
            "50000/50000 [==============================] - 8s 169us/sample - loss: 0.9040 - accuracy: 0.6827 - val_loss: 0.9536 - val_accuracy: 0.6690\n",
            "Epoch 5/50\n",
            "50000/50000 [==============================] - 9s 172us/sample - loss: 0.8318 - accuracy: 0.7087 - val_loss: 0.9027 - val_accuracy: 0.6867\n",
            "Epoch 6/50\n",
            "50000/50000 [==============================] - 8s 166us/sample - loss: 0.7728 - accuracy: 0.7293 - val_loss: 0.8801 - val_accuracy: 0.6988\n",
            "Epoch 7/50\n",
            "50000/50000 [==============================] - 9s 176us/sample - loss: 0.7245 - accuracy: 0.7452 - val_loss: 0.8797 - val_accuracy: 0.7025\n",
            "Epoch 8/50\n",
            "50000/50000 [==============================] - 9s 170us/sample - loss: 0.6818 - accuracy: 0.7590 - val_loss: 0.8897 - val_accuracy: 0.6969\n",
            "Epoch 9/50\n",
            "50000/50000 [==============================] - 8s 165us/sample - loss: 0.6405 - accuracy: 0.7721 - val_loss: 0.9133 - val_accuracy: 0.6943\n",
            "Epoch 10/50\n",
            "50000/50000 [==============================] - 8s 164us/sample - loss: 0.6046 - accuracy: 0.7886 - val_loss: 0.9173 - val_accuracy: 0.6989\n",
            "Epoch 11/50\n",
            "50000/50000 [==============================] - 9s 170us/sample - loss: 0.5663 - accuracy: 0.7995 - val_loss: 0.9306 - val_accuracy: 0.6979\n",
            "Epoch 12/50\n",
            "50000/50000 [==============================] - 8s 168us/sample - loss: 0.5371 - accuracy: 0.8102 - val_loss: 0.9074 - val_accuracy: 0.7121\n",
            "Epoch 13/50\n",
            "50000/50000 [==============================] - 8s 169us/sample - loss: 0.5060 - accuracy: 0.8214 - val_loss: 0.9424 - val_accuracy: 0.6987\n",
            "Epoch 14/50\n",
            "50000/50000 [==============================] - 9s 173us/sample - loss: 0.4789 - accuracy: 0.8313 - val_loss: 1.0013 - val_accuracy: 0.6949\n",
            "Epoch 15/50\n",
            "50000/50000 [==============================] - 8s 168us/sample - loss: 0.4500 - accuracy: 0.8406 - val_loss: 0.9772 - val_accuracy: 0.7137\n",
            "Epoch 16/50\n",
            "50000/50000 [==============================] - 9s 172us/sample - loss: 0.4237 - accuracy: 0.8484 - val_loss: 1.0175 - val_accuracy: 0.6931\n",
            "Epoch 17/50\n",
            "50000/50000 [==============================] - 8s 167us/sample - loss: 0.4039 - accuracy: 0.8556 - val_loss: 1.0376 - val_accuracy: 0.7062\n",
            "Epoch 18/50\n",
            "50000/50000 [==============================] - 8s 168us/sample - loss: 0.3729 - accuracy: 0.8677 - val_loss: 1.0682 - val_accuracy: 0.6951\n",
            "Epoch 19/50\n",
            "50000/50000 [==============================] - 8s 169us/sample - loss: 0.3572 - accuracy: 0.8728 - val_loss: 1.0642 - val_accuracy: 0.6989\n",
            "Epoch 20/50\n",
            "50000/50000 [==============================] - 8s 167us/sample - loss: 0.3366 - accuracy: 0.8790 - val_loss: 1.1759 - val_accuracy: 0.6809\n",
            "Epoch 21/50\n",
            "50000/50000 [==============================] - 8s 169us/sample - loss: 0.3188 - accuracy: 0.8861 - val_loss: 1.1217 - val_accuracy: 0.6983\n",
            "Epoch 22/50\n",
            "50000/50000 [==============================] - 8s 166us/sample - loss: 0.3014 - accuracy: 0.8920 - val_loss: 1.2189 - val_accuracy: 0.6924\n",
            "Epoch 23/50\n",
            "50000/50000 [==============================] - 9s 176us/sample - loss: 0.2903 - accuracy: 0.8956 - val_loss: 1.2258 - val_accuracy: 0.6980\n",
            "Epoch 24/50\n",
            "50000/50000 [==============================] - 8s 168us/sample - loss: 0.2704 - accuracy: 0.9020 - val_loss: 1.3016 - val_accuracy: 0.6915\n",
            "Epoch 25/50\n",
            "50000/50000 [==============================] - 9s 171us/sample - loss: 0.2679 - accuracy: 0.9022 - val_loss: 1.3361 - val_accuracy: 0.6869\n",
            "Epoch 26/50\n",
            "50000/50000 [==============================] - 9s 171us/sample - loss: 0.2557 - accuracy: 0.9077 - val_loss: 1.2967 - val_accuracy: 0.6939\n",
            "Epoch 27/50\n",
            "50000/50000 [==============================] - 9s 177us/sample - loss: 0.2421 - accuracy: 0.9135 - val_loss: 1.3912 - val_accuracy: 0.6922\n",
            "Epoch 28/50\n",
            "50000/50000 [==============================] - 9s 180us/sample - loss: 0.2317 - accuracy: 0.9166 - val_loss: 1.4220 - val_accuracy: 0.6889\n",
            "Epoch 29/50\n",
            "50000/50000 [==============================] - 9s 171us/sample - loss: 0.2204 - accuracy: 0.9204 - val_loss: 1.4956 - val_accuracy: 0.6803\n",
            "Epoch 30/50\n",
            "50000/50000 [==============================] - 8s 170us/sample - loss: 0.2169 - accuracy: 0.9201 - val_loss: 1.4262 - val_accuracy: 0.6928\n",
            "Epoch 31/50\n",
            "50000/50000 [==============================] - 8s 168us/sample - loss: 0.2070 - accuracy: 0.9248 - val_loss: 1.5035 - val_accuracy: 0.6857\n",
            "Epoch 32/50\n",
            "50000/50000 [==============================] - 9s 180us/sample - loss: 0.1997 - accuracy: 0.9276 - val_loss: 1.5488 - val_accuracy: 0.6835\n",
            "Epoch 33/50\n",
            "50000/50000 [==============================] - 9s 185us/sample - loss: 0.1989 - accuracy: 0.9286 - val_loss: 1.5304 - val_accuracy: 0.6908\n",
            "Epoch 34/50\n",
            "50000/50000 [==============================] - 9s 186us/sample - loss: 0.1944 - accuracy: 0.9303 - val_loss: 1.5320 - val_accuracy: 0.6900\n",
            "Epoch 35/50\n",
            "50000/50000 [==============================] - 9s 184us/sample - loss: 0.1856 - accuracy: 0.9325 - val_loss: 1.6228 - val_accuracy: 0.6888\n",
            "Epoch 36/50\n",
            "50000/50000 [==============================] - 9s 184us/sample - loss: 0.1741 - accuracy: 0.9368 - val_loss: 1.5880 - val_accuracy: 0.6946\n",
            "Epoch 37/50\n",
            "50000/50000 [==============================] - 9s 178us/sample - loss: 0.1758 - accuracy: 0.9355 - val_loss: 1.6673 - val_accuracy: 0.6874\n",
            "Epoch 38/50\n",
            "50000/50000 [==============================] - 9s 179us/sample - loss: 0.1657 - accuracy: 0.9401 - val_loss: 1.7159 - val_accuracy: 0.6801\n",
            "Epoch 39/50\n",
            "50000/50000 [==============================] - 9s 182us/sample - loss: 0.1647 - accuracy: 0.9411 - val_loss: 1.7075 - val_accuracy: 0.6782\n",
            "Epoch 40/50\n",
            "50000/50000 [==============================] - 9s 180us/sample - loss: 0.1600 - accuracy: 0.9416 - val_loss: 1.6737 - val_accuracy: 0.6853\n",
            "Epoch 41/50\n",
            "50000/50000 [==============================] - 9s 183us/sample - loss: 0.1586 - accuracy: 0.9428 - val_loss: 1.7468 - val_accuracy: 0.6801\n",
            "Epoch 42/50\n",
            "50000/50000 [==============================] - 9s 183us/sample - loss: 0.1601 - accuracy: 0.9421 - val_loss: 1.7450 - val_accuracy: 0.6903\n",
            "Epoch 43/50\n",
            "50000/50000 [==============================] - 9s 181us/sample - loss: 0.1541 - accuracy: 0.9454 - val_loss: 1.7599 - val_accuracy: 0.6860\n",
            "Epoch 44/50\n",
            "50000/50000 [==============================] - 9s 180us/sample - loss: 0.1465 - accuracy: 0.9477 - val_loss: 1.8743 - val_accuracy: 0.6832\n",
            "Epoch 45/50\n",
            "50000/50000 [==============================] - 9s 180us/sample - loss: 0.1544 - accuracy: 0.9440 - val_loss: 1.8424 - val_accuracy: 0.6845\n",
            "Epoch 46/50\n",
            "50000/50000 [==============================] - 9s 181us/sample - loss: 0.1455 - accuracy: 0.9477 - val_loss: 1.8362 - val_accuracy: 0.6830\n",
            "Epoch 47/50\n",
            "50000/50000 [==============================] - 9s 177us/sample - loss: 0.1434 - accuracy: 0.9480 - val_loss: 1.8423 - val_accuracy: 0.6848\n",
            "Epoch 48/50\n",
            "50000/50000 [==============================] - 9s 186us/sample - loss: 0.1454 - accuracy: 0.9481 - val_loss: 1.8533 - val_accuracy: 0.6786\n",
            "Epoch 49/50\n",
            "50000/50000 [==============================] - 9s 176us/sample - loss: 0.1356 - accuracy: 0.9513 - val_loss: 1.8140 - val_accuracy: 0.6888\n",
            "Epoch 50/50\n",
            "50000/50000 [==============================] - 9s 181us/sample - loss: 0.1385 - accuracy: 0.9519 - val_loss: 1.8890 - val_accuracy: 0.6841\n"
          ],
          "name": "stdout"
        }
      ]
    },
    {
      "cell_type": "markdown",
      "metadata": {
        "id": "MytlsxmQ3yTK",
        "colab_type": "text"
      },
      "source": [
        "## Compare Optimizers"
      ]
    },
    {
      "cell_type": "code",
      "metadata": {
        "id": "VHoJLsZ5oLm7",
        "colab_type": "code",
        "colab": {
          "base_uri": "https://localhost:8080/",
          "height": 1000
        },
        "outputId": "9669f9f9-40c7-4d16-e344-6e29516da4d9"
      },
      "source": [
        "def compare_histories(adam_history, adamW_history, key):\n",
        "  plt.title(key)\n",
        "  plt.plot(adam_history.history[key], label=\"adam {}\".format(key) )\n",
        "  plt.plot(adamW_history.history[key], label=\"adamW {}\".format(key) )\n",
        "  plt.xlabel('Epoch')\n",
        "  plt.ylabel(key)\n",
        "  plt.legend(loc='lower right')\n",
        "  plt.show()\n",
        "\n",
        "for key in history.history.keys():\n",
        "  compare_histories(history, history_w, key)\n"
      ],
      "execution_count": 7,
      "outputs": [
        {
          "output_type": "display_data",
          "data": {
            "image/png": "[encoded data removed]",
            "text/plain": [
              "<Figure size 432x288 with 1 Axes>"
            ]
          },
          "metadata": {
            "tags": []
          }
        },
        {
          "output_type": "display_data",
          "data": {
            "image/png": "[encoded data removed]",
            "text/plain": [
              "<Figure size 432x288 with 1 Axes>"
            ]
          },
          "metadata": {
            "tags": []
          }
        },
        {
          "output_type": "display_data",
          "data": {
            "image/png": "[encoded data removed]",
            "text/plain": [
              "<Figure size 432x288 with 1 Axes>"
            ]
          },
          "metadata": {
            "tags": []
          }
        },
        {
          "output_type": "display_data",
          "data": {
            "image/png": "[encoded data removed]",
            "text/plain": [
              "<Figure size 432x288 with 1 Axes>"
            ]
          },
          "metadata": {
            "tags": []
          }
        }
      ]
    },
    {
      "cell_type": "code",
      "metadata": {
        "id": "rw5cZNpeqxqs",
        "colab_type": "code",
        "colab": {
          "base_uri": "https://localhost:8080/",
          "height": 51
        },
        "outputId": "cff4fa19-4625-4471-926b-cbc660a08540"
      },
      "source": [
        "adam_test_loss, adam_test_acc = model.evaluate(test_images,  test_labels, verbose=2)\n",
        "adam_w_test_loss, adam_w_test_acc = model_w.evaluate(test_images,  test_labels, verbose=2)"
      ],
      "execution_count": 8,
      "outputs": [
        {
          "output_type": "stream",
          "text": [
            "10000/10000 - 1s - loss: 2.3032 - accuracy: 0.6868\n",
            "10000/10000 - 1s - loss: 1.8890 - accuracy: 0.6841\n"
          ],
          "name": "stdout"
        }
      ]
    },
    {
      "cell_type": "code",
      "metadata": {
        "id": "SYbBGfrw2Hzz",
        "colab_type": "code",
        "colab": {
          "base_uri": "https://localhost:8080/",
          "height": 102
        },
        "outputId": "61d03a6e-c881-43fc-e8e3-607ef6b7bbd9"
      },
      "source": [
        "print('adam test loss =  ', adam_test_loss)\n",
        "print('adamW test loss = ', adam_w_test_loss)\n",
        "print()\n",
        "print('adam test accuracy =  ', adam_test_acc)\n",
        "print('adamW test accuracy = ', adam_w_test_acc)"
      ],
      "execution_count": 9,
      "outputs": [
        {
          "output_type": "stream",
          "text": [
            "adam test loss =   2.3031855819702147\n",
            "adamW test loss =  1.8890144672393798\n",
            "\n",
            "adam test accuracy =   0.6868\n",
            "adamW test accuracy =  0.6841\n"
          ],
          "name": "stdout"
        }
      ]
    }
  ]
}