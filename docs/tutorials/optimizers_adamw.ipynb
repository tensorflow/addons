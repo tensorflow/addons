{
  "nbformat": 4,
  "nbformat_minor": 0,
  "metadata": {
    "accelerator": "GPU",
    "colab": {
      "name": "optimizers_adamw.ipynb",
      "provenance": [],
      "collapsed_sections": [],
      "toc_visible": true
    },
    "kernelspec": {
      "name": "python3",
      "display_name": "Python 3"
    }
  },
  "cells": [
    {
      "cell_type": "markdown",
      "metadata": {
        "colab_type": "text",
        "id": "x4HI2mpwlrcn"
      },
      "source": [
        "##### Copyright 2020 The TensorFlow Authors."
      ]
    },
    {
      "cell_type": "code",
      "metadata": {
        "cellView": "both",
        "colab_type": "code",
        "id": "679Lmwt3l1Bk",
        "colab": {}
      },
      "source": [
        "#@title Licensed under the Apache License, Version 2.0 (the \"License\");\n",
        "# you may not use this file except in compliance with the License.\n",
        "# You may obtain a copy of the License at\n",
        "#\n",
        "# https://www.apache.org/licenses/LICENSE-2.0\n",
        "#\n",
        "# Unless required by applicable law or agreed to in writing, software\n",
        "# distributed under the License is distributed on an \"AS IS\" BASIS,\n",
        "# WITHOUT WARRANTIES OR CONDITIONS OF ANY KIND, either express or implied.\n",
        "# See the License for the specific language governing permissions and\n",
        "# limitations under the License."
      ],
      "execution_count": 0,
      "outputs": []
    },
    {
      "cell_type": "markdown",
      "metadata": {
        "colab_type": "text",
        "id": "DSPCom-KmApV"
      },
      "source": [
        "# TensorFlow Addons Optimizers: AdamW\n",
        "<table class=\"tfo-notebook-buttons\" align=\"left\">\n",
        "  <td>\n",
        "    <a target=\"_blank\" href=\"https://www.tensorflow.org/addons/tutorials/optimizers_adamw\"><img src=\"https://www.tensorflow.org/images/tf_logo_32px.png\" />View on TensorFlow.org</a>\n",
        "  </td>\n",
        "  <td>\n",
        "    <a target=\"_blank\" href=\"https://colab.research.google.com/github/tensorflow/addons/blob/master/docs/tutorials/optimizers_adamw.ipynb\"><img src=\"https://www.tensorflow.org/images/colab_logo_32px.png\" />Run in Google Colab</a>\n",
        "  </td>\n",
        "  <td>\n",
        "    <a target=\"_blank\" href=\"https://github.com/tensorflow/addons/blob/master/docs/tutorials/optimizers_adamw.ipynb\"><img src=\"https://www.tensorflow.org/images/GitHub-Mark-32px.png\" />View source on GitHub</a>\n",
        "  </td>\n",
        "  <td>\n",
        "    <a href=\"https://storage.googleapis.com/tensorflow_docs/addons/docs/tutorials/optimizers_adamw.ipynb\"><img src=\"https://www.tensorflow.org/images/download_logo_32px.png\" />Download notebook</a>\n",
        "  </td>\n",
        "</table>"
      ]
    },
    {
      "cell_type": "markdown",
      "metadata": {
        "colab_type": "text",
        "id": "qLGkt5qiyz4E"
      },
      "source": [
        "## Overview\n",
        "This notebook will demonstrate how to use the AdamW function in TensorFlow Addons and compares with Adam optimizer on **CIFAR10 dataset**.\n",
        "\n",
        "**Resources**:\n",
        "\n",
        "- [Decoupled Weight Decay Regularization (AdamW Paper)](https://arxiv.org/abs/1711.05101)\n",
        "\n",
        "- [AdamW and Super-convergence is now the fastest way to train neural nets\n",
        "](https://www.fast.ai/2018/07/02/adam-weight-decay/#implementing-adamw)\n",
        "\n",
        "- [What’s up with Deep Learning optimizers since Adam?](https://medium.com/vitalify-asia/whats-up-with-deep-learning-optimizers-since-adam-5c1d862b9db0)\n"
      ]
    },
    {
      "cell_type": "markdown",
      "metadata": {
        "id": "Yk3MXzegxIbu",
        "colab_type": "text"
      },
      "source": [
        ""
      ]
    },
    {
      "cell_type": "markdown",
      "metadata": {
        "id": "69iz6NUSuH2L",
        "colab_type": "text"
      },
      "source": [
        "## AdamW\n",
        "AdamW is a optimizer that implements the Adam algorithm with weight decay and it's described in [\"Decoupled\n",
        "Weight Decay Regularization\"](https://arxiv.org/abs/1711.05101) by Loshchilov & Hutter.\n",
        "\n",
        "This paper points out that all the popular Deep Learning frameworks (Tensorflow, Pytorch) have implemented Adam with weight decay wrong. They made the following observations:\n",
        "- L2 regularization and weight decay is not the same.\n",
        "- L2 regularization is not effective in Adam.\n",
        "- Weight decay is equally effective in both Adam and SGD.\n",
        "\n",
        "- In SGD, L2 regularization and weight decay can be made equivalent by reparameterization trick.\n",
        "- Popular libraries implement weight decay as L2 regularization for both SGD and Adam.\n",
        "- They propose AdamW and SGDW that decouple weight decay and L2 regularization steps."
      ]
    },
    {
      "cell_type": "markdown",
      "metadata": {
        "id": "G7k3NCV0wk42",
        "colab_type": "text"
      },
      "source": [
        "# ![Adam vs AdamW](https://i.imgur.com/VkJtUyNl.png)"
      ]
    },
    {
      "cell_type": "markdown",
      "metadata": {
        "colab_type": "text",
        "id": "m7KBpffWzlxH"
      },
      "source": [
        "### Import TensorFlow"
      ]
    },
    {
      "cell_type": "code",
      "metadata": {
        "colab_type": "code",
        "id": "iAve6DCL4JH4",
        "colab": {}
      },
      "source": [
        "from __future__ import absolute_import, division, print_function, unicode_literals\n",
        "\n",
        "try:\n",
        "  # %tensorflow_version only exists in Colab.\n",
        "  %tensorflow_version 2.x\n",
        "except Exception:\n",
        "  pass\n",
        "import tensorflow as tf\n",
        "\n",
        "from tensorflow.keras import datasets, layers, models\n",
        "import matplotlib.pyplot as plt"
      ],
      "execution_count": 0,
      "outputs": []
    },
    {
      "cell_type": "code",
      "metadata": {
        "colab_type": "code",
        "id": "IqR2PQG4ZaZ0",
        "colab": {}
      },
      "source": [
        "import tensorflow_addons as tfa"
      ],
      "execution_count": 0,
      "outputs": []
    },
    {
      "cell_type": "markdown",
      "metadata": {
        "id": "LxC57IRQs0WQ",
        "colab_type": "text"
      },
      "source": [
        "## Load CIFAR10 Data"
      ]
    },
    {
      "cell_type": "code",
      "metadata": {
        "colab_type": "code",
        "id": "JWoEqyMuXFF4",
        "colab": {}
      },
      "source": [
        "(train_images, train_labels), (test_images, test_labels) = datasets.cifar10.load_data()\n",
        "\n",
        "# Normalize pixel values to be between 0 and 1\n",
        "train_images, test_images = train_images / 255.0, test_images / 255.0"
      ],
      "execution_count": 0,
      "outputs": []
    },
    {
      "cell_type": "markdown",
      "metadata": {
        "colab_type": "text",
        "id": "P3odqfHP4M67"
      },
      "source": [
        "## Compile and train the model with Adam"
      ]
    },
    {
      "cell_type": "code",
      "metadata": {
        "colab_type": "code",
        "id": "L9YmGQBQPrdn",
        "colab": {}
      },
      "source": [
        "model = models.Sequential()\n",
        "model.add(layers.Conv2D(32, (3, 3), activation='relu', input_shape=(32, 32, 3)))\n",
        "model.add(layers.MaxPooling2D((2, 2)))\n",
        "model.add(layers.Conv2D(64, (3, 3), activation='relu'))\n",
        "model.add(layers.MaxPooling2D((2, 2)))\n",
        "model.add(layers.Conv2D(64, (3, 3), activation='relu'))\n",
        "model.add(layers.Flatten())\n",
        "model.add(layers.Dense(64, activation='relu'))\n",
        "model.add(layers.Dense(10))\n",
        "\n",
        "model.compile(optimizer='adam',\n",
        "              loss=tf.keras.losses.SparseCategoricalCrossentropy(from_logits=True),\n",
        "              metrics=['accuracy'])\n",
        "\n",
        "history = model.fit(train_images, train_labels, epochs=50, \n",
        "                    validation_data=(test_images, test_labels))"
      ],
      "execution_count": 0,
      "outputs": []
    },
    {
      "cell_type": "markdown",
      "metadata": {
        "colab_type": "text",
        "id": "jKgyC5K_4O0d"
      },
      "source": [
        "## Compile and train the model with AdamW"
      ]
    },
    {
      "cell_type": "code",
      "metadata": {
        "id": "M9RAGnf_n6O2",
        "colab_type": "code",
        "colab": {}
      },
      "source": [
        "model_w = models.Sequential()\n",
        "model_w.add(layers.Conv2D(32, (3, 3), activation='relu', input_shape=(32, 32, 3)))\n",
        "model_w.add(layers.MaxPooling2D((2, 2)))\n",
        "model_w.add(layers.Conv2D(64, (3, 3), activation='relu'))\n",
        "model_w.add(layers.MaxPooling2D((2, 2)))\n",
        "model_w.add(layers.Conv2D(64, (3, 3), activation='relu'))\n",
        "model_w.add(layers.Flatten())\n",
        "model_w.add(layers.Dense(64, activation='relu'))\n",
        "model_w.add(layers.Dense(10))\n",
        "\n",
        "model_w.compile(optimizer=tfa.optimizers.AdamW(weight_decay=1e-5),\n",
        "              loss=tf.keras.losses.SparseCategoricalCrossentropy(from_logits=True),\n",
        "              metrics=['accuracy'])\n",
        "\n",
        "history_w = model_w.fit(train_images, train_labels, epochs=50, \n",
        "                    validation_data=(test_images, test_labels))"
      ],
      "execution_count": 0,
      "outputs": []
    },
    {
      "cell_type": "markdown",
      "metadata": {
        "id": "MytlsxmQ3yTK",
        "colab_type": "text"
      },
      "source": [
        "## Compare Optimizers"
      ]
    },
    {
      "cell_type": "code",
      "metadata": {
        "id": "VHoJLsZ5oLm7",
        "colab_type": "code",
        "colab": {}
      },
      "source": [
        "def compare_histories(adam_history, adamW_history, key):\n",
        "  plt.title(key)\n",
        "  plt.plot(adam_history.history[key], label=\"adam {}\".format(key) )\n",
        "  plt.plot(adamW_history.history[key], label=\"adamW {}\".format(key) )\n",
        "  plt.xlabel('Epoch')\n",
        "  plt.ylabel(key)\n",
        "  plt.legend(loc='lower right')\n",
        "  plt.show()\n",
        "\n",
        "for key in history.history.keys():\n",
        "  compare_histories(history, history_w, key)\n"
      ],
      "execution_count": 0,
      "outputs": []
    },
    {
      "cell_type": "code",
      "metadata": {
        "id": "rw5cZNpeqxqs",
        "colab_type": "code",
        "colab": {}
      },
      "source": [
        "adam_test_loss, adam_test_acc = model.evaluate(test_images,  test_labels, verbose=2)\n",
        "adam_w_test_loss, adam_w_test_acc = model_w.evaluate(test_images,  test_labels, verbose=2)"
      ],
      "execution_count": 0,
      "outputs": []
    },
    {
      "cell_type": "code",
      "metadata": {
        "id": "SYbBGfrw2Hzz",
        "colab_type": "code",
        "colab": {}
      },
      "source": [
        "print('adam test loss =  ', adam_test_loss)\n",
        "print('adamW test loss = ', adam_w_test_loss)\n",
        "print()\n",
        "print('adam test accuracy =  ', adam_test_acc)\n",
        "print('adamW test accuracy = ', adam_w_test_acc)"
      ],
      "execution_count": 0,
      "outputs": []
    }
  ]
}