{
  "nbformat": 4,
  "nbformat_minor": 0,
  "metadata": {
    "colab": {
      "name": "optimizers_conditionalgradient.ipynb",
      "provenance": [],
      "collapsed_sections": []
    },
    "kernelspec": {
      "name": "python3",
      "display_name": "Python 3"
    },
    "accelerator": "GPU"
  },
  "cells": [
    {
      "cell_type": "markdown",
      "metadata": {
        "id": "pGUYKbJNWNgj",
        "colab_type": "text"
      },
      "source": [
        "##### Copyright 2019 The TensorFlow Authors."
      ]
    },
    {
      "cell_type": "code",
      "metadata": {
        "id": "1PzPJglSWgnW",
        "colab_type": "code",
        "colab": {}
      },
      "source": [
        "#@title Licensed under the Apache License, Version 2.0\n",
        "# you may not use this file except in compliance with the License.\n",
        "# You may obtain a copy of the License at\n",
        "#\n",
        "# https://www.apache.org/licenses/LICENSE-2.0\n",
        "#\n",
        "# Unless required by applicable law or agreed to in writing, software\n",
        "# distributed under the License is distributed on an \"AS IS\" BASIS,\n",
        "# WITHOUT WARRANTIES OR CONDITIONS OF ANY KIND, either express or implied.\n",
        "# See the License for the specific language governing permissions and\n",
        "# limitations under the License."
      ],
      "execution_count": 0,
      "outputs": []
    },
    {
      "cell_type": "markdown",
      "metadata": {
        "id": "b5P4BEg1XYd5",
        "colab_type": "text"
      },
      "source": [
        "# TensorFlow Addons Optimizers: ConditionalGradient\n",
        "\n",
        "\n",
        "<table class=\"tfo-notebook-buttons\" align=\"left\">\n",
        "  <td>\n",
        "    <a target=\"_blank\" href=\"\"><img src=\"https://www.tensorflow.org/images/tf_logo_32px.png\" />View on TensorFlow.org</a>\n",
        "  </td>\n",
        "  <td>\n",
        "    <a target=\"_blank\" href=\"https://colab.research.google.com/drive/1UT4e-BZkpdsavgLXUpsCN5KEpAB3NY_b#scrollTo=b5P4BEg1XYd5\"><img src=\"https://www.tensorflow.org/images/colab_logo_32px.png\" />Run in Google Colab</a>\n",
        "  </td>\n",
        "  <td>\n",
        "    <a target=\"_blank\" href=\"https://github.com/pkan2/addons/blob/master/docs/tutorials/optimizers_conditionalgradient.ipynb\"><img src=\"https://www.tensorflow.org/images/GitHub-Mark-32px.png\" />View source on GitHub</a>\n",
        "  </td>\n",
        "  <td>\n",
        "    <a href=\"\"><img src=\"https://www.tensorflow.org/images/download_logo_32px.png\" />Download notebook</a>\n",
        "  </td>\n",
        "</table>"
      ]
    },
    {
      "cell_type": "markdown",
      "metadata": {
        "id": "Faj8luWnYNSG",
        "colab_type": "text"
      },
      "source": [
        "# Overview\n",
        "This notebook will demonstrate how to use the Conditional Graident Optimizer from the Addons package."
      ]
    },
    {
      "cell_type": "markdown",
      "metadata": {
        "id": "MrDjqjY6YRYM",
        "colab_type": "text"
      },
      "source": [
        "# ConditionalGradient\n",
        "\n",
        "\n",
        "> Constraining the parameters of a neural network has been shown to be beneficial in training because of the underlying regularization effects.  Often, parameters are constrained via a soft penalty (which never guarantees the constraint satisfaction) or via a projection operation (which is computationally expensive). Conditional gradient (CG) optimizer, on the other hand, enforces the constraints strictly without the need for an expensive projection step. It works by minimizing a linear approximation of the objective within the constraint set. In this notebook, we demonstrate the appliction of Frobenius norm constraint via the CG optimizer on the MNIST dataset. CG is now available as a tensorflow API. More details of the optimizer are available at https://arxiv.org/pdf/1803.06453.pdf\n"
      ]
    },
    {
      "cell_type": "markdown",
      "metadata": {
        "id": "dooBaYGLYYnn",
        "colab_type": "text"
      },
      "source": [
        "## Setup"
      ]
    },
    {
      "cell_type": "code",
      "metadata": {
        "id": "Pc8HQET2O5KK",
        "colab_type": "code",
        "colab": {}
      },
      "source": [
        "from __future__ import absolute_import, division, print_function, unicode_literals"
      ],
      "execution_count": 0,
      "outputs": []
    },
    {
      "cell_type": "code",
      "metadata": {
        "id": "qYo0FkL4O7io",
        "colab_type": "code",
        "colab": {}
      },
      "source": [
        "try:\n",
        "  %tensorflow_version 2.x\n",
        "except:\n",
        "  pass\n",
        "\n",
        "import tensorflow as tf"
      ],
      "execution_count": 0,
      "outputs": []
    },
    {
      "cell_type": "code",
      "metadata": {
        "id": "SWGRw7vhO-kL",
        "colab_type": "code",
        "outputId": "8ee0f370-4dc7-454f-ac87-fe1772a048e3",
        "colab": {
          "base_uri": "https://localhost:8080/",
          "height": 34
        }
      },
      "source": [
        "!pip install --no-deps tensorflow-addons~=0.6"
      ],
      "execution_count": 0,
      "outputs": [
        {
          "output_type": "stream",
          "text": [
            "Requirement already satisfied: tensorflow-addons~=0.6 in /usr/local/lib/python3.6/dist-packages (0.6.0)\n"
          ],
          "name": "stdout"
        }
      ]
    },
    {
      "cell_type": "code",
      "metadata": {
        "id": "oPbEvhbCih0t",
        "colab_type": "code",
        "colab": {}
      },
      "source": [
        "import tensorflow_addons as tfa\n",
        "import tensorflow_datasets as tfds\n",
        "import numpy as np\n",
        "from matplotlib import pyplot as plt"
      ],
      "execution_count": 0,
      "outputs": []
    },
    {
      "cell_type": "code",
      "metadata": {
        "id": "kR0PnjrIirpJ",
        "colab_type": "code",
        "colab": {}
      },
      "source": [
        "# Hyperparameters\n",
        "batch_size=64\n",
        "epochs=10"
      ],
      "execution_count": 0,
      "outputs": []
    },
    {
      "cell_type": "markdown",
      "metadata": {
        "id": "-x0WBp-IYz7x",
        "colab_type": "text"
      },
      "source": [
        "# Build the Model"
      ]
    },
    {
      "cell_type": "code",
      "metadata": {
        "id": "4KzMDUT0i1QE",
        "colab_type": "code",
        "colab": {}
      },
      "source": [
        "model = tf.keras.Sequential([\n",
        "    tf.keras.layers.Dense(64, input_shape=(784,), activation='relu', name='dense_1'),\n",
        "    tf.keras.layers.Dense(64, activation='relu', name='dense_2'),\n",
        "    tf.keras.layers.Dense(10, activation='softmax', name='predictions'),\n",
        "])"
      ],
      "execution_count": 0,
      "outputs": []
    },
    {
      "cell_type": "markdown",
      "metadata": {
        "id": "XGADNG3-Y7aa",
        "colab_type": "text"
      },
      "source": [
        "# Prep the Data"
      ]
    },
    {
      "cell_type": "code",
      "metadata": {
        "id": "d6a-kbM_i1b2",
        "colab_type": "code",
        "colab": {}
      },
      "source": [
        "# Load MNIST dataset as NumPy arrays\n",
        "dataset = {}\n",
        "num_validation = 10000\n",
        "(x_train, y_train), (x_test, y_test) = tf.keras.datasets.mnist.load_data()\n",
        "\n",
        "# Preprocess the data\n",
        "x_train = x_train.reshape(-1, 784).astype('float32') / 255\n",
        "x_test = x_test.reshape(-1, 784).astype('float32') / 255"
      ],
      "execution_count": 0,
      "outputs": []
    },
    {
      "cell_type": "markdown",
      "metadata": {
        "id": "sOlB-WqjZp1Y",
        "colab_type": "text"
      },
      "source": [
        "# Define a Custom Callback Function"
      ]
    },
    {
      "cell_type": "code",
      "metadata": {
        "id": "8LCmRXUgZqyV",
        "colab_type": "code",
        "colab": {}
      },
      "source": [
        "def frobenius_norm(m):\n",
        "    \"\"\"This function is to calculate the frobenius norm of the matrix of all\n",
        "    layer's weight.\n",
        "  \n",
        "    Args:\n",
        "        m: is a list of weights param for each layers.\n",
        "    \"\"\"\n",
        "    total_reduce_sum = 0\n",
        "    for i in range(len(m)):\n",
        "        total_reduce_sum = total_reduce_sum + tf.math.reduce_sum(m[i]**2)\n",
        "    norm = total_reduce_sum**0.5\n",
        "    return norm"
      ],
      "execution_count": 0,
      "outputs": []
    },
    {
      "cell_type": "code",
      "metadata": {
        "id": "udSvzKm4Z5Zr",
        "colab_type": "code",
        "colab": {}
      },
      "source": [
        "CG_frobenius_norm_of_weight = []\n",
        "CG_get_weight_norm = tf.keras.callbacks.LambdaCallback(\n",
        "    on_epoch_end=lambda batch, logs: CG_frobenius_norm_of_weight.append(\n",
        "        frobenius_norm(model.trainable_weights).numpy()))"
      ],
      "execution_count": 0,
      "outputs": []
    },
    {
      "cell_type": "markdown",
      "metadata": {
        "id": "qfhE1DfwZC1i",
        "colab_type": "text"
      },
      "source": [
        "# Train and Evaluate: Using CG as Optimizer\n",
        "\n",
        "Simply replace typical keras optimizers with the new tfa optimizer "
      ]
    },
    {
      "cell_type": "code",
      "metadata": {
        "id": "6-AMaOYEi1kK",
        "colab_type": "code",
        "outputId": "d163916c-bf79-4992-9c82-437755188db1",
        "colab": {
          "base_uri": "https://localhost:8080/",
          "height": 394
        }
      },
      "source": [
        "# Compile the model\n",
        "model.compile(\n",
        "    optimizer=tfa.optimizers.ConditionalGradient(\n",
        "        learning_rate=0.99949, lambda_=203),  # Utilize TFA optimizer\n",
        "    loss=tf.keras.losses.SparseCategoricalCrossentropy(),\n",
        "    metrics=['accuracy'])\n",
        "\n",
        "history_cg = model.fit(\n",
        "    x_train,\n",
        "    y_train,\n",
        "    batch_size=batch_size,\n",
        "    validation_data=(x_test, y_test),\n",
        "    epochs=epochs,\n",
        "    callbacks=[CG_get_weight_norm])"
      ],
      "execution_count": 0,
      "outputs": [
        {
          "output_type": "stream",
          "text": [
            "Train on 60000 samples, validate on 10000 samples\n",
            "Epoch 1/10\n",
            "60000/60000 [==============================] - 5s 76us/sample - loss: 0.3874 - accuracy: 0.8826 - val_loss: 0.2123 - val_accuracy: 0.9329\n",
            "Epoch 2/10\n",
            "60000/60000 [==============================] - 4s 66us/sample - loss: 0.1947 - accuracy: 0.9412 - val_loss: 0.1657 - val_accuracy: 0.9509\n",
            "Epoch 3/10\n",
            "60000/60000 [==============================] - 4s 68us/sample - loss: 0.1551 - accuracy: 0.9529 - val_loss: 0.1495 - val_accuracy: 0.9561\n",
            "Epoch 4/10\n",
            "60000/60000 [==============================] - 4s 66us/sample - loss: 0.1341 - accuracy: 0.9593 - val_loss: 0.1263 - val_accuracy: 0.9609\n",
            "Epoch 5/10\n",
            "60000/60000 [==============================] - 4s 66us/sample - loss: 0.1242 - accuracy: 0.9629 - val_loss: 0.1381 - val_accuracy: 0.9573\n",
            "Epoch 6/10\n",
            "60000/60000 [==============================] - 4s 67us/sample - loss: 0.1179 - accuracy: 0.9643 - val_loss: 0.1212 - val_accuracy: 0.9638\n",
            "Epoch 7/10\n",
            "60000/60000 [==============================] - 4s 67us/sample - loss: 0.1113 - accuracy: 0.9669 - val_loss: 0.1411 - val_accuracy: 0.9559\n",
            "Epoch 8/10\n",
            "60000/60000 [==============================] - 4s 66us/sample - loss: 0.1092 - accuracy: 0.9661 - val_loss: 0.0942 - val_accuracy: 0.9722\n",
            "Epoch 9/10\n",
            "60000/60000 [==============================] - 4s 66us/sample - loss: 0.1054 - accuracy: 0.9681 - val_loss: 0.1074 - val_accuracy: 0.9673\n",
            "Epoch 10/10\n",
            "60000/60000 [==============================] - 4s 67us/sample - loss: 0.1047 - accuracy: 0.9682 - val_loss: 0.0958 - val_accuracy: 0.9712\n"
          ],
          "name": "stdout"
        }
      ]
    },
    {
      "cell_type": "markdown",
      "metadata": {
        "id": "8OJp4So9bYYR",
        "colab_type": "text"
      },
      "source": [
        "# Train and Evaluate: Using SGD as Optimizer"
      ]
    },
    {
      "cell_type": "code",
      "metadata": {
        "id": "SuizUueqn449",
        "colab_type": "code",
        "colab": {}
      },
      "source": [
        "tf.keras.backend.clear_session()"
      ],
      "execution_count": 0,
      "outputs": []
    },
    {
      "cell_type": "code",
      "metadata": {
        "id": "V8QC3xCwbfNl",
        "colab_type": "code",
        "colab": {}
      },
      "source": [
        "SGD_frobenius_norm_of_weight = []\n",
        "SGD_get_weight_norm = tf.keras.callbacks.LambdaCallback(\n",
        "    on_epoch_end=lambda batch, logs: SGD_frobenius_norm_of_weight.append(\n",
        "        frobenius_norm(model.trainable_weights).numpy()))"
      ],
      "execution_count": 0,
      "outputs": []
    },
    {
      "cell_type": "code",
      "metadata": {
        "id": "9BNi4yXGcDlg",
        "colab_type": "code",
        "outputId": "be25360e-c314-4b32-ba2b-9670dcf247ec",
        "colab": {
          "base_uri": "https://localhost:8080/",
          "height": 394
        }
      },
      "source": [
        "# Compile the model\n",
        "model.compile(\n",
        "    optimizer=tf.keras.optimizers.SGD(0.01),  # Utilize SGD optimizer\n",
        "    loss=tf.keras.losses.SparseCategoricalCrossentropy(),\n",
        "    metrics=['accuracy'])\n",
        "\n",
        "history_sgd = model.fit(\n",
        "    x_train,\n",
        "    y_train,\n",
        "    batch_size=batch_size,\n",
        "    validation_data=(x_test, y_test),\n",
        "    epochs=epochs,\n",
        "    callbacks=[SGD_get_weight_norm])"
      ],
      "execution_count": 0,
      "outputs": [
        {
          "output_type": "stream",
          "text": [
            "Train on 60000 samples, validate on 10000 samples\n",
            "Epoch 1/10\n",
            "60000/60000 [==============================] - 4s 66us/sample - loss: 0.0640 - accuracy: 0.9825 - val_loss: 0.0730 - val_accuracy: 0.9778\n",
            "Epoch 2/10\n",
            "60000/60000 [==============================] - 3s 57us/sample - loss: 0.0574 - accuracy: 0.9844 - val_loss: 0.0720 - val_accuracy: 0.9782\n",
            "Epoch 3/10\n",
            "60000/60000 [==============================] - 3s 58us/sample - loss: 0.0537 - accuracy: 0.9857 - val_loss: 0.0699 - val_accuracy: 0.9788\n",
            "Epoch 4/10\n",
            "60000/60000 [==============================] - 3s 58us/sample - loss: 0.0511 - accuracy: 0.9865 - val_loss: 0.0683 - val_accuracy: 0.9785\n",
            "Epoch 5/10\n",
            "60000/60000 [==============================] - 3s 57us/sample - loss: 0.0488 - accuracy: 0.9874 - val_loss: 0.0682 - val_accuracy: 0.9787\n",
            "Epoch 6/10\n",
            "60000/60000 [==============================] - 3s 57us/sample - loss: 0.0468 - accuracy: 0.9878 - val_loss: 0.0661 - val_accuracy: 0.9796\n",
            "Epoch 7/10\n",
            "60000/60000 [==============================] - 3s 57us/sample - loss: 0.0450 - accuracy: 0.9884 - val_loss: 0.0662 - val_accuracy: 0.9794\n",
            "Epoch 8/10\n",
            "60000/60000 [==============================] - 3s 57us/sample - loss: 0.0433 - accuracy: 0.9888 - val_loss: 0.0658 - val_accuracy: 0.9794\n",
            "Epoch 9/10\n",
            "60000/60000 [==============================] - 3s 58us/sample - loss: 0.0417 - accuracy: 0.9897 - val_loss: 0.0651 - val_accuracy: 0.9790\n",
            "Epoch 10/10\n",
            "60000/60000 [==============================] - 3s 58us/sample - loss: 0.0404 - accuracy: 0.9900 - val_loss: 0.0645 - val_accuracy: 0.9798\n"
          ],
          "name": "stdout"
        }
      ]
    },
    {
      "cell_type": "markdown",
      "metadata": {
        "id": "1Myw0FVcd_Z9",
        "colab_type": "text"
      },
      "source": [
        "# Frobenius Norm of Weights: CG vs SGD"
      ]
    },
    {
      "cell_type": "code",
      "metadata": {
        "id": "Ewf17MW1cJVI",
        "colab_type": "code",
        "outputId": "ba66e4fd-841b-42da-8d55-30b3f176c4b2",
        "colab": {
          "base_uri": "https://localhost:8080/",
          "height": 300
        }
      },
      "source": [
        "plt.plot(\n",
        "    CG_frobenius_norm_of_weight,\n",
        "    color='r',\n",
        "    label='CG_frobenius_norm_of_weights')\n",
        "plt.plot(\n",
        "    SGD_frobenius_norm_of_weight,\n",
        "    color='b',\n",
        "    label='SGD_frobenius_norm_of_weights')\n",
        "plt.xlabel('Epoch')\n",
        "plt.ylabel('Frobenius norm of weights')\n",
        "plt.legend(loc=1)"
      ],
      "execution_count": 0,
      "outputs": [
        {
          "output_type": "execute_result",
          "data": {
            "text/plain": [
              "<matplotlib.legend.Legend at 0x7f065b11a668>"
            ]
          },
          "metadata": {
            "tags": []
          },
          "execution_count": 45
        },
        {
          "output_type": "display_data",
          "data": {
            "image/png": "[encoded data removed]",
            "text/plain": [
              "<Figure size 432x288 with 1 Axes>"
            ]
          },
          "metadata": {
            "tags": []
          }
        }
      ]
    },
    {
      "cell_type": "markdown",
      "metadata": {
        "id": "JGtutiXuoZyx",
        "colab_type": "text"
      },
      "source": [
        "# Train and Validation Accuracy: CG vs SGD\n"
      ]
    },
    {
      "cell_type": "code",
      "metadata": {
        "id": "s-SNIr10o2va",
        "colab_type": "code",
        "outputId": "4804e36d-e578-4a69-87f9-402140200759",
        "colab": {
          "base_uri": "https://localhost:8080/",
          "height": 300
        }
      },
      "source": [
        "plt.plot(history_cg.history['accuracy'], color='r', label='CG_train')\n",
        "plt.plot(history_cg.history['val_accuracy'], color='g', label='CG_test')\n",
        "plt.plot(history_sgd.history['accuracy'], color='pink', label='SGD_train')\n",
        "plt.plot(history_sgd.history['val_accuracy'], color='b', label='SGD_test')\n",
        "plt.xlabel('Epoch')\n",
        "plt.ylabel('loss')\n",
        "plt.legend(loc=4)"
      ],
      "execution_count": 0,
      "outputs": [
        {
          "output_type": "execute_result",
          "data": {
            "text/plain": [
              "<matplotlib.legend.Legend at 0x7f065b8d5f60>"
            ]
          },
          "metadata": {
            "tags": []
          },
          "execution_count": 48
        },
        {
          "output_type": "display_data",
          "data": {
            "image/png": "[encoded data removed]",
            "text/plain": [
              "<Figure size 432x288 with 1 Axes>"
            ]
          },
          "metadata": {
            "tags": []
          }
        }
      ]
    }
  ]
}