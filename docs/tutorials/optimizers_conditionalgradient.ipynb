{
  "nbformat": 4,
  "nbformat_minor": 0,
  "metadata": {
    "colab": {
      "name": "optimizers_conditionalgradient.ipynb",
      "provenance": [],
      "collapsed_sections": []
    },
    "kernelspec": {
      "name": "python3",
      "display_name": "Python 3"
    },
    "accelerator": "GPU"
  },
  "cells": [
    {
      "cell_type": "markdown",
      "metadata": {
        "id": "pGUYKbJNWNgj",
        "colab_type": "text"
      },
      "source": [
        "##### Copyright 2019 The TensorFlow Authors."
      ]
    },
    {
      "cell_type": "code",
      "metadata": {
        "id": "1PzPJglSWgnW",
        "colab_type": "code",
        "colab": {}
      },
      "source": [
        "#@title Licensed under the Apache License, Version 2.0\n",
        "# you may not use this file except in compliance with the License.\n",
        "# You may obtain a copy of the License at\n",
        "#\n",
        "# https://www.apache.org/licenses/LICENSE-2.0\n",
        "#\n",
        "# Unless required by applicable law or agreed to in writing, software\n",
        "# distributed under the License is distributed on an \"AS IS\" BASIS,\n",
        "# WITHOUT WARRANTIES OR CONDITIONS OF ANY KIND, either express or implied.\n",
        "# See the License for the specific language governing permissions and\n",
        "# limitations under the License."
      ],
      "execution_count": 0,
      "outputs": []
    },
    {
      "cell_type": "markdown",
      "metadata": {
        "id": "b5P4BEg1XYd5",
        "colab_type": "text"
      },
      "source": [
        "# TensorFlow Addons Optimizers: ConditionalGradient\n",
        "\n",
        "### TBD!!!!!! to modify the ref link\n",
        "\n",
        "<table class=\"tfo-notebook-buttons\" align=\"left\">\n",
        "  <td>\n",
        "    <a target=\"_blank\" href=\"https://colab.research.google.com/drive/1UT4e-BZkpdsavgLXUpsCN5KEpAB3NY_b#scrollTo=b5P4BEg1XYd5\"><img src=\"https://www.tensorflow.org/images/colab_logo_32px.png\" />Run in Google Colab</a>\n",
        "  </td>\n",
        "  <td>\n",
        "    <a target=\"_blank\" href=\"https://github.com/pkan2/addons/blob/master/docs/tutorials/optimizers_conditionalgradient.ipynb\"><img src=\"https://www.tensorflow.org/images/GitHub-Mark-32px.png\" />View source on GitHub</a>\n",
        "  </td>\n",
        "</table>"
      ]
    },
    {
      "cell_type": "markdown",
      "metadata": {
        "id": "Faj8luWnYNSG",
        "colab_type": "text"
      },
      "source": [
        "# Overview\n",
        "This notebook will demonstrate how to use the Conditional Graident Optimizer from the Addons package."
      ]
    },
    {
      "cell_type": "markdown",
      "metadata": {
        "id": "MrDjqjY6YRYM",
        "colab_type": "text"
      },
      "source": [
        "# ConditionalGradient\n",
        "\n",
        "> Condtitional Gradient Optimizer provides an alternative method for handling regularizer in the optimization process. The implementation of this optimizer is based on the following paper:\n",
        "https://arxiv.org/pdf/1803.06453.pdf. Current implementation enforces Frobenius norm constraints on a model. The variable update rule being implemented is:\n",
        "$variable -= (1 - learning\\_rate) \\times (variable + lambda\\_ \\times \\frac{gradient}{  frobenius\\_norm(gradient) + epsilon})$, \n",
        "where, 'learning_rate' and 'lambda\\_' are the parameters that are needed to input into the model when initializing the model. And 'epsilon' is a constant, which is relatively small as compared to the norm of gradient. The purpose of 'epsilon' here is to handle the case of undefined mathematic operation to divided by zero, when the norm of gradient equals zero.\n"
      ]
    },
    {
      "cell_type": "markdown",
      "metadata": {
        "id": "dooBaYGLYYnn",
        "colab_type": "text"
      },
      "source": [
        "## Setup"
      ]
    },
    {
      "cell_type": "code",
      "metadata": {
        "id": "oPbEvhbCih0t",
        "colab_type": "code",
        "colab": {}
      },
      "source": [
        "!pip install tensorflow-gpu==2.0.0rc0\n",
        "!pip install tfa-nightly\n",
        "from __future__ import absolute_import, division, print_function, unicode_literals\n",
        "\n",
        "import tensorflow as tf\n",
        "import tensorflow_addons as tfa\n",
        "import tensorflow_datasets as tfds\n",
        "import numpy as np\n",
        "from matplotlib import pyplot as plt"
      ],
      "execution_count": 0,
      "outputs": []
    },
    {
      "cell_type": "code",
      "metadata": {
        "id": "kR0PnjrIirpJ",
        "colab_type": "code",
        "colab": {}
      },
      "source": [
        "# Hyperparameters\n",
        "batch_size=64\n",
        "epochs=10"
      ],
      "execution_count": 0,
      "outputs": []
    },
    {
      "cell_type": "markdown",
      "metadata": {
        "id": "-x0WBp-IYz7x",
        "colab_type": "text"
      },
      "source": [
        "# Build the Model"
      ]
    },
    {
      "cell_type": "code",
      "metadata": {
        "id": "4KzMDUT0i1QE",
        "colab_type": "code",
        "colab": {}
      },
      "source": [
        "model_1 = tf.keras.Sequential([\n",
        "    tf.keras.layers.Dense(64, input_shape=(784,), activation='relu', name='dense_1'),\n",
        "    tf.keras.layers.Dense(64, activation='relu', name='dense_2'),\n",
        "    tf.keras.layers.Dense(10, activation='softmax', name='predictions'),\n",
        "])"
      ],
      "execution_count": 0,
      "outputs": []
    },
    {
      "cell_type": "markdown",
      "metadata": {
        "id": "XGADNG3-Y7aa",
        "colab_type": "text"
      },
      "source": [
        "# Prep the Data"
      ]
    },
    {
      "cell_type": "code",
      "metadata": {
        "id": "d6a-kbM_i1b2",
        "colab_type": "code",
        "colab": {
          "base_uri": "https://localhost:8080/",
          "height": 51
        },
        "outputId": "6e4a4081-4022-458d-f500-16ab668b8a08"
      },
      "source": [
        "# Load MNIST dataset as NumPy arrays\n",
        "dataset = {}\n",
        "num_validation = 10000\n",
        "(x_train, y_train), (x_test, y_test) = tf.keras.datasets.mnist.load_data()\n",
        "\n",
        "# Preprocess the data\n",
        "x_train = x_train.reshape(-1, 784).astype('float32') / 255\n",
        "x_test = x_test.reshape(-1, 784).astype('float32') / 255"
      ],
      "execution_count": 5,
      "outputs": [
        {
          "output_type": "stream",
          "text": [
            "Downloading data from https://storage.googleapis.com/tensorflow/tf-keras-datasets/mnist.npz\n",
            "11493376/11490434 [==============================] - 0s 0us/step\n"
          ],
          "name": "stdout"
        }
      ]
    },
    {
      "cell_type": "markdown",
      "metadata": {
        "id": "sOlB-WqjZp1Y",
        "colab_type": "text"
      },
      "source": [
        "# Define a Custom Callback Function"
      ]
    },
    {
      "cell_type": "code",
      "metadata": {
        "id": "8LCmRXUgZqyV",
        "colab_type": "code",
        "colab": {}
      },
      "source": [
        "# This function is to calculate the frobenius norm of the matrix of all\n",
        "# layer's weight.\n",
        "# args:\n",
        "#      m: is a list of weights param for each layers\n",
        "def frobenius_norm(m):\n",
        "    total_reduce_sum = 0\n",
        "    for i in range(len(m)):\n",
        "        total_reduce_sum = total_reduce_sum + tf.math.reduce_sum(m[i]**2)\n",
        "    norm = total_reduce_sum**0.5\n",
        "    return norm"
      ],
      "execution_count": 0,
      "outputs": []
    },
    {
      "cell_type": "code",
      "metadata": {
        "id": "udSvzKm4Z5Zr",
        "colab_type": "code",
        "colab": {}
      },
      "source": [
        "CG_frobenius_norm_of_weight = []\n",
        "CG_get_weight_norm = tf.keras.callbacks.LambdaCallback(\n",
        "    on_epoch_end=lambda batch, logs: CG_frobenius_norm_of_weight.append(\n",
        "        frobenius_norm(model_1.trainable_weights).numpy()))"
      ],
      "execution_count": 0,
      "outputs": []
    },
    {
      "cell_type": "markdown",
      "metadata": {
        "id": "qfhE1DfwZC1i",
        "colab_type": "text"
      },
      "source": [
        "# Train and Evaluate\n",
        "\n",
        "Simply replace typical keras optimizers with the new tfa optimizer "
      ]
    },
    {
      "cell_type": "code",
      "metadata": {
        "id": "6-AMaOYEi1kK",
        "colab_type": "code",
        "outputId": "56f2344b-a79c-4d2b-af81-df0b784af38a",
        "colab": {
          "base_uri": "https://localhost:8080/",
          "height": 394
        }
      },
      "source": [
        "# Compile the model\n",
        "model_1.compile(\n",
        "    optimizer=tfa.optimizers.ConditionalGradient(\n",
        "        learning_rate=0.99949, lambda_=203),  # Utilize TFA optimizer\n",
        "    loss=tf.keras.losses.SparseCategoricalCrossentropy(),\n",
        "    metrics=['accuracy'])\n",
        "\n",
        "history_1 = model_1.fit(\n",
        "    x_train,\n",
        "    y_train,\n",
        "    batch_size=batch_size,\n",
        "    validation_data=(x_test, y_test),\n",
        "    epochs=epochs,\n",
        "    callbacks=[CG_get_weight_norm])"
      ],
      "execution_count": 8,
      "outputs": [
        {
          "output_type": "stream",
          "text": [
            "Train on 60000 samples, validate on 10000 samples\n",
            "Epoch 1/10\n",
            "60000/60000 [==============================] - 5s 90us/sample - loss: 0.3826 - accuracy: 0.8842 - val_loss: 0.2034 - val_accuracy: 0.9395\n",
            "Epoch 2/10\n",
            "60000/60000 [==============================] - 4s 68us/sample - loss: 0.1930 - accuracy: 0.9427 - val_loss: 0.1642 - val_accuracy: 0.9490\n",
            "Epoch 3/10\n",
            "60000/60000 [==============================] - 4s 67us/sample - loss: 0.1532 - accuracy: 0.9548 - val_loss: 0.1349 - val_accuracy: 0.9621\n",
            "Epoch 4/10\n",
            "60000/60000 [==============================] - 4s 67us/sample - loss: 0.1320 - accuracy: 0.9600 - val_loss: 0.1107 - val_accuracy: 0.9669\n",
            "Epoch 5/10\n",
            "60000/60000 [==============================] - 4s 68us/sample - loss: 0.1251 - accuracy: 0.9629 - val_loss: 0.1482 - val_accuracy: 0.9534\n",
            "Epoch 6/10\n",
            "60000/60000 [==============================] - 4s 66us/sample - loss: 0.1178 - accuracy: 0.9645 - val_loss: 0.1068 - val_accuracy: 0.9683\n",
            "Epoch 7/10\n",
            "60000/60000 [==============================] - 4s 67us/sample - loss: 0.1144 - accuracy: 0.9660 - val_loss: 0.1095 - val_accuracy: 0.9675\n",
            "Epoch 8/10\n",
            "60000/60000 [==============================] - 4s 68us/sample - loss: 0.1105 - accuracy: 0.9668 - val_loss: 0.1251 - val_accuracy: 0.9624\n",
            "Epoch 9/10\n",
            "60000/60000 [==============================] - 4s 68us/sample - loss: 0.1074 - accuracy: 0.9673 - val_loss: 0.1248 - val_accuracy: 0.9635\n",
            "Epoch 10/10\n",
            "60000/60000 [==============================] - 4s 67us/sample - loss: 0.1068 - accuracy: 0.9674 - val_loss: 0.1376 - val_accuracy: 0.9590\n"
          ],
          "name": "stdout"
        }
      ]
    },
    {
      "cell_type": "code",
      "metadata": {
        "id": "xjGLznhYi1sA",
        "colab_type": "code",
        "colab": {}
      },
      "source": [
        "\n",
        "# TBD: shall we delete this block? It seems like this block does not mean much \n",
        "#      for our demo here?\n",
        "\n",
        "\n",
        "# Evaluate the network\n",
        "print('Evaluate on test data:')\n",
        "results = model_1.evaluate(x_test, y_test, batch_size=128)\n",
        "print('Test loss = {0}, Test acc: {1}'.format(results[0], results[1]))"
      ],
      "execution_count": 0,
      "outputs": []
    },
    {
      "cell_type": "markdown",
      "metadata": {
        "id": "8OJp4So9bYYR",
        "colab_type": "text"
      },
      "source": [
        "# Comparision with the Performance of SGD"
      ]
    },
    {
      "cell_type": "code",
      "metadata": {
        "id": "ug0ug4A240T5",
        "colab_type": "code",
        "colab": {}
      },
      "source": [
        "model_2 = tf.keras.Sequential([\n",
        "    tf.keras.layers.Dense(\n",
        "        64, input_shape=(784, ), activation='relu', name='dense_1'),\n",
        "    tf.keras.layers.Dense(64, activation='relu', name='dense_2'),\n",
        "    tf.keras.layers.Dense(10, activation='softmax', name='predictions'),\n",
        "])"
      ],
      "execution_count": 0,
      "outputs": []
    },
    {
      "cell_type": "code",
      "metadata": {
        "id": "V8QC3xCwbfNl",
        "colab_type": "code",
        "colab": {}
      },
      "source": [
        "SGD_frobenius_norm_of_weight = []\n",
        "SGD_get_weight_norm = tf.keras.callbacks.LambdaCallback(\n",
        "    on_epoch_end=lambda batch, logs: SGD_frobenius_norm_of_weight.append(\n",
        "        frobenius_norm(model_2.trainable_weights).numpy()))"
      ],
      "execution_count": 0,
      "outputs": []
    },
    {
      "cell_type": "code",
      "metadata": {
        "id": "9BNi4yXGcDlg",
        "colab_type": "code",
        "outputId": "12f8932f-3a49-407e-c8f9-383f0abcf9d5",
        "colab": {
          "base_uri": "https://localhost:8080/",
          "height": 394
        }
      },
      "source": [
        "# Compile the model\n",
        "\n",
        "model_2.compile(\n",
        "    optimizer=tf.keras.optimizers.SGD(0.1),  # Utilize TFA optimizer\n",
        "    loss=tf.keras.losses.SparseCategoricalCrossentropy(),\n",
        "    metrics=['accuracy'])\n",
        "\n",
        "history_2 = model_2.fit(\n",
        "    x_train,\n",
        "    y_train,\n",
        "    batch_size=batch_size,\n",
        "    validation_data=(x_test, y_test),\n",
        "    epochs=epochs,\n",
        "    callbacks=[SGD_get_weight_norm])"
      ],
      "execution_count": 11,
      "outputs": [
        {
          "output_type": "stream",
          "text": [
            "Train on 60000 samples, validate on 10000 samples\n",
            "Epoch 1/10\n",
            "60000/60000 [==============================] - 4s 62us/sample - loss: 0.3569 - accuracy: 0.8954 - val_loss: 0.1840 - val_accuracy: 0.9434\n",
            "Epoch 2/10\n",
            "60000/60000 [==============================] - 3s 58us/sample - loss: 0.1603 - accuracy: 0.9531 - val_loss: 0.1269 - val_accuracy: 0.9617\n",
            "Epoch 3/10\n",
            "60000/60000 [==============================] - 3s 57us/sample - loss: 0.1193 - accuracy: 0.9635 - val_loss: 0.1213 - val_accuracy: 0.9630\n",
            "Epoch 4/10\n",
            "60000/60000 [==============================] - 3s 58us/sample - loss: 0.0957 - accuracy: 0.9712 - val_loss: 0.0968 - val_accuracy: 0.9710\n",
            "Epoch 5/10\n",
            "60000/60000 [==============================] - 4s 59us/sample - loss: 0.0799 - accuracy: 0.9761 - val_loss: 0.0973 - val_accuracy: 0.9682\n",
            "Epoch 6/10\n",
            "60000/60000 [==============================] - 3s 57us/sample - loss: 0.0702 - accuracy: 0.9786 - val_loss: 0.0882 - val_accuracy: 0.9716\n",
            "Epoch 7/10\n",
            "60000/60000 [==============================] - 3s 57us/sample - loss: 0.0613 - accuracy: 0.9816 - val_loss: 0.0952 - val_accuracy: 0.9713\n",
            "Epoch 8/10\n",
            "60000/60000 [==============================] - 3s 58us/sample - loss: 0.0553 - accuracy: 0.9828 - val_loss: 0.0844 - val_accuracy: 0.9758\n",
            "Epoch 9/10\n",
            "60000/60000 [==============================] - 3s 57us/sample - loss: 0.0488 - accuracy: 0.9846 - val_loss: 0.0789 - val_accuracy: 0.9748\n",
            "Epoch 10/10\n",
            "60000/60000 [==============================] - 3s 57us/sample - loss: 0.0423 - accuracy: 0.9873 - val_loss: 0.0783 - val_accuracy: 0.9746\n"
          ],
          "name": "stdout"
        }
      ]
    },
    {
      "cell_type": "code",
      "metadata": {
        "id": "_JVE2tSKcIiD",
        "colab_type": "code",
        "colab": {}
      },
      "source": [
        "# TBD: shall we delete this block? It seems like this block does not mean much \n",
        "#      for our demo here?\n",
        "\n",
        "\n",
        "\n",
        "\n",
        "# Evaluate the network\n",
        "print('Evaluate on test data:')\n",
        "results = model_2.evaluate(x_test, y_test, batch_size=128)\n",
        "print('Test loss = {0}, Test acc: {1}'.format(results[0], results[1]))"
      ],
      "execution_count": 0,
      "outputs": []
    },
    {
      "cell_type": "markdown",
      "metadata": {
        "id": "1Myw0FVcd_Z9",
        "colab_type": "text"
      },
      "source": [
        "# Plot the Comparison Graph"
      ]
    },
    {
      "cell_type": "code",
      "metadata": {
        "id": "Ewf17MW1cJVI",
        "colab_type": "code",
        "outputId": "b441384e-ac1f-49ba-bf75-7384fd522bfc",
        "colab": {
          "base_uri": "https://localhost:8080/",
          "height": 300
        }
      },
      "source": [
        "plt.plot(\n",
        "    CG_frobenius_norm_of_weight,\n",
        "    color='r',\n",
        "    label='CG_frobenius_norm_of_weights')\n",
        "plt.plot(\n",
        "    SGD_frobenius_norm_of_weight,\n",
        "    color='b',\n",
        "    label='SGD_frobenius_norm_of_weights')\n",
        "plt.xlabel('Epoch')\n",
        "plt.ylabel('Frobenius norm of weights')\n",
        "plt.legend(loc=1)"
      ],
      "execution_count": 12,
      "outputs": [
        {
          "output_type": "execute_result",
          "data": {
            "text/plain": [
              "<matplotlib.legend.Legend at 0x7f50c7699128>"
            ]
          },
          "metadata": {
            "tags": []
          },
          "execution_count": 12
        },
        {
          "output_type": "display_data",
          "data": {
            "image/png": "[encoded data removed]",
            "text/plain": [
              "<Figure size 432x288 with 1 Axes>"
            ]
          },
          "metadata": {
            "tags": []
          }
        }
      ]
    }
  ]
}