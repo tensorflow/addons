{
  "nbformat": 4,
  "nbformat_minor": 0,
  "metadata": {
    "colab": {
      "name": "optimizers_conditionalgradient.ipynb",
      "provenance": [],
      "collapsed_sections": []
    },
    "kernelspec": {
      "name": "python3",
      "display_name": "Python 3"
    },
    "accelerator": "GPU"
  },
  "cells": [
    {
      "cell_type": "markdown",
      "metadata": {
        "id": "pGUYKbJNWNgj",
        "colab_type": "text"
      },
      "source": [
        "##### Copyright 2019 The TensorFlow Authors."
      ]
    },
    {
      "cell_type": "code",
      "metadata": {
        "id": "1PzPJglSWgnW",
        "colab_type": "code",
        "colab": {}
      },
      "source": [
        "#@title Licensed under the Apache License, Version 2.0\n",
        "# you may not use this file except in compliance with the License.\n",
        "# You may obtain a copy of the License at\n",
        "#\n",
        "# https://www.apache.org/licenses/LICENSE-2.0\n",
        "#\n",
        "# Unless required by applicable law or agreed to in writing, software\n",
        "# distributed under the License is distributed on an \"AS IS\" BASIS,\n",
        "# WITHOUT WARRANTIES OR CONDITIONS OF ANY KIND, either express or implied.\n",
        "# See the License for the specific language governing permissions and\n",
        "# limitations under the License."
      ],
      "execution_count": 0,
      "outputs": []
    },
    {
      "cell_type": "markdown",
      "metadata": {
        "id": "b5P4BEg1XYd5",
        "colab_type": "text"
      },
      "source": [
        "# TensorFlow Addons Optimizers: ConditionalGradient\n",
        "\n",
        "\n",
        "<table class=\"tfo-notebook-buttons\" align=\"left\">\n",
        "  <td>\n",
        "    <a target=\"_blank\" href=\"https://www.tensorflow.org/addons/tutorials/optimizers_conditionalgradient\"><img src=\"https://www.tensorflow.org/images/tf_logo_32px.png\" />View on TensorFlow.org</a>\n",
        "  </td>\n",
        "  <td>\n",
        "    <a target=\"_blank\" href=\"https://colab.research.google.com/github/tensorflow/addons/blob/master/docs/tutorials/optimizers_conditionalgradient.ipynb\"><img src=\"https://www.tensorflow.org/images/colab_logo_32px.png\" />Run in Google Colab</a>\n",
        "  </td>\n",
        "  <td>\n",
        "    <a target=\"_blank\" href=\"https://github.com/tensorflow/addons/blob/master/docs/tutorials/optimizers_conditionalgradient.ipynb\"><img src=\"https://www.tensorflow.org/images/GitHub-Mark-32px.png\" />View source on GitHub</a>\n",
        "  </td>\n",
        "  <td>\n",
        "    <a href=\"https://storage.googleapis.com/tensorflow_docs/addons/docs/tutorials/optimizers_conditionalgradient.ipynb\"><img src=\"https://www.tensorflow.org/images/download_logo_32px.png\" />Download notebook</a>\n",
        "  </td>\n",
        "</table>"
      ]
    },
    {
      "cell_type": "markdown",
      "metadata": {
        "id": "Faj8luWnYNSG",
        "colab_type": "text"
      },
      "source": [
        "# Overview\n",
        "This notebook will demonstrate how to use the Conditional Graident Optimizer from the Addons package."
      ]
    },
    {
      "cell_type": "markdown",
      "metadata": {
        "id": "MrDjqjY6YRYM",
        "colab_type": "text"
      },
      "source": [
        "# ConditionalGradient\n",
        "\n",
        "\n",
        "> Constraining the parameters of a neural network has been shown to be beneficial in training because of the underlying regularization effects.  Often, parameters are constrained via a soft penalty (which never guarantees the constraint satisfaction) or via a projection operation (which is computationally expensive). Conditional gradient (CG) optimizer, on the other hand, enforces the constraints strictly without the need for an expensive projection step. It works by minimizing a linear approximation of the objective within the constraint set. In this notebook, we demonstrate the appliction of Frobenius norm constraint via the CG optimizer on the MNIST dataset. CG is now available as a tensorflow API. More details of the optimizer are available at https://arxiv.org/pdf/1803.06453.pdf\n"
      ]
    },
    {
      "cell_type": "markdown",
      "metadata": {
        "id": "dooBaYGLYYnn",
        "colab_type": "text"
      },
      "source": [
        "## Setup"
      ]
    },
    {
      "cell_type": "code",
      "metadata": {
        "id": "Pc8HQET2O5KK",
        "colab_type": "code",
        "colab": {}
      },
      "source": [
        "from __future__ import absolute_import, division, print_function, unicode_literals"
      ],
      "execution_count": 0,
      "outputs": []
    },
    {
      "cell_type": "code",
      "metadata": {
        "id": "qYo0FkL4O7io",
        "colab_type": "code",
        "outputId": "d8e66fa1-ee27-44e1-d26e-1238b084e305",
        "colab": {
          "base_uri": "https://localhost:8080/",
          "height": 34
        }
      },
      "source": [
        "try:\n",
        "  %tensorflow_version 2.x\n",
        "except:\n",
        "  pass\n",
        "\n",
        "import tensorflow as tf"
      ],
      "execution_count": 0,
      "outputs": [
        {
          "output_type": "stream",
          "text": [
            "TensorFlow 2.x selected.\n"
          ],
          "name": "stdout"
        }
      ]
    },
    {
      "cell_type": "code",
      "metadata": {
        "id": "SWGRw7vhO-kL",
        "colab_type": "code",
        "outputId": "bbe6c64a-845d-4be0-ae6c-aaf47312f1cd",
        "colab": {
          "base_uri": "https://localhost:8080/",
          "height": 34
        }
      },
      "source": [
        "!pip install --no-deps tensorflow-addons~=0.6"
      ],
      "execution_count": 0,
      "outputs": [
        {
          "output_type": "stream",
          "text": [
            "Requirement already satisfied: tensorflow-addons~=0.6 in /usr/local/lib/python3.6/dist-packages (0.6.0)\n"
          ],
          "name": "stdout"
        }
      ]
    },
    {
      "cell_type": "code",
      "metadata": {
        "id": "oPbEvhbCih0t",
        "colab_type": "code",
        "colab": {}
      },
      "source": [
        "import tensorflow_addons as tfa\n",
        "import tensorflow_datasets as tfds\n",
        "import numpy as np\n",
        "from matplotlib import pyplot as plt"
      ],
      "execution_count": 0,
      "outputs": []
    },
    {
      "cell_type": "code",
      "metadata": {
        "id": "kR0PnjrIirpJ",
        "colab_type": "code",
        "colab": {}
      },
      "source": [
        "# Hyperparameters\n",
        "batch_size=64\n",
        "epochs=10"
      ],
      "execution_count": 0,
      "outputs": []
    },
    {
      "cell_type": "markdown",
      "metadata": {
        "id": "-x0WBp-IYz7x",
        "colab_type": "text"
      },
      "source": [
        "# Build the Model"
      ]
    },
    {
      "cell_type": "code",
      "metadata": {
        "id": "4KzMDUT0i1QE",
        "colab_type": "code",
        "colab": {}
      },
      "source": [
        "model_1 = tf.keras.Sequential([\n",
        "    tf.keras.layers.Dense(64, input_shape=(784,), activation='relu', name='dense_1'),\n",
        "    tf.keras.layers.Dense(64, activation='relu', name='dense_2'),\n",
        "    tf.keras.layers.Dense(10, activation='softmax', name='predictions'),\n",
        "])"
      ],
      "execution_count": 0,
      "outputs": []
    },
    {
      "cell_type": "markdown",
      "metadata": {
        "id": "XGADNG3-Y7aa",
        "colab_type": "text"
      },
      "source": [
        "# Prep the Data"
      ]
    },
    {
      "cell_type": "code",
      "metadata": {
        "id": "d6a-kbM_i1b2",
        "colab_type": "code",
        "colab": {}
      },
      "source": [
        "# Load MNIST dataset as NumPy arrays\n",
        "dataset = {}\n",
        "num_validation = 10000\n",
        "(x_train, y_train), (x_test, y_test) = tf.keras.datasets.mnist.load_data()\n",
        "\n",
        "# Preprocess the data\n",
        "x_train = x_train.reshape(-1, 784).astype('float32') / 255\n",
        "x_test = x_test.reshape(-1, 784).astype('float32') / 255"
      ],
      "execution_count": 0,
      "outputs": []
    },
    {
      "cell_type": "markdown",
      "metadata": {
        "id": "sOlB-WqjZp1Y",
        "colab_type": "text"
      },
      "source": [
        "# Define a Custom Callback Function"
      ]
    },
    {
      "cell_type": "code",
      "metadata": {
        "id": "8LCmRXUgZqyV",
        "colab_type": "code",
        "colab": {}
      },
      "source": [
        "def frobenius_norm(m):\n",
        "    \"\"\"This function is to calculate the frobenius norm of the matrix of all\n",
        "    layer's weight.\n",
        "  \n",
        "    Args:\n",
        "        m: is a list of weights param for each layers.\n",
        "    \"\"\"\n",
        "    total_reduce_sum = 0\n",
        "    for i in range(len(m)):\n",
        "        total_reduce_sum = total_reduce_sum + tf.math.reduce_sum(m[i]**2)\n",
        "    norm = total_reduce_sum**0.5\n",
        "    return norm"
      ],
      "execution_count": 0,
      "outputs": []
    },
    {
      "cell_type": "code",
      "metadata": {
        "id": "udSvzKm4Z5Zr",
        "colab_type": "code",
        "colab": {}
      },
      "source": [
        "CG_frobenius_norm_of_weight = []\n",
        "CG_get_weight_norm = tf.keras.callbacks.LambdaCallback(\n",
        "    on_epoch_end=lambda batch, logs: CG_frobenius_norm_of_weight.append(\n",
        "        frobenius_norm(model_1.trainable_weights).numpy()))"
      ],
      "execution_count": 0,
      "outputs": []
    },
    {
      "cell_type": "markdown",
      "metadata": {
        "id": "qfhE1DfwZC1i",
        "colab_type": "text"
      },
      "source": [
        "# Train and Evaluate: Using CG as Optimizer\n",
        "\n",
        "Simply replace typical keras optimizers with the new tfa optimizer "
      ]
    },
    {
      "cell_type": "code",
      "metadata": {
        "id": "6-AMaOYEi1kK",
        "colab_type": "code",
        "outputId": "959b8065-3689-47ff-98f4-6a4eb250bd95",
        "colab": {
          "base_uri": "https://localhost:8080/",
          "height": 394
        }
      },
      "source": [
        "# Compile the model\n",
        "model_1.compile(\n",
        "    optimizer=tfa.optimizers.ConditionalGradient(\n",
        "        learning_rate=0.99949, lambda_=203),  # Utilize TFA optimizer\n",
        "    loss=tf.keras.losses.SparseCategoricalCrossentropy(),\n",
        "    metrics=['accuracy'])\n",
        "\n",
        "history_cg = model_1.fit(\n",
        "    x_train,\n",
        "    y_train,\n",
        "    batch_size=batch_size,\n",
        "    validation_data=(x_test, y_test),\n",
        "    epochs=epochs,\n",
        "    callbacks=[CG_get_weight_norm])"
      ],
      "execution_count": 0,
      "outputs": [
        {
          "output_type": "stream",
          "text": [
            "Train on 60000 samples, validate on 10000 samples\n",
            "Epoch 1/10\n",
            "60000/60000 [==============================] - 5s 82us/sample - loss: 0.3787 - accuracy: 0.8856 - val_loss: 0.2009 - val_accuracy: 0.9412\n",
            "Epoch 2/10\n",
            "60000/60000 [==============================] - 4s 68us/sample - loss: 0.1825 - accuracy: 0.9449 - val_loss: 0.1512 - val_accuracy: 0.9541\n",
            "Epoch 3/10\n",
            "60000/60000 [==============================] - 4s 69us/sample - loss: 0.1475 - accuracy: 0.9559 - val_loss: 0.1343 - val_accuracy: 0.9583\n",
            "Epoch 4/10\n",
            "60000/60000 [==============================] - 4s 72us/sample - loss: 0.1315 - accuracy: 0.9599 - val_loss: 0.1513 - val_accuracy: 0.9534\n",
            "Epoch 5/10\n",
            "60000/60000 [==============================] - 4s 68us/sample - loss: 0.1239 - accuracy: 0.9624 - val_loss: 0.1169 - val_accuracy: 0.9638\n",
            "Epoch 6/10\n",
            "60000/60000 [==============================] - 4s 68us/sample - loss: 0.1171 - accuracy: 0.9645 - val_loss: 0.1498 - val_accuracy: 0.9517\n",
            "Epoch 7/10\n",
            "60000/60000 [==============================] - 4s 68us/sample - loss: 0.1126 - accuracy: 0.9653 - val_loss: 0.1076 - val_accuracy: 0.9677\n",
            "Epoch 8/10\n",
            "60000/60000 [==============================] - 4s 68us/sample - loss: 0.1103 - accuracy: 0.9656 - val_loss: 0.0960 - val_accuracy: 0.9707\n",
            "Epoch 9/10\n",
            "60000/60000 [==============================] - 4s 68us/sample - loss: 0.1069 - accuracy: 0.9679 - val_loss: 0.1168 - val_accuracy: 0.9654\n",
            "Epoch 10/10\n",
            "60000/60000 [==============================] - 4s 69us/sample - loss: 0.1058 - accuracy: 0.9679 - val_loss: 0.1154 - val_accuracy: 0.9660\n"
          ],
          "name": "stdout"
        }
      ]
    },
    {
      "cell_type": "markdown",
      "metadata": {
        "id": "8OJp4So9bYYR",
        "colab_type": "text"
      },
      "source": [
        "# Train and Evaluate: Using SGD as Optimizer"
      ]
    },
    {
      "cell_type": "code",
      "metadata": {
        "id": "SuizUueqn449",
        "colab_type": "code",
        "colab": {}
      },
      "source": [
        "model_2 = tf.keras.Sequential([\n",
        "    tf.keras.layers.Dense(64, input_shape=(784,), activation='relu', name='dense_1'),\n",
        "    tf.keras.layers.Dense(64, activation='relu', name='dense_2'),\n",
        "    tf.keras.layers.Dense(10, activation='softmax', name='predictions'),\n",
        "])"
      ],
      "execution_count": 0,
      "outputs": []
    },
    {
      "cell_type": "code",
      "metadata": {
        "id": "V8QC3xCwbfNl",
        "colab_type": "code",
        "colab": {}
      },
      "source": [
        "SGD_frobenius_norm_of_weight = []\n",
        "SGD_get_weight_norm = tf.keras.callbacks.LambdaCallback(\n",
        "    on_epoch_end=lambda batch, logs: SGD_frobenius_norm_of_weight.append(\n",
        "        frobenius_norm(model_2.trainable_weights).numpy()))"
      ],
      "execution_count": 0,
      "outputs": []
    },
    {
      "cell_type": "code",
      "metadata": {
        "id": "9BNi4yXGcDlg",
        "colab_type": "code",
        "outputId": "f46e4f42-35da-4a75-873f-313c26e1b331",
        "colab": {
          "base_uri": "https://localhost:8080/",
          "height": 394
        }
      },
      "source": [
        "# Compile the model\n",
        "model_2.compile(\n",
        "    optimizer=tf.keras.optimizers.SGD(0.01),  # Utilize SGD optimizer\n",
        "    loss=tf.keras.losses.SparseCategoricalCrossentropy(),\n",
        "    metrics=['accuracy'])\n",
        "\n",
        "history_sgd = model_2.fit(\n",
        "    x_train,\n",
        "    y_train,\n",
        "    batch_size=batch_size,\n",
        "    validation_data=(x_test, y_test),\n",
        "    epochs=epochs,\n",
        "    callbacks=[SGD_get_weight_norm])"
      ],
      "execution_count": 0,
      "outputs": [
        {
          "output_type": "stream",
          "text": [
            "Train on 60000 samples, validate on 10000 samples\n",
            "Epoch 1/10\n",
            "60000/60000 [==============================] - 4s 65us/sample - loss: 0.9356 - accuracy: 0.7564 - val_loss: 0.4145 - val_accuracy: 0.8895\n",
            "Epoch 2/10\n",
            "60000/60000 [==============================] - 3s 58us/sample - loss: 0.3784 - accuracy: 0.8936 - val_loss: 0.3236 - val_accuracy: 0.9074\n",
            "Epoch 3/10\n",
            "60000/60000 [==============================] - 4s 58us/sample - loss: 0.3171 - accuracy: 0.9094 - val_loss: 0.2884 - val_accuracy: 0.9192\n",
            "Epoch 4/10\n",
            "60000/60000 [==============================] - 3s 58us/sample - loss: 0.2847 - accuracy: 0.9178 - val_loss: 0.2619 - val_accuracy: 0.9260\n",
            "Epoch 5/10\n",
            "60000/60000 [==============================] - 4s 58us/sample - loss: 0.2615 - accuracy: 0.9247 - val_loss: 0.2424 - val_accuracy: 0.9312\n",
            "Epoch 6/10\n",
            "60000/60000 [==============================] - 3s 58us/sample - loss: 0.2427 - accuracy: 0.9303 - val_loss: 0.2269 - val_accuracy: 0.9351\n",
            "Epoch 7/10\n",
            "60000/60000 [==============================] - 4s 59us/sample - loss: 0.2272 - accuracy: 0.9351 - val_loss: 0.2138 - val_accuracy: 0.9395\n",
            "Epoch 8/10\n",
            "60000/60000 [==============================] - 4s 59us/sample - loss: 0.2138 - accuracy: 0.9386 - val_loss: 0.2038 - val_accuracy: 0.9405\n",
            "Epoch 9/10\n",
            "60000/60000 [==============================] - 3s 58us/sample - loss: 0.2014 - accuracy: 0.9417 - val_loss: 0.1952 - val_accuracy: 0.9435\n",
            "Epoch 10/10\n",
            "60000/60000 [==============================] - 4s 59us/sample - loss: 0.1908 - accuracy: 0.9448 - val_loss: 0.1845 - val_accuracy: 0.9474\n"
          ],
          "name": "stdout"
        }
      ]
    },
    {
      "cell_type": "markdown",
      "metadata": {
        "id": "1Myw0FVcd_Z9",
        "colab_type": "text"
      },
      "source": [
        "# Frobenius Norm of Weights: CG vs SGD"
      ]
    },
    {
      "cell_type": "markdown",
      "metadata": {
        "id": "0tJYQBRt-ZUl",
        "colab_type": "text"
      },
      "source": [
        "The current implementation of CG optimizer is based on Frobenius Norm, with considering Frobenius Norm as regularizer in the target function. Therefore, we compare CG’s regularized effect with SGD optimizer, which has not imposed Frobenius Norm regularizer."
      ]
    },
    {
      "cell_type": "code",
      "metadata": {
        "id": "Ewf17MW1cJVI",
        "colab_type": "code",
        "outputId": "b445243a-5be8-4fad-a082-ba6d7bd82573",
        "colab": {
          "base_uri": "https://localhost:8080/",
          "height": 300
        }
      },
      "source": [
        "plt.plot(\n",
        "    CG_frobenius_norm_of_weight,\n",
        "    color='r',\n",
        "    label='CG_frobenius_norm_of_weights')\n",
        "plt.plot(\n",
        "    SGD_frobenius_norm_of_weight,\n",
        "    color='b',\n",
        "    label='SGD_frobenius_norm_of_weights')\n",
        "plt.xlabel('Epoch')\n",
        "plt.ylabel('Frobenius norm of weights')\n",
        "plt.legend(loc=1)"
      ],
      "execution_count": 0,
      "outputs": [
        {
          "output_type": "execute_result",
          "data": {
            "text/plain": [
              "<matplotlib.legend.Legend at 0x7f5d8db08780>"
            ]
          },
          "metadata": {
            "tags": []
          },
          "execution_count": 18
        },
        {
          "output_type": "display_data",
          "data": {
            "image/png": "[encoded data removed]",
            "text/plain": [
              "<Figure size 432x288 with 1 Axes>"
            ]
          },
          "metadata": {
            "tags": []
          }
        }
      ]
    },
    {
      "cell_type": "markdown",
      "metadata": {
        "id": "JGtutiXuoZyx",
        "colab_type": "text"
      },
      "source": [
        "# Train and Validation Accuracy: CG vs SGD\n"
      ]
    },
    {
      "cell_type": "code",
      "metadata": {
        "id": "s-SNIr10o2va",
        "colab_type": "code",
        "outputId": "bf493f94-9a53-4911-bbb5-8720cfbf6b55",
        "colab": {
          "base_uri": "https://localhost:8080/",
          "height": 300
        }
      },
      "source": [
        "plt.plot(history_cg.history['accuracy'], color='r', label='CG_train')\n",
        "plt.plot(history_cg.history['val_accuracy'], color='g', label='CG_test')\n",
        "plt.plot(history_sgd.history['accuracy'], color='pink', label='SGD_train')\n",
        "plt.plot(history_sgd.history['val_accuracy'], color='b', label='SGD_test')\n",
        "plt.xlabel('Epoch')\n",
        "plt.ylabel('Accuracy')\n",
        "plt.legend(loc=4)"
      ],
      "execution_count": 0,
      "outputs": [
        {
          "output_type": "execute_result",
          "data": {
            "text/plain": [
              "<matplotlib.legend.Legend at 0x7f5d8dbb86a0>"
            ]
          },
          "metadata": {
            "tags": []
          },
          "execution_count": 16
        },
        {
          "output_type": "display_data",
          "data": {
            "image/png": "[encoded data removed]",
            "text/plain": [
              "<Figure size 432x288 with 1 Axes>"
            ]
          },
          "metadata": {
            "tags": []
          }
        }
      ]
    }
  ]
}