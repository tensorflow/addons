{
  "nbformat": 4,
  "nbformat_minor": 0,
  "metadata": {
    "accelerator": "GPU",
    "colab": {
      "name": "layers_weightnormalization.ipynb",
      "provenance": [],
      "collapsed_sections": [],
      "toc_visible": true
    },
    "kernelspec": {
      "display_name": "Python 3",
      "language": "python",
      "name": "python3"
    },
    "language_info": {
      "codemirror_mode": {
        "name": "ipython",
        "version": 3
      },
      "file_extension": ".py",
      "mimetype": "text/x-python",
      "name": "python",
      "nbconvert_exporter": "python",
      "pygments_lexer": "ipython3",
      "version": "3.6.3"
    }
  },
  "cells": [
    {
      "cell_type": "markdown",
      "metadata": {
        "colab_type": "text",
        "id": "Tce3stUlHN0L"
      },
      "source": [
        "##### Copyright 2019 The TensorFlow Authors.\n",
        "\n"
      ]
    },
    {
      "cell_type": "code",
      "metadata": {
        "cellView": "form",
        "colab_type": "code",
        "id": "tuOe1ymfHZPu",
        "colab": {}
      },
      "source": [
        "#@title Licensed under the Apache License, Version 2.0\n",
        "# you may not use this file except in compliance with the License.\n",
        "# You may obtain a copy of the License at\n",
        "#\n",
        "# https://www.apache.org/licenses/LICENSE-2.0\n",
        "#\n",
        "# Unless required by applicable law or agreed to in writing, software\n",
        "# distributed under the License is distributed on an \"AS IS\" BASIS,\n",
        "# WITHOUT WARRANTIES OR CONDITIONS OF ANY KIND, either express or implied.\n",
        "# See the License for the specific language governing permissions and\n",
        "# limitations under the License."
      ],
      "execution_count": 0,
      "outputs": []
    },
    {
      "cell_type": "markdown",
      "metadata": {
        "colab_type": "text",
        "id": "MfBg1C5NB3X0"
      },
      "source": [
        "# TensorFlow Addons Layers: WeightNormalization\n",
        "\n",
        "<table class=\"tfo-notebook-buttons\" align=\"left\">\n",
        "  <td>\n",
        "    <a target=\"_blank\" href=\"https://www.tensorflow.org/addons/tutorials/layers_weightnormalizations\"><img src=\"https://www.tensorflow.org/images/tf_logo_32px.png\" />View on TensorFlow.org</a>\n",
        "  </td>\n",
        "  <td>\n",
        "    <a target=\"_blank\" href=\"https://colab.research.google.com/github/tensorflow/addons/blob/master/docs/tutorials/layers_weightnormalization.ipynb\"><img src=\"https://www.tensorflow.org/images/colab_logo_32px.png\" />Run in Google Colab</a>\n",
        "  </td>\n",
        "  <td>\n",
        "    <a target=\"_blank\" href=\"https://github.com/tensorflow/addons/blob/master/docs/tutorials/layers_weightnormalizations.ipynb\"><img src=\"https://www.tensorflow.org/images/GitHub-Mark-32px.png\" />View source on GitHub</a>\n",
        "  </td>\n",
        "</table>"
      ]
    },
    {
      "cell_type": "markdown",
      "metadata": {
        "colab_type": "text",
        "id": "xHxb-dlhMIzW"
      },
      "source": [
        "# Overview\n",
        "\n",
        "This notebook will demonstrate how to use the Weight Normalization layer and how it can improve convergence.\n"
      ]
    },
    {
      "cell_type": "markdown",
      "metadata": {
        "colab_type": "text",
        "id": "KR01t9v_fxbT"
      },
      "source": [
        "# WeightNormalization\n",
        "\n",
        "A Simple Reparameterization to Accelerate Training of Deep Neural Networks:\n",
        "\n",
        "Tim Salimans, Diederik P. Kingma (2016)\n",
        "\n",
        "> By reparameterizing the weights in this way we improve the conditioning of the optimization problem and we speed up convergence of stochastic gradient descent. Our reparameterization is inspired by batch normalization but does not introduce any dependencies between the examples in a minibatch. This means that our method can also be applied successfully to recurrent models such as LSTMs and to noise-sensitive applications such as deep reinforcement learning or generative models, for which batch normalization is less well suited. Although our method is much simpler, it still provides much of the speed-up of full batch normalization. In addition, the computational overhead of our method is lower, permitting more optimization steps to be taken in the same amount of time.\n",
        "\n",
        "> https://arxiv.org/abs/1602.07868 \n",
        "\n",
        "<img src=\"https://raw.githubusercontent.com/seanpmorgan/tf-weightnorm/master/static/wrapped-graph.png\" width=\"80%\"><br><br>\n"
      ]
    },
    {
      "cell_type": "markdown",
      "metadata": {
        "colab_type": "text",
        "id": "MUXex9ctTuDB"
      },
      "source": [
        "## Setup"
      ]
    },
    {
      "cell_type": "code",
      "metadata": {
        "colab_type": "code",
        "id": "IqR2PQG4ZaZ0",
        "colab": {}
      },
      "source": [
        "from __future__ import absolute_import, division, print_function, unicode_literals"
      ],
      "execution_count": 0,
      "outputs": []
    },
    {
      "cell_type": "code",
      "metadata": {
        "id": "OywLbs7EXiE_",
        "colab_type": "code",
        "outputId": "10b3d5b7-073d-438f-cfb4-31226e4bd9fc",
        "colab": {
          "base_uri": "https://localhost:8080/",
          "height": 34
        }
      },
      "source": [
        "try:\n",
        "  %tensorflow_version 2.x\n",
        "except:\n",
        "  pass\n",
        "\n",
        "import tensorflow as tf"
      ],
      "execution_count": 0,
      "outputs": [
        {
          "output_type": "stream",
          "text": [
            "TensorFlow 2.x selected.\n"
          ],
          "name": "stdout"
        }
      ]
    },
    {
      "cell_type": "code",
      "metadata": {
        "id": "Qrt0wi9AXiFB",
        "colab_type": "code",
        "outputId": "2af89079-b42c-4d08-e38e-bfd56a40bcbd",
        "colab": {
          "base_uri": "https://localhost:8080/",
          "height": 411
        }
      },
      "source": [
        "!pip install  --no-deps tensorflow-addons~=0.6"
      ],
      "execution_count": 0,
      "outputs": [
        {
          "output_type": "stream",
          "text": [
            "Requirement already satisfied: tensorflow-addons~=0.6 in /usr/local/lib/python3.6/dist-packages (0.6.0)\n",
            "Requirement already satisfied: six>=1.10.0 in /tensorflow-2.0.0-rc2/python3.6 (from tensorflow-addons~=0.6) (1.12.0)\n",
            "Requirement already satisfied: tensorflow-gpu==2.0.0 in /usr/local/lib/python3.6/dist-packages (from tensorflow-addons~=0.6) (2.0.0)\n",
            "Requirement already satisfied: absl-py>=0.7.0 in /tensorflow-2.0.0-rc2/python3.6 (from tensorflow-gpu==2.0.0->tensorflow-addons~=0.6) (0.8.0)\n",
            "Requirement already satisfied: opt-einsum>=2.3.2 in /tensorflow-2.0.0-rc2/python3.6 (from tensorflow-gpu==2.0.0->tensorflow-addons~=0.6) (3.1.0)\n",
            "Requirement already satisfied: keras-applications>=1.0.8 in /tensorflow-2.0.0-rc2/python3.6 (from tensorflow-gpu==2.0.0->tensorflow-addons~=0.6) (1.0.8)\n",
            "Requirement already satisfied: tensorflow-estimator<2.1.0,>=2.0.0 in /usr/local/lib/python3.6/dist-packages (from tensorflow-gpu==2.0.0->tensorflow-addons~=0.6) (2.0.0)\n",
            "Requirement already satisfied: wheel>=0.26 in /tensorflow-2.0.0-rc2/python3.6 (from tensorflow-gpu==2.0.0->tensorflow-addons~=0.6) (0.33.6)\n",
            "Requirement already satisfied: tensorboard<2.1.0,>=2.0.0 in /tensorflow-2.0.0-rc2/python3.6 (from tensorflow-gpu==2.0.0->tensorflow-addons~=0.6) (2.0.0)\n",
            "Requirement already satisfied: gast==0.2.2 in /tensorflow-2.0.0-rc2/python3.6 (from tensorflow-gpu==2.0.0->tensorflow-addons~=0.6) (0.2.2)\n",
            "Requirement already satisfied: google-pasta>=0.1.6 in /tensorflow-2.0.0-rc2/python3.6 (from tensorflow-gpu==2.0.0->tensorflow-addons~=0.6) (0.1.7)\n",
            "Requirement already satisfied: termcolor>=1.1.0 in /tensorflow-2.0.0-rc2/python3.6 (from tensorflow-gpu==2.0.0->tensorflow-addons~=0.6) (1.1.0)\n",
            "Requirement already satisfied: protobuf>=3.6.1 in /tensorflow-2.0.0-rc2/python3.6 (from tensorflow-gpu==2.0.0->tensorflow-addons~=0.6) (3.10.0)\n",
            "Requirement already satisfied: astor>=0.6.0 in /tensorflow-2.0.0-rc2/python3.6 (from tensorflow-gpu==2.0.0->tensorflow-addons~=0.6) (0.8.0)\n",
            "Requirement already satisfied: grpcio>=1.8.6 in /tensorflow-2.0.0-rc2/python3.6 (from tensorflow-gpu==2.0.0->tensorflow-addons~=0.6) (1.24.1)\n",
            "Requirement already satisfied: numpy<2.0,>=1.16.0 in /tensorflow-2.0.0-rc2/python3.6 (from tensorflow-gpu==2.0.0->tensorflow-addons~=0.6) (1.17.2)\n",
            "Requirement already satisfied: keras-preprocessing>=1.0.5 in /tensorflow-2.0.0-rc2/python3.6 (from tensorflow-gpu==2.0.0->tensorflow-addons~=0.6) (1.1.0)\n",
            "Requirement already satisfied: wrapt>=1.11.1 in /tensorflow-2.0.0-rc2/python3.6 (from tensorflow-gpu==2.0.0->tensorflow-addons~=0.6) (1.11.2)\n",
            "Requirement already satisfied: h5py in /tensorflow-2.0.0-rc2/python3.6 (from keras-applications>=1.0.8->tensorflow-gpu==2.0.0->tensorflow-addons~=0.6) (2.10.0)\n",
            "Requirement already satisfied: setuptools>=41.0.0 in /tensorflow-2.0.0-rc2/python3.6 (from tensorboard<2.1.0,>=2.0.0->tensorflow-gpu==2.0.0->tensorflow-addons~=0.6) (41.4.0)\n",
            "Requirement already satisfied: werkzeug>=0.11.15 in /tensorflow-2.0.0-rc2/python3.6 (from tensorboard<2.1.0,>=2.0.0->tensorflow-gpu==2.0.0->tensorflow-addons~=0.6) (0.16.0)\n",
            "Requirement already satisfied: markdown>=2.6.8 in /tensorflow-2.0.0-rc2/python3.6 (from tensorboard<2.1.0,>=2.0.0->tensorflow-gpu==2.0.0->tensorflow-addons~=0.6) (3.1.1)\n"
          ],
          "name": "stdout"
        }
      ]
    },
    {
      "cell_type": "code",
      "metadata": {
        "id": "KQMhhq1qXiFF",
        "colab_type": "code",
        "colab": {}
      },
      "source": [
        "import tensorflow_addons as tfa\n",
        "import numpy as np\n",
        "from matplotlib import pyplot as plt"
      ],
      "execution_count": 0,
      "outputs": []
    },
    {
      "cell_type": "code",
      "metadata": {
        "colab_type": "code",
        "id": "ULWHqMAnTVZD",
        "colab": {}
      },
      "source": [
        "# Hyper Parameters\n",
        "batch_size = 32\n",
        "epochs = 10\n",
        "num_classes=10"
      ],
      "execution_count": 0,
      "outputs": []
    },
    {
      "cell_type": "markdown",
      "metadata": {
        "colab_type": "text",
        "id": "fhM0ieDpSnKh"
      },
      "source": [
        "## Build Models"
      ]
    },
    {
      "cell_type": "code",
      "metadata": {
        "colab_type": "code",
        "id": "7XZXnBYgRPSk",
        "colab": {}
      },
      "source": [
        "# Standard ConvNet\n",
        "reg_model = tf.keras.Sequential([\n",
        "    tf.keras.layers.Conv2D(6, 5, activation='relu'),\n",
        "    tf.keras.layers.MaxPooling2D(2, 2),\n",
        "    tf.keras.layers.Conv2D(16, 5, activation='relu'),\n",
        "    tf.keras.layers.MaxPooling2D(2, 2),\n",
        "    tf.keras.layers.Flatten(),\n",
        "    tf.keras.layers.Dense(120, activation='relu'),\n",
        "    tf.keras.layers.Dense(84, activation='relu'),\n",
        "    tf.keras.layers.Dense(num_classes, activation='softmax'),\n",
        "])"
      ],
      "execution_count": 0,
      "outputs": []
    },
    {
      "cell_type": "code",
      "metadata": {
        "colab_type": "code",
        "id": "UZd6V90eR4Gm",
        "colab": {}
      },
      "source": [
        "# WeightNorm ConvNet\n",
        "wn_model = tf.keras.Sequential([\n",
        "    tfa.layers.WeightNormalization(tf.keras.layers.Conv2D(6, 5, activation='relu')),\n",
        "    tf.keras.layers.MaxPooling2D(2, 2),\n",
        "    tfa.layers.WeightNormalization(tf.keras.layers.Conv2D(16, 5, activation='relu')),\n",
        "    tf.keras.layers.MaxPooling2D(2, 2),\n",
        "    tf.keras.layers.Flatten(),\n",
        "    tfa.layers.WeightNormalization(tf.keras.layers.Dense(120, activation='relu')),\n",
        "    tfa.layers.WeightNormalization(tf.keras.layers.Dense(84, activation='relu')),\n",
        "    tfa.layers.WeightNormalization(tf.keras.layers.Dense(num_classes, activation='softmax')),\n",
        "])"
      ],
      "execution_count": 0,
      "outputs": []
    },
    {
      "cell_type": "markdown",
      "metadata": {
        "colab_type": "text",
        "id": "AA5dti8AS2Y7"
      },
      "source": [
        "## Load Data"
      ]
    },
    {
      "cell_type": "code",
      "metadata": {
        "colab_type": "code",
        "id": "L8Isjc7W8MEn",
        "outputId": "7d221da3-1b9b-4d1c-cc91-6064140b0a41",
        "colab": {
          "base_uri": "https://localhost:8080/",
          "height": 51
        }
      },
      "source": [
        "(x_train, y_train), (x_test, y_test) = tf.keras.datasets.cifar10.load_data()\n",
        "\n",
        "# Convert class vectors to binary class matrices.\n",
        "y_train = tf.keras.utils.to_categorical(y_train, num_classes)\n",
        "y_test = tf.keras.utils.to_categorical(y_test, num_classes)\n",
        "\n",
        "x_train = x_train.astype('float32')\n",
        "x_test = x_test.astype('float32')\n",
        "x_train /= 255\n",
        "x_test /= 255"
      ],
      "execution_count": 0,
      "outputs": [
        {
          "output_type": "stream",
          "text": [
            "Downloading data from https://www.cs.toronto.edu/~kriz/cifar-10-python.tar.gz\n",
            "170500096/170498071 [==============================] - 6s 0us/step\n"
          ],
          "name": "stdout"
        }
      ]
    },
    {
      "cell_type": "markdown",
      "metadata": {
        "colab_type": "text",
        "id": "cH1CG9E7S34C"
      },
      "source": [
        "## Train Models"
      ]
    },
    {
      "cell_type": "code",
      "metadata": {
        "colab_type": "code",
        "id": "EvNKxfaI7vSm",
        "outputId": "0277e5fc-7453-4945-ba71-ec276ec9f65f",
        "colab": {
          "base_uri": "https://localhost:8080/",
          "height": 374
        }
      },
      "source": [
        "reg_model.compile(optimizer='adam', \n",
        "                  loss='categorical_crossentropy',\n",
        "                  metrics=['accuracy'])\n",
        "\n",
        "reg_history = reg_model.fit(x_train, y_train,\n",
        "                            batch_size=batch_size,\n",
        "                            epochs=epochs,\n",
        "                            validation_data=(x_test, y_test),\n",
        "                            shuffle=True)"
      ],
      "execution_count": 0,
      "outputs": [
        {
          "output_type": "stream",
          "text": [
            "Train on 50000 samples, validate on 10000 samples\n",
            "Epoch 1/10\n",
            "50000/50000 [==============================] - 12s 248us/sample - loss: 1.6517 - accuracy: 0.3930 - val_loss: 1.4770 - val_accuracy: 0.4683\n",
            "Epoch 2/10\n",
            "50000/50000 [==============================] - 7s 149us/sample - loss: 1.3884 - accuracy: 0.4997 - val_loss: 1.3539 - val_accuracy: 0.5203\n",
            "Epoch 3/10\n",
            "50000/50000 [==============================] - 7s 146us/sample - loss: 1.2771 - accuracy: 0.5436 - val_loss: 1.2423 - val_accuracy: 0.5561\n",
            "Epoch 4/10\n",
            "50000/50000 [==============================] - 7s 149us/sample - loss: 1.1992 - accuracy: 0.5727 - val_loss: 1.2398 - val_accuracy: 0.5538\n",
            "Epoch 5/10\n",
            "50000/50000 [==============================] - 8s 155us/sample - loss: 1.1361 - accuracy: 0.5969 - val_loss: 1.1646 - val_accuracy: 0.5823\n",
            "Epoch 6/10\n",
            "50000/50000 [==============================] - 7s 148us/sample - loss: 1.0858 - accuracy: 0.6136 - val_loss: 1.2045 - val_accuracy: 0.5771\n",
            "Epoch 7/10\n",
            "50000/50000 [==============================] - 7s 148us/sample - loss: 1.0368 - accuracy: 0.6341 - val_loss: 1.1795 - val_accuracy: 0.5766\n",
            "Epoch 8/10\n",
            "50000/50000 [==============================] - 7s 148us/sample - loss: 1.0020 - accuracy: 0.6468 - val_loss: 1.1236 - val_accuracy: 0.6067\n",
            "Epoch 9/10\n",
            "50000/50000 [==============================] - 7s 149us/sample - loss: 0.9654 - accuracy: 0.6580 - val_loss: 1.1380 - val_accuracy: 0.6052\n",
            "Epoch 10/10\n",
            "50000/50000 [==============================] - 7s 147us/sample - loss: 0.9270 - accuracy: 0.6722 - val_loss: 1.1409 - val_accuracy: 0.6051\n"
          ],
          "name": "stdout"
        }
      ]
    },
    {
      "cell_type": "code",
      "metadata": {
        "colab_type": "code",
        "id": "esmMh-5g7wmp",
        "outputId": "efa2f6bc-f29d-43e0-82fc-27b2c4651937",
        "colab": {
          "base_uri": "https://localhost:8080/",
          "height": 445
        }
      },
      "source": [
        "wn_model.compile(optimizer='adam', \n",
        "                 loss='categorical_crossentropy',\n",
        "                 metrics=['accuracy'])\n",
        "\n",
        "wn_history = wn_model.fit(x_train, y_train,\n",
        "                          batch_size=batch_size,\n",
        "                          epochs=epochs,\n",
        "                          validation_data=(x_test, y_test),\n",
        "                          shuffle=True)"
      ],
      "execution_count": 0,
      "outputs": [
        {
          "output_type": "stream",
          "text": [
            "WARNING:tensorflow:From /usr/local/lib/python3.6/dist-packages/tensorflow_addons/layers/wrappers.py:84: Layer.add_variable (from tensorflow.python.keras.engine.base_layer) is deprecated and will be removed in a future version.\n",
            "Instructions for updating:\n",
            "Please use `layer.add_weight` method instead.\n",
            "Train on 50000 samples, validate on 10000 samples\n",
            "Epoch 1/10\n",
            "50000/50000 [==============================] - 16s 312us/sample - loss: 1.5783 - accuracy: 0.4244 - val_loss: 1.3843 - val_accuracy: 0.4899\n",
            "Epoch 2/10\n",
            "50000/50000 [==============================] - 13s 256us/sample - loss: 1.3045 - accuracy: 0.5321 - val_loss: 1.2529 - val_accuracy: 0.5511\n",
            "Epoch 3/10\n",
            "50000/50000 [==============================] - 13s 255us/sample - loss: 1.1874 - accuracy: 0.5783 - val_loss: 1.2004 - val_accuracy: 0.5736\n",
            "Epoch 4/10\n",
            "50000/50000 [==============================] - 13s 252us/sample - loss: 1.1073 - accuracy: 0.6072 - val_loss: 1.1745 - val_accuracy: 0.5780\n",
            "Epoch 5/10\n",
            "50000/50000 [==============================] - 13s 251us/sample - loss: 1.0462 - accuracy: 0.6307 - val_loss: 1.1277 - val_accuracy: 0.6053\n",
            "Epoch 6/10\n",
            "50000/50000 [==============================] - 12s 247us/sample - loss: 0.9931 - accuracy: 0.6483 - val_loss: 1.1170 - val_accuracy: 0.6051\n",
            "Epoch 7/10\n",
            "50000/50000 [==============================] - 13s 250us/sample - loss: 0.9414 - accuracy: 0.6669 - val_loss: 1.1044 - val_accuracy: 0.6126\n",
            "Epoch 8/10\n",
            "50000/50000 [==============================] - 12s 250us/sample - loss: 0.8946 - accuracy: 0.6828 - val_loss: 1.1253 - val_accuracy: 0.6049\n",
            "Epoch 9/10\n",
            "50000/50000 [==============================] - 13s 252us/sample - loss: 0.8579 - accuracy: 0.6960 - val_loss: 1.1180 - val_accuracy: 0.6191\n",
            "Epoch 10/10\n",
            "50000/50000 [==============================] - 12s 249us/sample - loss: 0.8160 - accuracy: 0.7120 - val_loss: 1.1865 - val_accuracy: 0.6028\n"
          ],
          "name": "stdout"
        }
      ]
    },
    {
      "cell_type": "code",
      "metadata": {
        "colab_type": "code",
        "id": "yujf2YRbwX55",
        "outputId": "12fcc197-e749-4a1f-abbd-aa7b207ecb3d",
        "colab": {
          "base_uri": "https://localhost:8080/",
          "height": 281
        }
      },
      "source": [
        "reg_accuracy = reg_history.history['accuracy']\n",
        "wn_accuracy = wn_history.history['accuracy']\n",
        "\n",
        "plt.plot(np.linspace(0, epochs,  epochs), reg_accuracy,\n",
        "             color='red', label='Regular ConvNet')\n",
        "\n",
        "plt.plot(np.linspace(0, epochs, epochs), wn_accuracy,\n",
        "         color='blue', label='WeightNorm ConvNet')\n",
        "\n",
        "plt.title('WeightNorm Accuracy Comparison')\n",
        "plt.legend()\n",
        "plt.grid(True)\n",
        "plt.show()"
      ],
      "execution_count": 0,
      "outputs": [
        {
          "output_type": "display_data",
          "data": {
            "image/png": "[encoded data removed]",
            "text/plain": [
              "<Figure size 432x288 with 1 Axes>"
            ]
          },
          "metadata": {
            "tags": []
          }
        }
      ]
    }
  ]
}