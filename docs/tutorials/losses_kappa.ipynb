{
  "cells": [
    {
      "cell_type": "markdown",
      "metadata": {
        "id": "Tce3stUlHN0L"
      },
      "source": [
        "##### Copyright 2020 The TensorFlow Authors."
      ]
    },
    {
      "cell_type": "code",
      "execution_count": null,
      "metadata": {
        "cellView": "form",
        "id": "tuOe1ymfHZPu"
      },
      "outputs": [],
      "source": [
        "#@title Licensed under the Apache License, Version 2.0 (the \"License\");\n",
        "# you may not use this file except in compliance with the License.\n",
        "# You may obtain a copy of the License at\n",
        "#\n",
        "# https://www.apache.org/licenses/LICENSE-2.0\n",
        "#\n",
        "# Unless required by applicable law or agreed to in writing, software\n",
        "# distributed under the License is distributed on an \"AS IS\" BASIS,\n",
        "# WITHOUT WARRANTIES OR CONDITIONS OF ANY KIND, either express or implied.\n",
        "# See the License for the specific language governing permissions and\n",
        "# limitations under the License."
      ]
    },
    {
      "cell_type": "markdown",
      "metadata": {
        "id": "qFdPvlXBOdUN"
      },
      "source": [
        "# TensorFlow Addons Losses: WeightedKappaLoss"
      ]
    },
    {
      "cell_type": "markdown",
      "metadata": {
        "id": "MfBg1C5NB3X0"
      },
      "source": [
        "<table class=\"tfa-notebook-buttons\" align=\"left\">\n",
        "  <td>\n",
        "    <a target=\"_blank\" href=\"https://www.tensorflow.org/addons/api_docs/python/tfa/losses/WeightedKappaLoss\"><img src=\"https://www.tensorflow.org/images/tf_logo_32px.png\" />View on TensorFlow.org</a>\n",
        "  </td>\n",
        "  <td>\n",
        "    <a target=\"_blank\" href=\"https://colab.research.google.com/github/tensorflow/addons/blob/master/docs/tutorials/_template.ipynb\"><img src=\"https://www.tensorflow.org/images/colab_logo_32px.png\" />Run in Google Colab</a>\n",
        "  </td>\n",
        "  <td>\n",
        "    <a target=\"_blank\" href=\"https://github.com/tensorflow/addons/blob/v0.11.2/tensorflow_addons/losses/kappa_loss.py#L27-L141\"><img src=\"https://www.tensorflow.org/images/GitHub-Mark-32px.png\" />View source on GitHub</a>\n",
        "  </td>\n",
        "      <td>\n",
        "    <a href=\"https://storage.googleapis.com/tensorflow_docs/addons/docs/tutorials/_template.ipynb\"><img src=\"https://www.tensorflow.org/images/download_logo_32px.png\" />Download notebook</a>\n",
        "  </td>\n",
        "</table>"
      ]
    },
    {
      "cell_type": "markdown",
      "metadata": {
        "id": "xHxb-dlhMIzW"
      },
      "source": [
        "## Overview\n",
        "\n",
        "This notebook demonstrates how to use the WeightedKappaLoss metric in Tensorflow Addons.\n",
        "\n",
        "\n",
        "References:\n",
        "https://www.sciencedirect.com/science/article/abs/pii/S0167865517301666\n",
        "\n",
        "External resources:\n",
        "* https://www.kaggle.com/aroraaman/quadratic-kappa-metric-explained-in-5-simple-steps This article does a great job explaining the Cohen Quadratic Weighted Kappa Loss.\n",
        "* https://en.wikipedia.org/wiki/Cohen%27s_kappa Wikipedia article on Cohen's Kappa.\n",
        "\n",
        "### **Kappa Loss**\n",
        "The kappa loss is used to judge the inter-relatibility between the observations of the predicted and actual value. It's forte lies in the fact that it takes random chance into account and is thus a robust measure. This notebook explores the **Quadratic Weighted Cohen's Kappa** Loss metric.\n",
        "\n",
        "\n",
        "As described in the paper, this metric is recommended on multiclass ordinal dataset. The loss metric is given by :\n",
        "\n",
        "\n",
        "![fig1](https://study.com/cimages/multimages/16/kappa-formula.jpg)\n",
        "\n",
        "\n",
        "Where Pobserved is the observed proportion of agreement and Pexpected is the probability of agreement by random chance."
      ]
    },
    {
      "cell_type": "markdown",
      "metadata": {
        "id": "MUXex9ctTuDB"
      },
      "source": [
        "## Setup"
      ]
    },
    {
      "cell_type": "code",
      "execution_count": null,
      "metadata": {
        "id": "rEk-ibQkDNtF"
      },
      "outputs": [],
      "source": [
        "!pip install -U tensorflow-addons"
      ]
    },
    {
      "cell_type": "code",
      "execution_count": null,
      "metadata": {
        "id": "IqR2PQG4ZaZ0"
      },
      "outputs": [],
      "source": [
        "import tensorflow as tf\n",
        "import tensorflow_addons as tfa\n",
        "import matplotlib.pyplot as plt\n",
        "import tensorflow_datasets as tfds\n",
        "import seaborn as sns\n",
        "import pandas as pd"
      ]
    },
    {
      "cell_type": "code",
      "execution_count": null,
      "metadata": {
        "id": "bcCrw2jcWEsb"
      },
      "outputs": [],
      "source": [
        "def prepare_dataset(img, labels, num_classses):\n",
        "  img = tf.cast(img, tf.float32) / 255.\n",
        "  img = tf.expand_dims(img, -1)\n",
        "  labels = tf.keras.utils.to_categorical(labels, num_classes=num_classes)\n",
        "  \n",
        "  return img, labels\n",
        "  \n",
        "\n",
        "(x_train, y_train), (x_test, y_test) = tf.keras.datasets.mnist.load_data()\n",
        "\n",
        "#Get num classes\n",
        "num_classes = len(np.unique(y_train))\n",
        "\n",
        "x_train, y_train = prepare_dataset(x_train, y_train, num_classes)\n",
        "x_test, y_test = prepare_dataset(x_test, y_test, num_classes)"
      ]
    },
    {
      "cell_type": "code",
      "execution_count": null,
      "metadata": {
        "id": "KtylpxOmceaC"
      },
      "outputs": [],
      "source": [
        "# Build the model\n",
        "model = tf.keras.models.Sequential([\n",
        "  tf.keras.layers.Conv2D(input_shape = (28, 28, 1), filters = 32, kernel_size = 2, activation = 'relu'),\n",
        "  tf.keras.layers.MaxPool2D(pool_size = 2),\n",
        "  tf.keras.layers.Dropout(0.3),\n",
        "  tf.keras.layers.Conv2D(filters = 32, kernel_size = 2, activation='relu'),\n",
        "  tf.keras.layers.MaxPool2D(pool_size = 2),\n",
        "  tf.keras.layers.Flatten(),\n",
        "  tf.keras.layers.Dense(10, activation='softmax')\n",
        "])"
      ]
    },
    {
      "cell_type": "markdown",
      "metadata": {
        "id": "uabQmjMtRtzs"
      },
      "source": [
        "Compile the model for training:"
      ]
    },
    {
      "cell_type": "code",
      "execution_count": null,
      "metadata": {
        "id": "U82B_tH2d294"
      },
      "outputs": [],
      "source": [
        "model.compile(optimizer = tf.keras.optimizers.Adam(learning_rate=1e-6),\n",
        "              loss=tfa.losses.WeightedKappaLoss(num_classes = num_classes),\n",
        "              metrics = [tf.keras.metrics.CategoricalAccuracy(), \n",
        "                         tfa.metrics.CohenKappa(num_classes = num_classes)]\n",
        ")"
      ]
    },
    {
      "cell_type": "code",
      "execution_count": null,
      "metadata": {
        "id": "iwSsS2zSl_tR"
      },
      "outputs": [],
      "source": [
        "hist = model.fit(x_train, y_train, \n",
        "          validation_data = (x_test, y_test),\n",
        "          batch_size = 32,\n",
        "          shuffle = True,\n",
        "          epochs = 5)"
      ]
    },
    {
      "cell_type": "code",
      "execution_count": null,
      "metadata": {
        "id": "5g8B3SzP6tMu"
      },
      "outputs": [],
      "source": [
        "### Evaluate"
      ]
    },
    {
      "cell_type": "code",
      "execution_count": null,
      "metadata": {
        "id": "9ghTrID2DNmC"
      },
      "outputs": [],
      "source": [
        "y_pred = model.predict(x_test)"
      ]
    },
    {
      "cell_type": "code",
      "execution_count": null,
      "metadata": {
        "id": "0YMFLMlzDZPe"
      },
      "outputs": [],
      "source": [
        "def plot_confusionmat(y_pred, y_true, num_classes):\n",
        "\n",
        "  y_pred = tf.argmax(y_pred, axis = 1)\n",
        "  y_true = tf.argmax(y_test, axis = 1)\n",
        "\n",
        "  confusion_matrix = tf.math.confusion_matrix(y_true, y_pred, num_classes)\n",
        "  df = pd.DataFrame(confusion_matrix.numpy())\n",
        "  plt.figure(figsize=(15, 10))\n",
        "  sns.set(font_scale=1.4)\n",
        "  ax = sns.heatmap(df, annot=True, annot_kws={\"size\": 16}, cmap=\"YlGnBu\", fmt='g')\n",
        "  ax.set(title = \"Confusion Matrix\",\n",
        "         xlabel = \"Predicted\",\n",
        "         ylabel = \"True\")\n",
        "  plt.show()\n",
        "\n",
        "  return confusion_matrix\n",
        "  \n"
      ]
    }
  ],
  "metadata": {
    "colab": {
      "collapsed_sections": [],
      "name": "losses_kappa.ipynb",
      "toc_visible": true
    },
    "kernelspec": {
      "display_name": "Python 3",
      "name": "python3"
    }
  },
  "nbformat": 4,
  "nbformat_minor": 0
}
