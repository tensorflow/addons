{
 "cells": [
  {
   "cell_type": "code",
   "execution_count": 1,
   "id": "impossible-knight",
   "metadata": {},
   "outputs": [],
   "source": [
    "from tensorflow_addons.layers.visual_attention import PixelAttention2D, ChannelAttention2D\n",
    "from tensorflow.keras.models import Model\n",
    "from tensorflow.keras.layers import Input, Conv2D, GlobalAveragePooling2D\n",
    "import tensorflow as tf"
   ]
  },
  {
   "cell_type": "code",
   "execution_count": 2,
   "id": "colonial-policy",
   "metadata": {},
   "outputs": [],
   "source": [
    "physical_devices = tf.config.list_physical_devices('GPU')\n",
    "tf.config.experimental.set_memory_growth(physical_devices[0], True)"
   ]
  },
  {
   "cell_type": "code",
   "execution_count": 8,
   "id": "invisible-concern",
   "metadata": {},
   "outputs": [],
   "source": [
    "def pixel_attention_test():\n",
    "    inp = Input(shape=[None,None,1])\n",
    "    conv1 = Conv2D(16,3,padding=\"same\")(inp)\n",
    "    pa = PixelAttention2D(16)(conv1)\n",
    "    model = Model(inputs=inp,outputs=pa)\n",
    "    return model\n",
    "\n",
    "def channel_attention_test():\n",
    "    inp = Input(shape=[None,None,1])\n",
    "    conv1 = Conv2D(16,3,padding=\"same\")(inp)\n",
    "    ca = ChannelAttention2D(16)(conv1)\n",
    "    model = Model(inputs=inp,outputs=ca)\n",
    "    return model"
   ]
  },
  {
   "cell_type": "code",
   "execution_count": 9,
   "id": "blessed-consequence",
   "metadata": {},
   "outputs": [],
   "source": [
    "#Test Image\n",
    "def tests():\n",
    "    image = tf.constant([[  0,   0,   0,   0,   0,   0,   4,   0],\n",
    "                      [  0,   0,  31, 147, 179,  82,   2,   0],\n",
    "                      [  1,   0,  48, 174, 111, 206,  58,   0],\n",
    "                      [  1,   0,   0,   0,   0, 179,  85,   0],\n",
    "                      [  1,  58, 128, 174, 186, 234,  64,   0],\n",
    "                      [  5, 192, 232, 206, 164, 112, 151,   2],\n",
    "                      [  3,  30,  61,  30,   0,   0,  11,   1],\n",
    "                      [  0,   0,   0,   0,   0,   0,   0,   0]])\n",
    "    #Batch and Channel`\n",
    "    image = tf.expand_dims(image,-1)\n",
    "    image = tf.expand_dims(image,0)\n",
    "    print(\"input shape = \",image.shape)\n",
    "    model_pa = pixel_attention_test()\n",
    "    output = model_pa.predict(image)\n",
    "    print(\"output shape pixel attention = \",output.shape)\n",
    "    del model_pa\n",
    "    model_ca = channel_attention_test()\n",
    "    output = model_ca.predict(image)\n",
    "    print(\"output shape channel attention = \",output.shape)\n",
    "    del model_ca    "
   ]
  },
  {
   "cell_type": "code",
   "execution_count": 10,
   "id": "patent-divorce",
   "metadata": {},
   "outputs": [
    {
     "name": "stdout",
     "output_type": "stream",
     "text": [
      "input shape =  (1, 8, 8, 1)\n",
      "output shape pixel attention =  (1, 8, 8, 16)\n",
      "output shape channel attention =  (1, 8, 8, 16)\n"
     ]
    }
   ],
   "source": [
    "tests()"
   ]
  },
  {
   "cell_type": "code",
   "execution_count": null,
   "id": "international-vampire",
   "metadata": {},
   "outputs": [],
   "source": []
  }
 ],
 "metadata": {
  "kernelspec": {
   "display_name": "Python 3",
   "language": "python",
   "name": "python3"
  },
  "language_info": {
   "codemirror_mode": {
    "name": "ipython",
    "version": 3
   },
   "file_extension": ".py",
   "mimetype": "text/x-python",
   "name": "python",
   "nbconvert_exporter": "python",
   "pygments_lexer": "ipython3",
   "version": "3.6.12"
  }
 },
 "nbformat": 4,
 "nbformat_minor": 5
}
