{
  "nbformat": 4,
  "nbformat_minor": 0,
  "metadata": {
    "colab": {
      "name": "average_optimizers_callback.ipynb",
      "provenance": [],
      "collapsed_sections": [
        "Tce3stUlHN0L"
      ],
      "toc_visible": true,
      "include_colab_link": true
    },
    "kernelspec": {
      "name": "python3",
      "display_name": "Python 3"
    },
    "language_info": {
      "codemirror_mode": {
        "name": "ipython",
        "version": 3
      },
      "file_extension": ".py",
      "mimetype": "text/x-python",
      "name": "python",
      "nbconvert_exporter": "python",
      "pygments_lexer": "ipython3",
      "version": "3.6.3"
    }
  },
  "cells": [
    {
      "cell_type": "markdown",
      "metadata": {
        "id": "view-in-github",
        "colab_type": "text"
      },
      "source": [
        "<a href=\"https://colab.research.google.com/github/abhichou4/addons/blob/tutorial%2FMovingAvg/average_optimizers_callback.ipynb\" target=\"_parent\"><img src=\"https://colab.research.google.com/assets/colab-badge.svg\" alt=\"Open In Colab\"/></a>"
      ]
    },
    {
      "cell_type": "markdown",
      "metadata": {
        "colab_type": "text",
        "id": "Tce3stUlHN0L"
      },
      "source": [
        "##### Copyright 2019 The TensorFlow Authors."
      ]
    },
    {
      "cell_type": "code",
      "metadata": {
        "cellView": "both",
        "colab_type": "code",
        "id": "tuOe1ymfHZPu",
        "colab": {}
      },
      "source": [
        "#@title Licensed under the Apache License, Version 2.0 (the \"License\");\n",
        "# you may not use this file except in compliance with the License.\n",
        "# You may obtain a copy of the License at\n",
        "#\n",
        "# https://www.apache.org/licenses/LICENSE-2.0\n",
        "#\n",
        "# Unless required by applicable law or agreed to in writing, software\n",
        "# distributed under the License is distributed on an \"AS IS\" BASIS,\n",
        "# WITHOUT WARRANTIES OR CONDITIONS OF ANY KIND, either express or implied.\n",
        "# See the License for the specific language governing permissions and\n",
        "# limitations under the License."
      ],
      "execution_count": 0,
      "outputs": []
    },
    {
      "cell_type": "markdown",
      "metadata": {
        "colab_type": "text",
        "id": "qFdPvlXBOdUN"
      },
      "source": [
        "# Title"
      ]
    },
    {
      "cell_type": "markdown",
      "metadata": {
        "colab_type": "text",
        "id": "MfBg1C5NB3X0"
      },
      "source": [
        "<table class=\"tfo-notebook-buttons\" align=\"left\">\n",
        "  <td>\n",
        "    <a target=\"_blank\" href=\"https://colab.research.google.com/github/abhichou4/addons/blob/tutorial/MovingAvg/docs/tutorials/optimizers_movingaverage.ipynb\"><img src=\"https://www.tensorflow.org/images/colab_logo_32px.png\"/>Run in Google Colab</a>\n",
        "  </td>\n",
        "  <td>\n",
        "    <a target=\"_blank\" href=\"https://github.com/abhichou4/addons/blob/tutorial/MovingAvg/docs/tutorials/optimizers_movingaverage.ipynb\"><img src=\"https://www.tensorflow.org/images/GitHub-Mark-32px.png\" />View source on GitHub</a>\n",
        "  </td>\n",
        "</table>"
      ]
    },
    {
      "cell_type": "markdown",
      "metadata": {
        "colab_type": "text",
        "id": "xHxb-dlhMIzW"
      },
      "source": [
        "## Overview\n",
        "\n",
        "This notebook demonstrates how to use Moving Average Optimizer along with the Model Average Checkpoint from tensorflow addons pagkage.\n",
        "\n",
        "\n"
      ]
    },
    {
      "cell_type": "markdown",
      "metadata": {
        "id": "o2UNySlpXkbl",
        "colab_type": "text"
      },
      "source": [
        "## Moving Averaging \n",
        "\n",
        "> The advantage of Moving Averaging is that they are less prone to rampant loss shifts or irregular data representation in the latest batch. It gives a smooothened and a more genral idea of the model training until some point.\n",
        "\n",
        "## Stocastic Averaging\n",
        "\n",
        "> Stocastic Weight Averaging converges to wider optimas. By doing so, it resembles geometric ensembeling. SWA is a simple method to improve model performance when used as a wrapper around other optimizers and averaging results from different points of trajectory of the inner optimizer.\n",
        "\n",
        "## Model Average Checkpoint \n",
        "\n",
        "> ```callbacks.ModelCheckpoint``` doesn't give you the option to save moving average weights in the middle of traning, which is why Model Average Optimizers required a custom callback. Using the ```update_weights``` parameter, ```ModelAverageCheckpoint``` allows you to:\n",
        "1.   Assign the moving average weights to the model, and save them.\n",
        "2.   Keep the old non-averaged weights, but the saved model uses the average weights."
      ]
    },
    {
      "cell_type": "markdown",
      "metadata": {
        "colab_type": "text",
        "id": "MUXex9ctTuDB"
      },
      "source": [
        "## Setup"
      ]
    },
    {
      "cell_type": "code",
      "metadata": {
        "colab_type": "code",
        "id": "IqR2PQG4ZaZ0",
        "colab": {}
      },
      "source": [
        "try:\n",
        "  %tensorflow_version 2.x\n",
        "except:\n",
        "  pass\n",
        "\n",
        "import tensorflow as tf"
      ],
      "execution_count": 0,
      "outputs": []
    },
    {
      "cell_type": "code",
      "metadata": {
        "id": "vc1eVXwjiFle",
        "colab_type": "code",
        "colab": {}
      },
      "source": [
        "!pip install --upgrade tfa-nightly\n",
        "\n",
        "import tensorflow_addons as tfa"
      ],
      "execution_count": 0,
      "outputs": []
    },
    {
      "cell_type": "code",
      "metadata": {
        "id": "4hnJ2rDpI38-",
        "colab_type": "code",
        "colab": {}
      },
      "source": [
        "import tensorflow_datasets as tfds\n",
        "import numpy as np\n",
        "from matplotlib import pyplot as plt\n",
        "import os"
      ],
      "execution_count": 0,
      "outputs": []
    },
    {
      "cell_type": "markdown",
      "metadata": {
        "id": "Iox_HZNNYLEB",
        "colab_type": "text"
      },
      "source": [
        "## Build Model "
      ]
    },
    {
      "cell_type": "code",
      "metadata": {
        "colab_type": "code",
        "id": "KtylpxOmceaC",
        "colab": {}
      },
      "source": [
        "def create_model(opt):\n",
        "  model = tf.keras.models.Sequential([\n",
        "    tf.keras.layers.Flatten(),                         \n",
        "    tf.keras.layers.Dense(64, activation='relu', name='dense_1'),\n",
        "    tf.keras.layers.Dense(64, activation='relu', name='dense_2'),\n",
        "    tf.keras.layers.Dense(10, activation='softmax')\n",
        "  ])\n",
        "\n",
        "  model.compile(optimizer=opt,\n",
        "                loss='sparse_categorical_crossentropy',\n",
        "                metrics=['accuracy'])\n",
        "\n",
        "  return model"
      ],
      "execution_count": 0,
      "outputs": []
    },
    {
      "cell_type": "markdown",
      "metadata": {
        "colab_type": "text",
        "id": "pwdM2pl3RSPb"
      },
      "source": [
        "## Prepare Dataset"
      ]
    },
    {
      "cell_type": "code",
      "metadata": {
        "colab_type": "code",
        "id": "mMOeXVmbdilM",
        "colab": {}
      },
      "source": [
        "#Load Fashion MNIST dataset\n",
        "train, test = tf.keras.datasets.fashion_mnist.load_data()\n",
        "\n",
        "images, labels = train\n",
        "images = images/255.0\n",
        "labels = labels.astype(np.int32)\n",
        "\n",
        "fmnist_train_ds = tf.data.Dataset.from_tensor_slices((images, labels))\n",
        "fmnist_train_ds = fmnist_train_ds.shuffle(5000).batch(32)\n",
        "\n",
        "test_images, test_labels = test"
      ],
      "execution_count": 0,
      "outputs": []
    },
    {
      "cell_type": "markdown",
      "metadata": {
        "id": "iEbhI_eajpJe",
        "colab_type": "text"
      },
      "source": [
        "We will be comparing three optimizers here:\n",
        "\n",
        "*   Unwrapped SGD\n",
        "*   SGD with Moving Average\n",
        "*   SGD with Stochastic Weight Averaging\n",
        "\n",
        "And see how they perform with the same model."
      ]
    },
    {
      "cell_type": "code",
      "metadata": {
        "id": "_Q76K1fNk7Va",
        "colab_type": "code",
        "colab": {}
      },
      "source": [
        "#Optimizers \n",
        "sgd = tf.keras.optimizers.SGD(0.01)\n",
        "moving_avg_sgd = tfa.optimizers.MovingAverage(sgd)\n",
        "stocastic_avg_sgd = tfa.optimizers.SWA(sgd)"
      ],
      "execution_count": 0,
      "outputs": []
    },
    {
      "cell_type": "markdown",
      "metadata": {
        "id": "nXlMX4p9qHwg",
        "colab_type": "text"
      },
      "source": [
        "Both ```MovingAverage``` and ```StocasticAverage``` optimers use ```ModelAverageCheckpoint```."
      ]
    },
    {
      "cell_type": "code",
      "metadata": {
        "id": "SnvZjt34qEHY",
        "colab_type": "code",
        "colab": {}
      },
      "source": [
        "#Callback \n",
        "checkpoint_path = \"./training/cp-{epoch:04d}.ckpt\"\n",
        "checkpoint_dir = os.path.dirname(checkpoint_path)\n",
        "\n",
        "cp_callback = tf.keras.callbacks.ModelCheckpoint(filepath=checkpoint_dir,\n",
        "                                                 save_weights_only=True,\n",
        "                                                 verbose=1)\n",
        "avg_callback = tfa.callbacks.average_model_checkpoint.AverageModelCheckpoint(filepath=checkpoint_dir, \n",
        "                                                                            update_weights=True)"
      ],
      "execution_count": 0,
      "outputs": []
    },
    {
      "cell_type": "markdown",
      "metadata": {
        "colab_type": "text",
        "id": "uabQmjMtRtzs"
      },
      "source": [
        "## Train Model\n"
      ]
    },
    {
      "cell_type": "markdown",
      "metadata": {
        "id": "SPmifETHmPix",
        "colab_type": "text"
      },
      "source": [
        "### Vanilla SGD Optimizer "
      ]
    },
    {
      "cell_type": "code",
      "metadata": {
        "id": "Xy8W4LYppadJ",
        "colab_type": "code",
        "colab": {}
      },
      "source": [
        "#Build Model\n",
        "model = create_model(sgd)\n",
        "\n",
        "#Train the network\n",
        "model.fit(fmnist_train_ds, epochs=5, callbacks=[cp_callback])"
      ],
      "execution_count": 0,
      "outputs": []
    },
    {
      "cell_type": "code",
      "metadata": {
        "id": "uU2iQ6HAZ6-E",
        "colab_type": "code",
        "colab": {}
      },
      "source": [
        "#Evalute results\n",
        "model.load_weights(checkpoint_dir)\n",
        "loss, accuracy = model.evaluate(test_images, test_labels, batch_size=32, verbose=2)\n",
        "print(\"Loss :\", loss)\n",
        "print(\"Accuracy :\", accuracy)"
      ],
      "execution_count": 0,
      "outputs": []
    },
    {
      "cell_type": "markdown",
      "metadata": {
        "id": "lAvhD4unmc6W",
        "colab_type": "text"
      },
      "source": [
        "### Moving Average SGD"
      ]
    },
    {
      "cell_type": "code",
      "metadata": {
        "id": "--NIjBp-mhVb",
        "colab_type": "code",
        "colab": {}
      },
      "source": [
        "#Build Model\n",
        "model = create_model(moving_avg_sgd)\n",
        "\n",
        "#Train the network\n",
        "model.fit(fmnist_train_ds, epochs=5, callbacks=[cp_callback])"
      ],
      "execution_count": 0,
      "outputs": []
    },
    {
      "cell_type": "code",
      "metadata": {
        "id": "zRAym9EBmnW9",
        "colab_type": "code",
        "colab": {}
      },
      "source": [
        "#Evalute results\n",
        "loss, accuracy = model.evaluate(test_images, test_labels, batch_size=32, verbose=2)\n",
        "print(\"Loss :\", loss)\n",
        "print(\"Accuracy :\", accuracy)"
      ],
      "execution_count": 0,
      "outputs": []
    },
    {
      "cell_type": "markdown",
      "metadata": {
        "id": "K98lbU07m_Bk",
        "colab_type": "text"
      },
      "source": [
        "### Stocastic Weight Average SGD "
      ]
    },
    {
      "cell_type": "code",
      "metadata": {
        "id": "Ia7ALKefnXWQ",
        "colab_type": "code",
        "colab": {}
      },
      "source": [
        "#Build Model\n",
        "model = create_model(stocastic_avg_sgd)\n",
        "\n",
        "#Train the network\n",
        "model.fit(fmnist_train_ds, epochs=5, callbacks=[cp_callback])"
      ],
      "execution_count": 0,
      "outputs": []
    },
    {
      "cell_type": "code",
      "metadata": {
        "id": "EOT2E9NBoeHI",
        "colab_type": "code",
        "colab": {}
      },
      "source": [
        "#Evalute results\n",
        "loss, accuracy = model.evaluate(test_images, test_labels, batch_size=32, verbose=2)\n",
        "print(\"Loss :\", loss)\n",
        "print(\"Accuracy :\", accuracy)"
      ],
      "execution_count": 0,
      "outputs": []
    }
  ]
}